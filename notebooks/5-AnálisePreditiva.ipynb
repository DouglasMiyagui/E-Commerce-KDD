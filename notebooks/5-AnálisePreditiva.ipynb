{
 "cells": [
  {
   "cell_type": "markdown",
   "metadata": {},
   "source": [
    "<center>\n",
    "  <font color=red size=10>5 - Análise Preditiva</font>\n",
    "</center>"
   ]
  },
  {
   "cell_type": "markdown",
   "metadata": {},
   "source": [
    "\n",
    " <font size=5>Esta fase envolve a construção de modelos preditivos em notebooks separados. Cada notebook se concentrará em um modelo específico, documentando detalhadamente o processo de treinamento, avaliação e otimização. Essa abordagem permite que os leitores compreendam o raciocínio por trás de cada modelo e avaliem os resultados individualmente.</font>\n"
   ]
  },
  {
   "cell_type": "markdown",
   "metadata": {},
   "source": [
    "# <font color=red>1 - Provisionamento</font>"
   ]
  },
  {
   "cell_type": "markdown",
   "metadata": {},
   "source": [
    "## 1.1 - Instalar e importar dependências"
   ]
  },
  {
   "cell_type": "markdown",
   "metadata": {},
   "source": [
    "As instalações das bibliotecas estão comentadas pois estão sendo instaladas em um ambiente virtual onde são executados os notebooks."
   ]
  },
  {
   "cell_type": "code",
   "execution_count": null,
   "metadata": {},
   "outputs": [],
   "source": [
    "# !pip install pandas==2.0.1\n",
    "# !pip install matplotlib==3.7.1\n",
    "# !pip install numpy==1.24.3\n",
    "# !pip install scikit-learn==1.3.1\n",
    "# !pip install seaborn==0.12.2\n",
    "# !pip install folium==0.14.0"
   ]
  },
  {
   "cell_type": "code",
   "execution_count": null,
   "metadata": {},
   "outputs": [],
   "source": [
    "import pandas as pd\n",
    "import numpy as np\n",
    "import matplotlib.pyplot as plt\n",
    "import matplotlib.colors as mcolors\n",
    "import seaborn as sns\n",
    "import sys\n",
    "import folium\n",
    "from folium import Marker\n",
    "from folium.plugins import MarkerCluster\n",
    "import random\n",
    "import time\n",
    "from matplotlib.cm import ScalarMappable"
   ]
  },
  {
   "cell_type": "code",
   "execution_count": null,
   "metadata": {},
   "outputs": [
    {
     "name": "stdout",
     "output_type": "stream",
     "text": [
      "Versão do python -> 3.10.6 (v3.10.6:9c7b4bd164, Aug  1 2022, 17:13:48) [Clang 13.0.0 (clang-1300.0.29.30)]\n",
      "Versão do pandas -> 2.0.1\n",
      "Versão do numpy -> 1.24.3\n",
      "Versão do matplotlib -> 3.7.1\n",
      "Versão do seaborn -> 0.12.2\n",
      "Versão do folium -> 0.14.0\n"
     ]
    }
   ],
   "source": [
    "print('Versão do python -> %s' % sys.version)\n",
    "print('Versão do pandas -> %s' % pd.__version__)\n",
    "print('Versão do numpy -> %s' % np.__version__)\n",
    "print('Versão do matplotlib -> %s' % plt.matplotlib.__version__)\n",
    "print('Versão do seaborn -> %s' % sns.__version__)\n",
    "print('Versão do folium -> %s' % folium.__version__)"
   ]
  },
  {
   "cell_type": "markdown",
   "metadata": {},
   "source": [
    "## 1.2 - Carregamento dos arquivos"
   ]
  },
  {
   "cell_type": "code",
   "execution_count": null,
   "metadata": {},
   "outputs": [],
   "source": [
    "pagamentos = pd.read_csv('../data/pagamentos.csv')\n",
    "avaliacoes = pd.read_csv('../data/avaliacoes.csv')\n",
    "relatorio_vendas = pd.read_csv('../data/relatorio_vendas.csv')"
   ]
  },
  {
   "cell_type": "markdown",
   "metadata": {},
   "source": [
    "## 1.3 - Transformar as colunas com datas para o formato datetime"
   ]
  },
  {
   "cell_type": "code",
   "execution_count": null,
   "metadata": {},
   "outputs": [],
   "source": [
    "colunas_data = ['data_limite_envio', 'data_compra', 'data_aprovacao_pedido', 'data_entrega_transportadora', 'data_entrega_cliente', 'data_estimada_entrega']\n",
    "for coluna in colunas_data:\n",
    "    relatorio_vendas[coluna] = pd.to_datetime(relatorio_vendas[coluna], format='ISO8601')"
   ]
  },
  {
   "cell_type": "code",
   "execution_count": null,
   "metadata": {},
   "outputs": [],
   "source": [
    "avaliacoes['avaliacao_data'] = pd.to_datetime(avaliacoes['avaliacao_data'], format='ISO8601')\n",
    "avaliacoes['avaliacao_data_resposta'] = pd.to_datetime(avaliacoes['avaliacao_data_resposta'], format='ISO8601')"
   ]
  }
 ],
 "metadata": {
  "language_info": {
   "name": "python"
  },
  "orig_nbformat": 4
 },
 "nbformat": 4,
 "nbformat_minor": 2
}
