{
  "cells": [
    {
      "cell_type": "markdown",
      "metadata": {
        "id": "hTeuIzRO2Tqp"
      },
      "source": [
        "\n",
        "<center>\n",
        "  <font color=red size=10>1 - Pré-Processamento</font>\n",
        "</center>\n"
      ]
    },
    {
      "cell_type": "markdown",
      "metadata": {
        "id": "jZxqFYs22TYv"
      },
      "source": [
        "<font size=5>Esta etapa é essencial, pois estabelece as bases para toda a análise subsequente. Será realizado o processo de limpeza de dados, tratamento de valores ausentes, criação de atributos  necessários para melhores análises, tratamento de strings, codificação de variáveis categóricas e normalização dos dados, assegurando que o conjunto de dados esteja preparado e de alta qualidade para análises subsequentes. O objetivo é criar um ambiente de dados confiável e consistente para explorar e modelar.</font>"
      ]
    },
    {
      "cell_type": "markdown",
      "metadata": {
        "id": "KoyuneYv0CaK"
      },
      "source": [
        "# <font color=red>1 - Provisionamento</font>"
      ]
    },
    {
      "cell_type": "markdown",
      "metadata": {
        "id": "nXhyAJetlDBH"
      },
      "source": [
        "## 1.1 - Instalar e importar dependências"
      ]
    },
    {
      "cell_type": "markdown",
      "metadata": {},
      "source": [
        "As instalações das bibliotecas estão comentadas pois estão sendo instaladas em um ambiente virtual onde são executados os notebooks."
      ]
    },
    {
      "cell_type": "code",
      "execution_count": 1,
      "metadata": {
        "colab": {
          "base_uri": "https://localhost:8080/"
        },
        "id": "tjlK4nhSUr5w",
        "outputId": "59f3ef38-2673-4ecd-ec0d-ec06856bd8c7"
      },
      "outputs": [],
      "source": [
        "# !pip install pandas==2.0.1\n",
        "# !pip install unidecode"
      ]
    },
    {
      "cell_type": "code",
      "execution_count": 2,
      "metadata": {
        "id": "ypnlVsksz-DW"
      },
      "outputs": [],
      "source": [
        "import pandas as pd\n",
        "import csv\n",
        "from unidecode import unidecode\n",
        "from sklearn.preprocessing import LabelEncoder\n",
        "import sys"
      ]
    },
    {
      "cell_type": "code",
      "execution_count": 3,
      "metadata": {
        "colab": {
          "base_uri": "https://localhost:8080/"
        },
        "id": "6AsAEpAGmtoG",
        "outputId": "ecb8fd16-3e6a-4a30-b861-f0976d9660ba"
      },
      "outputs": [
        {
          "name": "stdout",
          "output_type": "stream",
          "text": [
            "Versão do Python -> 3.10.6 (v3.10.6:9c7b4bd164, Aug  1 2022, 17:13:48) [Clang 13.0.0 (clang-1300.0.29.30)]\n",
            "Versão do pandas -> 2.0.1\n",
            "Versão do csv -> 1.0\n",
            "Versão do unidecode -> 1.3.6\n"
          ]
        }
      ],
      "source": [
        "print('Versão do Python -> %s' % sys.version)\n",
        "print('Versão do pandas -> %s' % pd.__version__)\n",
        "print('Versão do csv -> %s' % csv.__version__)\n",
        "print('Versão do unidecode -> 1.3.6')"
      ]
    },
    {
      "cell_type": "markdown",
      "metadata": {
        "id": "uqMMPYU1Zqpb"
      },
      "source": [
        "## 1.2 - Carregamentos dos arquivos"
      ]
    },
    {
      "cell_type": "code",
      "execution_count": 4,
      "metadata": {
        "id": "23o1S2M0W6mH"
      },
      "outputs": [],
      "source": [
        "geolocalizacao = pd.read_csv('../data/dados_brutos/olist_geolocation_dataset.csv')\n",
        "clientes = pd.read_csv('../data/dados_brutos/olist_customers_dataset.csv')\n",
        "vendedores = pd.read_csv('../data/dados_brutos/olist_sellers_dataset.csv')\n",
        "produtos = pd.read_csv('../data/dados_brutos/olist_products_dataset.csv')\n",
        "itens_pedidos = pd.read_csv('../data/dados_brutos/olist_order_items_dataset.csv')\n",
        "pedidos = pd.read_csv('../data/dados_brutos/olist_orders_dataset.csv')\n",
        "pagamentos = pd.read_csv('../data/dados_brutos/olist_order_payments_dataset.csv')\n",
        "avaliacoes = pd.read_csv('../data/dados_brutos/olist_order_reviews_dataset.csv')"
      ]
    },
    {
      "cell_type": "markdown",
      "metadata": {
        "id": "yiF2Dwy-mLuM"
      },
      "source": [
        "## 1.3 - Criar os mapeamentos que serão utilizados em mais de um DataFrame"
      ]
    },
    {
      "cell_type": "markdown",
      "metadata": {
        "id": "Q4tk0oQDbEAv"
      },
      "source": [
        "### 1.3.1 - Mapeamento dos CEPs, das latitudes e longitudes para serem inseridas nos DataFrames clientes e vendedores."
      ]
    },
    {
      "cell_type": "code",
      "execution_count": 5,
      "metadata": {
        "id": "MycLvxkFaJSL"
      },
      "outputs": [],
      "source": [
        "mapeamento_geolocalizacao = dict(zip(geolocalizacao['geolocation_zip_code_prefix'],\n",
        "                                     zip(geolocalizacao['geolocation_lat'],\n",
        "                                         geolocalizacao['geolocation_lng'])))"
      ]
    },
    {
      "cell_type": "markdown",
      "metadata": {
        "id": "C7QT20fMZglP"
      },
      "source": [
        "### 1.3.2 - Mapeamento do número de referência das cidades, salvar em arquivo csv, para transformar os dados qualitativos em numerais nos dataframes clientes e vendedores para posteriormente usar nos modelos de machine learning."
      ]
    },
    {
      "cell_type": "code",
      "execution_count": 6,
      "metadata": {
        "id": "19QqW37_qzWx"
      },
      "outputs": [],
      "source": [
        "# Tratando a inconsistência de um dado antes de gerar o mapeamento\n",
        "vendedores.loc[vendedores['seller_city'] == '04482255', 'seller_city'] = 'recreio dos bandeirantes'"
      ]
    },
    {
      "cell_type": "code",
      "execution_count": 7,
      "metadata": {
        "id": "ryyWd-MIPC42"
      },
      "outputs": [],
      "source": [
        "# Tratamento das inconsistências possíveis nas strings de cidades dos DataFrames clientes e vendedores\n",
        "clientes['customer_city'] = clientes['customer_city'].apply(lambda x: unidecode(x).replace('ç', 'c').lower().strip())\n",
        "vendedores['seller_city'] = vendedores['seller_city'].apply(lambda x: unidecode(x).replace('ç', 'c').lower().strip())"
      ]
    },
    {
      "cell_type": "code",
      "execution_count": 8,
      "metadata": {
        "id": "2drE1FBbqL52"
      },
      "outputs": [],
      "source": [
        "# Extrair cidades únicas dos DataFrames \"clientes\" e \"vendedores\"\n",
        "cidades_clientes = clientes['customer_city'].unique()\n",
        "cidades_vendedores = vendedores['seller_city'].unique()\n",
        "\n",
        "# Unir as listas de cidades únicas e remover duplicatas\n",
        "cidades_unicas = list(set().union(cidades_clientes, cidades_vendedores))\n",
        "\n",
        "# Ordenar as cidades em ordem alfabética\n",
        "cidades_unicas = sorted(cidades_unicas)\n",
        "\n",
        "# Criar um mapeamento de cidades com números de referência a partir do número 1\n",
        "mapeamento_cidades = {cidade: idx + 1 for idx, cidade in enumerate(cidades_unicas)}\n",
        "\n",
        "# Criar um DataFrame com o mapeamento\n",
        "df_mapeamento_cidades = pd.DataFrame(mapeamento_cidades.items(), columns=['cidade', 'referencia_cidade'])\n",
        "\n",
        "# Salvar o mapeamento em um arquivo CSV\n",
        "df_mapeamento_cidades.to_csv('../data/mapeamentos/cidades.csv', index=False)"
      ]
    },
    {
      "cell_type": "code",
      "execution_count": 9,
      "metadata": {
        "colab": {
          "base_uri": "https://localhost:8080/",
          "height": 424
        },
        "id": "ozoa8wepdPqr",
        "outputId": "cccc2015-b97a-4f5d-d20c-f006f43fd65b"
      },
      "outputs": [
        {
          "data": {
            "text/html": [
              "<div>\n",
              "<style scoped>\n",
              "    .dataframe tbody tr th:only-of-type {\n",
              "        vertical-align: middle;\n",
              "    }\n",
              "\n",
              "    .dataframe tbody tr th {\n",
              "        vertical-align: top;\n",
              "    }\n",
              "\n",
              "    .dataframe thead th {\n",
              "        text-align: right;\n",
              "    }\n",
              "</style>\n",
              "<table border=\"1\" class=\"dataframe\">\n",
              "  <thead>\n",
              "    <tr style=\"text-align: right;\">\n",
              "      <th></th>\n",
              "      <th>cidade</th>\n",
              "      <th>referencia_cidade</th>\n",
              "    </tr>\n",
              "  </thead>\n",
              "  <tbody>\n",
              "    <tr>\n",
              "      <th>0</th>\n",
              "      <td>abadia de goias</td>\n",
              "      <td>1</td>\n",
              "    </tr>\n",
              "    <tr>\n",
              "      <th>1</th>\n",
              "      <td>abadia dos dourados</td>\n",
              "      <td>2</td>\n",
              "    </tr>\n",
              "    <tr>\n",
              "      <th>2</th>\n",
              "      <td>abadiania</td>\n",
              "      <td>3</td>\n",
              "    </tr>\n",
              "    <tr>\n",
              "      <th>3</th>\n",
              "      <td>abaete</td>\n",
              "      <td>4</td>\n",
              "    </tr>\n",
              "    <tr>\n",
              "      <th>4</th>\n",
              "      <td>abaetetuba</td>\n",
              "      <td>5</td>\n",
              "    </tr>\n",
              "    <tr>\n",
              "      <th>...</th>\n",
              "      <td>...</td>\n",
              "      <td>...</td>\n",
              "    </tr>\n",
              "    <tr>\n",
              "      <th>4189</th>\n",
              "      <td>xinguara</td>\n",
              "      <td>4190</td>\n",
              "    </tr>\n",
              "    <tr>\n",
              "      <th>4190</th>\n",
              "      <td>xique-xique</td>\n",
              "      <td>4191</td>\n",
              "    </tr>\n",
              "    <tr>\n",
              "      <th>4191</th>\n",
              "      <td>zacarias</td>\n",
              "      <td>4192</td>\n",
              "    </tr>\n",
              "    <tr>\n",
              "      <th>4192</th>\n",
              "      <td>ze doca</td>\n",
              "      <td>4193</td>\n",
              "    </tr>\n",
              "    <tr>\n",
              "      <th>4193</th>\n",
              "      <td>zortea</td>\n",
              "      <td>4194</td>\n",
              "    </tr>\n",
              "  </tbody>\n",
              "</table>\n",
              "<p>4194 rows × 2 columns</p>\n",
              "</div>"
            ],
            "text/plain": [
              "                   cidade  referencia_cidade\n",
              "0         abadia de goias                  1\n",
              "1     abadia dos dourados                  2\n",
              "2               abadiania                  3\n",
              "3                  abaete                  4\n",
              "4              abaetetuba                  5\n",
              "...                   ...                ...\n",
              "4189             xinguara               4190\n",
              "4190          xique-xique               4191\n",
              "4191             zacarias               4192\n",
              "4192              ze doca               4193\n",
              "4193               zortea               4194\n",
              "\n",
              "[4194 rows x 2 columns]"
            ]
          },
          "execution_count": 9,
          "metadata": {},
          "output_type": "execute_result"
        }
      ],
      "source": [
        "df_mapeamento_cidades"
      ]
    },
    {
      "cell_type": "markdown",
      "metadata": {
        "id": "Ywa70Oyko6AK"
      },
      "source": [
        "### 1.3.3 - Mapeamento do número de referência dos estados, salvar em arquivo csv, para transformar os dados qualitativos em numerais nos dataframes clientes e vendedores para posteriormente usar nos modelos de machine learning."
      ]
    },
    {
      "cell_type": "code",
      "execution_count": 10,
      "metadata": {
        "id": "I1EwyvZmRWML"
      },
      "outputs": [],
      "source": [
        "# Tratamento das inconsistências possíveis nas strings de estados dos DataFrames clientes e vendedores\n",
        "clientes['customer_state'] = clientes['customer_state'].str.upper().str.strip()\n",
        "vendedores['seller_state'] = vendedores['seller_state'].str.upper().str.strip()"
      ]
    },
    {
      "cell_type": "code",
      "execution_count": 11,
      "metadata": {
        "id": "0Pc-YSQao68P"
      },
      "outputs": [],
      "source": [
        "# Extrair estados únicos dos DataFrames \"clientes\" e \"vendedores\"\n",
        "estados_clientes = clientes['customer_state'].unique()\n",
        "estados_vendedores = vendedores['seller_state'].unique()\n",
        "\n",
        "# Unir as listas de estados únicos e remover duplicatas\n",
        "estados_unicos = list(set().union(estados_clientes, estados_vendedores))\n",
        "\n",
        "# Ordenar os estados em ordem alfabética\n",
        "estados_unicos = sorted(estados_unicos)\n",
        "\n",
        "# Criar um mapeamento de estados com números de referência a partir do número 1\n",
        "mapeamento_estados = {estado: idx + 1 for idx, estado in enumerate(estados_unicos)}\n",
        "\n",
        "# Criar um DataFrame com o mapeamento\n",
        "df_mapeamento_estados = pd.DataFrame(mapeamento_estados.items(), columns=['estado', 'referencia_estado'])\n",
        "\n",
        "# Salvar o mapeamento em um arquivo CSV\n",
        "df_mapeamento_estados.to_csv('../data/mapeamentos/estados.csv', index=False)"
      ]
    },
    {
      "cell_type": "code",
      "execution_count": 12,
      "metadata": {
        "colab": {
          "base_uri": "https://localhost:8080/",
          "height": 896
        },
        "id": "LIhG6rQ7t1Fs",
        "outputId": "191873e7-abb1-455e-b626-7da46fbfaa32"
      },
      "outputs": [
        {
          "data": {
            "text/html": [
              "<div>\n",
              "<style scoped>\n",
              "    .dataframe tbody tr th:only-of-type {\n",
              "        vertical-align: middle;\n",
              "    }\n",
              "\n",
              "    .dataframe tbody tr th {\n",
              "        vertical-align: top;\n",
              "    }\n",
              "\n",
              "    .dataframe thead th {\n",
              "        text-align: right;\n",
              "    }\n",
              "</style>\n",
              "<table border=\"1\" class=\"dataframe\">\n",
              "  <thead>\n",
              "    <tr style=\"text-align: right;\">\n",
              "      <th></th>\n",
              "      <th>estado</th>\n",
              "      <th>referencia_estado</th>\n",
              "    </tr>\n",
              "  </thead>\n",
              "  <tbody>\n",
              "    <tr>\n",
              "      <th>0</th>\n",
              "      <td>AC</td>\n",
              "      <td>1</td>\n",
              "    </tr>\n",
              "    <tr>\n",
              "      <th>1</th>\n",
              "      <td>AL</td>\n",
              "      <td>2</td>\n",
              "    </tr>\n",
              "    <tr>\n",
              "      <th>2</th>\n",
              "      <td>AM</td>\n",
              "      <td>3</td>\n",
              "    </tr>\n",
              "    <tr>\n",
              "      <th>3</th>\n",
              "      <td>AP</td>\n",
              "      <td>4</td>\n",
              "    </tr>\n",
              "    <tr>\n",
              "      <th>4</th>\n",
              "      <td>BA</td>\n",
              "      <td>5</td>\n",
              "    </tr>\n",
              "    <tr>\n",
              "      <th>5</th>\n",
              "      <td>CE</td>\n",
              "      <td>6</td>\n",
              "    </tr>\n",
              "    <tr>\n",
              "      <th>6</th>\n",
              "      <td>DF</td>\n",
              "      <td>7</td>\n",
              "    </tr>\n",
              "    <tr>\n",
              "      <th>7</th>\n",
              "      <td>ES</td>\n",
              "      <td>8</td>\n",
              "    </tr>\n",
              "    <tr>\n",
              "      <th>8</th>\n",
              "      <td>GO</td>\n",
              "      <td>9</td>\n",
              "    </tr>\n",
              "    <tr>\n",
              "      <th>9</th>\n",
              "      <td>MA</td>\n",
              "      <td>10</td>\n",
              "    </tr>\n",
              "    <tr>\n",
              "      <th>10</th>\n",
              "      <td>MG</td>\n",
              "      <td>11</td>\n",
              "    </tr>\n",
              "    <tr>\n",
              "      <th>11</th>\n",
              "      <td>MS</td>\n",
              "      <td>12</td>\n",
              "    </tr>\n",
              "    <tr>\n",
              "      <th>12</th>\n",
              "      <td>MT</td>\n",
              "      <td>13</td>\n",
              "    </tr>\n",
              "    <tr>\n",
              "      <th>13</th>\n",
              "      <td>PA</td>\n",
              "      <td>14</td>\n",
              "    </tr>\n",
              "    <tr>\n",
              "      <th>14</th>\n",
              "      <td>PB</td>\n",
              "      <td>15</td>\n",
              "    </tr>\n",
              "    <tr>\n",
              "      <th>15</th>\n",
              "      <td>PE</td>\n",
              "      <td>16</td>\n",
              "    </tr>\n",
              "    <tr>\n",
              "      <th>16</th>\n",
              "      <td>PI</td>\n",
              "      <td>17</td>\n",
              "    </tr>\n",
              "    <tr>\n",
              "      <th>17</th>\n",
              "      <td>PR</td>\n",
              "      <td>18</td>\n",
              "    </tr>\n",
              "    <tr>\n",
              "      <th>18</th>\n",
              "      <td>RJ</td>\n",
              "      <td>19</td>\n",
              "    </tr>\n",
              "    <tr>\n",
              "      <th>19</th>\n",
              "      <td>RN</td>\n",
              "      <td>20</td>\n",
              "    </tr>\n",
              "    <tr>\n",
              "      <th>20</th>\n",
              "      <td>RO</td>\n",
              "      <td>21</td>\n",
              "    </tr>\n",
              "    <tr>\n",
              "      <th>21</th>\n",
              "      <td>RR</td>\n",
              "      <td>22</td>\n",
              "    </tr>\n",
              "    <tr>\n",
              "      <th>22</th>\n",
              "      <td>RS</td>\n",
              "      <td>23</td>\n",
              "    </tr>\n",
              "    <tr>\n",
              "      <th>23</th>\n",
              "      <td>SC</td>\n",
              "      <td>24</td>\n",
              "    </tr>\n",
              "    <tr>\n",
              "      <th>24</th>\n",
              "      <td>SE</td>\n",
              "      <td>25</td>\n",
              "    </tr>\n",
              "    <tr>\n",
              "      <th>25</th>\n",
              "      <td>SP</td>\n",
              "      <td>26</td>\n",
              "    </tr>\n",
              "    <tr>\n",
              "      <th>26</th>\n",
              "      <td>TO</td>\n",
              "      <td>27</td>\n",
              "    </tr>\n",
              "  </tbody>\n",
              "</table>\n",
              "</div>"
            ],
            "text/plain": [
              "   estado  referencia_estado\n",
              "0      AC                  1\n",
              "1      AL                  2\n",
              "2      AM                  3\n",
              "3      AP                  4\n",
              "4      BA                  5\n",
              "5      CE                  6\n",
              "6      DF                  7\n",
              "7      ES                  8\n",
              "8      GO                  9\n",
              "9      MA                 10\n",
              "10     MG                 11\n",
              "11     MS                 12\n",
              "12     MT                 13\n",
              "13     PA                 14\n",
              "14     PB                 15\n",
              "15     PE                 16\n",
              "16     PI                 17\n",
              "17     PR                 18\n",
              "18     RJ                 19\n",
              "19     RN                 20\n",
              "20     RO                 21\n",
              "21     RR                 22\n",
              "22     RS                 23\n",
              "23     SC                 24\n",
              "24     SE                 25\n",
              "25     SP                 26\n",
              "26     TO                 27"
            ]
          },
          "execution_count": 12,
          "metadata": {},
          "output_type": "execute_result"
        }
      ],
      "source": [
        "df_mapeamento_estados"
      ]
    },
    {
      "cell_type": "markdown",
      "metadata": {},
      "source": [
        "# <font color=red>2 - Produtos</font>"
      ]
    },
    {
      "cell_type": "markdown",
      "metadata": {},
      "source": [
        "## 2.1 - Renomear as colunas"
      ]
    },
    {
      "cell_type": "code",
      "execution_count": null,
      "metadata": {},
      "outputs": [
        {
          "name": "stdout",
          "output_type": "stream",
          "text": [
            "['product_id', 'product_category_name', 'product_name_lenght', 'product_description_lenght', 'product_photos_qty', 'product_weight_g', 'product_length_cm', 'product_height_cm', 'product_width_cm']\n"
          ]
        }
      ],
      "source": [
        "lista_colunas = produtos.columns.tolist()\n",
        "print(lista_colunas)"
      ]
    },
    {
      "cell_type": "code",
      "execution_count": null,
      "metadata": {},
      "outputs": [],
      "source": [
        "produtos.rename(columns={\n",
        "    'product_id': 'produto_id',\n",
        "    'product_category_name': 'produto_categoria',\n",
        "    'product_name_lenght': 'comprimento_nome_produto',\n",
        "    'product_description_lenght': 'comprimento_descricao_produto',\n",
        "    'product_photos_qty': 'quantidade_fotos_produto',\n",
        "    'product_weight_g': 'peso_produto_gramas',\n",
        "    'product_length_cm': 'comprimento_produto_cm',\n",
        "    'product_height_cm': 'altura_produto_cm',\n",
        "    'product_width_cm': 'largura_produto_cm'\n",
        "}, inplace=True)"
      ]
    },
    {
      "cell_type": "markdown",
      "metadata": {},
      "source": [
        "## 4.2 - Visão geral do conjunto de dados"
      ]
    },
    {
      "cell_type": "code",
      "execution_count": null,
      "metadata": {},
      "outputs": [
        {
          "data": {
            "text/html": [
              "<div>\n",
              "<style scoped>\n",
              "    .dataframe tbody tr th:only-of-type {\n",
              "        vertical-align: middle;\n",
              "    }\n",
              "\n",
              "    .dataframe tbody tr th {\n",
              "        vertical-align: top;\n",
              "    }\n",
              "\n",
              "    .dataframe thead th {\n",
              "        text-align: right;\n",
              "    }\n",
              "</style>\n",
              "<table border=\"1\" class=\"dataframe\">\n",
              "  <thead>\n",
              "    <tr style=\"text-align: right;\">\n",
              "      <th></th>\n",
              "      <th>produto_id</th>\n",
              "      <th>produto_categoria</th>\n",
              "      <th>comprimento_nome_produto</th>\n",
              "      <th>comprimento_descricao_produto</th>\n",
              "      <th>quantidade_fotos_produto</th>\n",
              "      <th>peso_produto_gramas</th>\n",
              "      <th>comprimento_produto_cm</th>\n",
              "      <th>altura_produto_cm</th>\n",
              "      <th>largura_produto_cm</th>\n",
              "    </tr>\n",
              "  </thead>\n",
              "  <tbody>\n",
              "    <tr>\n",
              "      <th>0</th>\n",
              "      <td>1e9e8ef04dbcff4541ed26657ea517e5</td>\n",
              "      <td>perfumaria</td>\n",
              "      <td>40.0</td>\n",
              "      <td>287.0</td>\n",
              "      <td>1.0</td>\n",
              "      <td>225.0</td>\n",
              "      <td>16.0</td>\n",
              "      <td>10.0</td>\n",
              "      <td>14.0</td>\n",
              "    </tr>\n",
              "    <tr>\n",
              "      <th>1</th>\n",
              "      <td>3aa071139cb16b67ca9e5dea641aaa2f</td>\n",
              "      <td>artes</td>\n",
              "      <td>44.0</td>\n",
              "      <td>276.0</td>\n",
              "      <td>1.0</td>\n",
              "      <td>1000.0</td>\n",
              "      <td>30.0</td>\n",
              "      <td>18.0</td>\n",
              "      <td>20.0</td>\n",
              "    </tr>\n",
              "    <tr>\n",
              "      <th>2</th>\n",
              "      <td>96bd76ec8810374ed1b65e291975717f</td>\n",
              "      <td>esporte_lazer</td>\n",
              "      <td>46.0</td>\n",
              "      <td>250.0</td>\n",
              "      <td>1.0</td>\n",
              "      <td>154.0</td>\n",
              "      <td>18.0</td>\n",
              "      <td>9.0</td>\n",
              "      <td>15.0</td>\n",
              "    </tr>\n",
              "    <tr>\n",
              "      <th>3</th>\n",
              "      <td>cef67bcfe19066a932b7673e239eb23d</td>\n",
              "      <td>bebes</td>\n",
              "      <td>27.0</td>\n",
              "      <td>261.0</td>\n",
              "      <td>1.0</td>\n",
              "      <td>371.0</td>\n",
              "      <td>26.0</td>\n",
              "      <td>4.0</td>\n",
              "      <td>26.0</td>\n",
              "    </tr>\n",
              "    <tr>\n",
              "      <th>4</th>\n",
              "      <td>9dc1a7de274444849c219cff195d0b71</td>\n",
              "      <td>utilidades_domesticas</td>\n",
              "      <td>37.0</td>\n",
              "      <td>402.0</td>\n",
              "      <td>4.0</td>\n",
              "      <td>625.0</td>\n",
              "      <td>20.0</td>\n",
              "      <td>17.0</td>\n",
              "      <td>13.0</td>\n",
              "    </tr>\n",
              "  </tbody>\n",
              "</table>\n",
              "</div>"
            ],
            "text/plain": [
              "                         produto_id      produto_categoria   \n",
              "0  1e9e8ef04dbcff4541ed26657ea517e5             perfumaria  \\\n",
              "1  3aa071139cb16b67ca9e5dea641aaa2f                  artes   \n",
              "2  96bd76ec8810374ed1b65e291975717f          esporte_lazer   \n",
              "3  cef67bcfe19066a932b7673e239eb23d                  bebes   \n",
              "4  9dc1a7de274444849c219cff195d0b71  utilidades_domesticas   \n",
              "\n",
              "   comprimento_nome_produto  comprimento_descricao_produto   \n",
              "0                      40.0                          287.0  \\\n",
              "1                      44.0                          276.0   \n",
              "2                      46.0                          250.0   \n",
              "3                      27.0                          261.0   \n",
              "4                      37.0                          402.0   \n",
              "\n",
              "   quantidade_fotos_produto  peso_produto_gramas  comprimento_produto_cm   \n",
              "0                       1.0                225.0                    16.0  \\\n",
              "1                       1.0               1000.0                    30.0   \n",
              "2                       1.0                154.0                    18.0   \n",
              "3                       1.0                371.0                    26.0   \n",
              "4                       4.0                625.0                    20.0   \n",
              "\n",
              "   altura_produto_cm  largura_produto_cm  \n",
              "0               10.0                14.0  \n",
              "1               18.0                20.0  \n",
              "2                9.0                15.0  \n",
              "3                4.0                26.0  \n",
              "4               17.0                13.0  "
            ]
          },
          "metadata": {},
          "output_type": "display_data"
        }
      ],
      "source": [
        "produtos.head()"
      ]
    },
    {
      "cell_type": "code",
      "execution_count": null,
      "metadata": {},
      "outputs": [
        {
          "name": "stdout",
          "output_type": "stream",
          "text": [
            "<class 'pandas.core.frame.DataFrame'>\n",
            "RangeIndex: 32951 entries, 0 to 32950\n",
            "Data columns (total 9 columns):\n",
            " #   Column                         Non-Null Count  Dtype  \n",
            "---  ------                         --------------  -----  \n",
            " 0   produto_id                     32951 non-null  object \n",
            " 1   produto_categoria              32341 non-null  object \n",
            " 2   comprimento_nome_produto       32341 non-null  float64\n",
            " 3   comprimento_descricao_produto  32341 non-null  float64\n",
            " 4   quantidade_fotos_produto       32341 non-null  float64\n",
            " 5   peso_produto_gramas            32949 non-null  float64\n",
            " 6   comprimento_produto_cm         32949 non-null  float64\n",
            " 7   altura_produto_cm              32949 non-null  float64\n",
            " 8   largura_produto_cm             32949 non-null  float64\n",
            "dtypes: float64(7), object(2)\n",
            "memory usage: 2.3+ MB\n",
            "None\n"
          ]
        }
      ],
      "source": [
        "print(produtos.info())"
      ]
    },
    {
      "cell_type": "markdown",
      "metadata": {},
      "source": [
        "Valores únicos em cada coluna:"
      ]
    },
    {
      "cell_type": "code",
      "execution_count": null,
      "metadata": {},
      "outputs": [
        {
          "data": {
            "text/plain": [
              "produto_id                       32951\n",
              "produto_categoria                   73\n",
              "comprimento_nome_produto            66\n",
              "comprimento_descricao_produto     2960\n",
              "quantidade_fotos_produto            19\n",
              "peso_produto_gramas               2204\n",
              "comprimento_produto_cm              99\n",
              "altura_produto_cm                  102\n",
              "largura_produto_cm                  95\n",
              "dtype: int64"
            ]
          },
          "metadata": {},
          "output_type": "display_data"
        }
      ],
      "source": [
        "produtos.nunique()"
      ]
    },
    {
      "cell_type": "markdown",
      "metadata": {},
      "source": [
        "Valores duplicados:"
      ]
    },
    {
      "cell_type": "code",
      "execution_count": null,
      "metadata": {},
      "outputs": [
        {
          "data": {
            "text/plain": [
              "0"
            ]
          },
          "metadata": {},
          "output_type": "display_data"
        }
      ],
      "source": [
        "produtos.duplicated().sum()"
      ]
    },
    {
      "cell_type": "markdown",
      "metadata": {},
      "source": [
        "Valores nulos em cada coluna:"
      ]
    },
    {
      "cell_type": "code",
      "execution_count": null,
      "metadata": {},
      "outputs": [
        {
          "name": "stdout",
          "output_type": "stream",
          "text": [
            "produto_id                         0\n",
            "produto_categoria                610\n",
            "comprimento_nome_produto         610\n",
            "comprimento_descricao_produto    610\n",
            "quantidade_fotos_produto         610\n",
            "peso_produto_gramas                2\n",
            "comprimento_produto_cm             2\n",
            "altura_produto_cm                  2\n",
            "largura_produto_cm                 2\n",
            "dtype: int64\n"
          ]
        }
      ],
      "source": [
        "print(produtos.isnull().sum())"
      ]
    },
    {
      "cell_type": "markdown",
      "metadata": {},
      "source": [
        "## 4.3 - Lidando com valores ausentes e criando a coluna produtos"
      ]
    },
    {
      "cell_type": "markdown",
      "metadata": {},
      "source": [
        "Não é conveniente apagar as linhas com dados nulos porque iria perder muitos dados das vendas feitas, como não há a possibilidade de recuperar esses dados e existem apenas 610 dados nulos em um lista de 32.949 lançamentos, a coluna categoria do produto será preenchida com o valor \"indefinido\" e os outros atributos após usá-los para criar a coluna produto serão excluídas, pois não serão relevantes nas análises e nos modelos."
      ]
    },
    {
      "cell_type": "code",
      "execution_count": null,
      "metadata": {},
      "outputs": [],
      "source": [
        "produtos['produto_categoria'].fillna(\"indefinido\", inplace=True)"
      ]
    },
    {
      "cell_type": "markdown",
      "metadata": {},
      "source": [
        "Será preenchido os restantes dos valores nulos das outras colunas por \"0\" para poder criar o atributo \"produto\" em seguida."
      ]
    },
    {
      "cell_type": "code",
      "execution_count": null,
      "metadata": {},
      "outputs": [],
      "source": [
        "produtos.fillna(0, inplace=True)"
      ]
    },
    {
      "cell_type": "markdown",
      "metadata": {},
      "source": [
        "## 4.4 - Criar o atributo \"produto\""
      ]
    },
    {
      "cell_type": "markdown",
      "metadata": {},
      "source": [
        "Será criado o atributo \"produto\" para poder usá-lo nas análises, para isso será levado em consideração que um produto que tenha os atributos ['produto_categoria', 'comprimento_nome_produto', 'comprimento_descricao_produto', 'quantidade_fotos_produto', 'peso_produto_gramas', 'comprimento_produto_cm', 'altura_produto_cm', 'largura_produto_cm'] com os mesmos valores é consequência de ser o mesmo produto, por isso, a coluna produto será criada com o valor da categoria do produto e a soma de todas as outras colunas."
      ]
    },
    {
      "cell_type": "code",
      "execution_count": null,
      "metadata": {},
      "outputs": [],
      "source": [
        "produtos['produto'] = produtos['produto_categoria'] + ' ' + (\n",
        "    produtos['comprimento_nome_produto'] +\n",
        "    produtos['comprimento_descricao_produto'] +\n",
        "    produtos['quantidade_fotos_produto'] +\n",
        "    produtos['peso_produto_gramas'] +\n",
        "    produtos['comprimento_produto_cm'] +\n",
        "    produtos['altura_produto_cm'] +\n",
        "    produtos['largura_produto_cm']\n",
        ").astype(int).astype(str)"
      ]
    },
    {
      "cell_type": "markdown",
      "metadata": {},
      "source": [
        "## 4.5 - Remover as colunas irrelevantes"
      ]
    },
    {
      "cell_type": "markdown",
      "metadata": {},
      "source": [
        "Agora que já foram usados os dados das colunas de pesos e medidas para identificar os produtos iguais, serão removidas as colunas que não serão usadas para as análises e para os modelos de machine learning."
      ]
    },
    {
      "cell_type": "code",
      "execution_count": null,
      "metadata": {},
      "outputs": [],
      "source": [
        "colunas_remover = ['comprimento_nome_produto', 'comprimento_descricao_produto', 'quantidade_fotos_produto', 'peso_produto_gramas', 'comprimento_produto_cm', 'altura_produto_cm', 'largura_produto_cm']\n",
        "produtos = produtos.drop(columns=colunas_remover)"
      ]
    },
    {
      "cell_type": "markdown",
      "metadata": {},
      "source": [
        "## 4.6 - Padronizar as categorias para uma melhor análise"
      ]
    },
    {
      "cell_type": "code",
      "execution_count": null,
      "metadata": {},
      "outputs": [
        {
          "data": {
            "text/plain": [
              "['perfumaria',\n",
              " 'artes',\n",
              " 'esporte_lazer',\n",
              " 'bebes',\n",
              " 'utilidades_domesticas',\n",
              " 'instrumentos_musicais',\n",
              " 'cool_stuff',\n",
              " 'moveis_decoracao',\n",
              " 'eletrodomesticos',\n",
              " 'brinquedos',\n",
              " 'cama_mesa_banho',\n",
              " 'construcao_ferramentas_seguranca',\n",
              " 'informatica_acessorios',\n",
              " 'beleza_saude',\n",
              " 'malas_acessorios',\n",
              " 'ferramentas_jardim',\n",
              " 'moveis_escritorio',\n",
              " 'automotivo',\n",
              " 'eletronicos',\n",
              " 'fashion_calcados',\n",
              " 'telefonia',\n",
              " 'papelaria',\n",
              " 'fashion_bolsas_e_acessorios',\n",
              " 'pcs',\n",
              " 'casa_construcao',\n",
              " 'relogios_presentes',\n",
              " 'construcao_ferramentas_construcao',\n",
              " 'pet_shop',\n",
              " 'eletroportateis',\n",
              " 'agro_industria_e_comercio',\n",
              " 'indefinido',\n",
              " 'moveis_sala',\n",
              " 'sinalizacao_e_seguranca',\n",
              " 'climatizacao',\n",
              " 'consoles_games',\n",
              " 'livros_interesse_geral',\n",
              " 'construcao_ferramentas_ferramentas',\n",
              " 'fashion_underwear_e_moda_praia',\n",
              " 'fashion_roupa_masculina',\n",
              " 'moveis_cozinha_area_de_servico_jantar_e_jardim',\n",
              " 'industria_comercio_e_negocios',\n",
              " 'telefonia_fixa',\n",
              " 'construcao_ferramentas_iluminacao',\n",
              " 'livros_tecnicos',\n",
              " 'eletrodomesticos_2',\n",
              " 'artigos_de_festas',\n",
              " 'bebidas',\n",
              " 'market_place',\n",
              " 'la_cuisine',\n",
              " 'construcao_ferramentas_jardim',\n",
              " 'fashion_roupa_feminina',\n",
              " 'casa_conforto',\n",
              " 'audio',\n",
              " 'alimentos_bebidas',\n",
              " 'musica',\n",
              " 'alimentos',\n",
              " 'tablets_impressao_imagem',\n",
              " 'livros_importados',\n",
              " 'portateis_casa_forno_e_cafe',\n",
              " 'fashion_esporte',\n",
              " 'artigos_de_natal',\n",
              " 'fashion_roupa_infanto_juvenil',\n",
              " 'dvds_blu_ray',\n",
              " 'artes_e_artesanato',\n",
              " 'pc_gamer',\n",
              " 'moveis_quarto',\n",
              " 'cine_foto',\n",
              " 'fraldas_higiene',\n",
              " 'flores',\n",
              " 'casa_conforto_2',\n",
              " 'portateis_cozinha_e_preparadores_de_alimentos',\n",
              " 'seguros_e_servicos',\n",
              " 'moveis_colchao_e_estofado',\n",
              " 'cds_dvds_musicais']"
            ]
          },
          "metadata": {},
          "output_type": "display_data"
        }
      ],
      "source": [
        "categorias_unicas = produtos['produto_categoria'].unique().tolist()\n",
        "categorias_unicas"
      ]
    },
    {
      "cell_type": "code",
      "execution_count": null,
      "metadata": {},
      "outputs": [],
      "source": [
        "mapeamento_categorias = {\n",
        "    'agro_industria_e_comercio': 'industria_comercio',\n",
        "    'alimentos': 'alimentos_bebidas',\n",
        "    'alimentos_bebidas': 'alimentos_bebidas',\n",
        "    'artes': 'artes_artesanatos',\n",
        "    'artes_e_artesanato': 'artes_artesanatos',\n",
        "    'artigos_de_festas': 'casa_decoracao',\n",
        "    'artigos_de_natal': 'casa_decoracao',\n",
        "    'audio': 'eletronicos',\n",
        "    'automotivo': 'automotivo',\n",
        "    'bebes': 'bebes',\n",
        "    'bebidas': 'alimentos_bebidas',\n",
        "    'beleza_saude': 'beleza_perfumaria',\n",
        "    'brinquedos': 'brinquedos',\n",
        "    'cama_mesa_banho': 'casa_decoracao',\n",
        "    'casa_conforto': 'casa_decoracao',\n",
        "    'casa_conforto_2': 'casa_decoracao',\n",
        "    'casa_construcao': 'construcao',\n",
        "    'cds_dvds_musicais': 'filmes_musica',\n",
        "    'cine_foto': 'eletronicos',\n",
        "    'climatizacao': 'eletrodomesticos',\n",
        "    'consoles_games': 'games',\n",
        "    'construcao_ferramentas_construcao': 'construcao',\n",
        "    'construcao_ferramentas_ferramentas': 'construcao',\n",
        "    'construcao_ferramentas_iluminacao': 'construcao',\n",
        "    'construcao_ferramentas_jardim': 'construcao',\n",
        "    'construcao_ferramentas_seguranca': 'construcao',\n",
        "    'cool_stuff': 'casa_decoracao',\n",
        "    'dvds_blu_ray': 'eletronicos',\n",
        "    'eletrodomesticos': 'eletrodomesticos',\n",
        "    'eletrodomesticos_2': 'eletrodomesticos',\n",
        "    'eletronicos': 'eletronicos',\n",
        "    'eletroportateis': 'eletronicos',\n",
        "    'esporte_lazer': 'esporte_lazer',\n",
        "    'fashion_bolsas_e_acessorios': 'bolsas_malas',\n",
        "    'fashion_calcados': 'roupas_calcados',\n",
        "    'fashion_esporte': 'roupas_calcados',\n",
        "    'fashion_roupa_feminina': 'roupas_calcados',\n",
        "    'fashion_roupa_infanto_juvenil': 'roupas_calcados',\n",
        "    'fashion_roupa_masculina': 'roupas_calcados',\n",
        "    'fashion_underwear_e_moda_praia': 'roupas_calcados',\n",
        "    'ferramentas_jardim': 'jardinagem',\n",
        "    'flores': 'jardinagem',\n",
        "    'fraldas_higiene': 'bebes',\n",
        "    'indefinido': 'outros',\n",
        "    'industria_comercio_e_negocios': 'industria_comercio',\n",
        "    'informatica_acessorios': 'informatica',\n",
        "    'instrumentos_musicais': 'filmes_musica',\n",
        "    'la_cuisine': 'casa_decoracao',\n",
        "    'livros_importados': 'livros',\n",
        "    'livros_interesse_geral': 'livros',\n",
        "    'livros_tecnicos': 'livros',\n",
        "    'malas_acessorios': 'bolsas_malas',\n",
        "    'market_place': 'outros',\n",
        "    'moveis_colchao_e_estofado': 'moveis',\n",
        "    'moveis_cozinha_area_de_servico_jantar_e_jardim': 'moveis',\n",
        "    'moveis_decoracao': 'moveis',\n",
        "    'moveis_escritorio': 'moveis',\n",
        "    'moveis_quarto': 'moveis',\n",
        "    'moveis_sala': 'moveis',\n",
        "    'musica': 'filmes_musica',\n",
        "    'papelaria': 'papelaria',\n",
        "    'pc_gamer': 'games',\n",
        "    'pcs': 'informatica',\n",
        "    'perfumaria': 'beleza_perfumaria',\n",
        "    'pet_shop': 'pet_shop',\n",
        "    'portateis_casa_forno_e_cafe': 'eletrodomesticos',\n",
        "    'portateis_cozinha_e_preparadores_de_alimentos': 'eletrodomesticos',\n",
        "    'relogios_presentes': 'relogios',\n",
        "    'seguros_e_servicos': 'industria_comercio',\n",
        "    'sinalizacao_e_seguranca': 'industria_comercio',\n",
        "    'tablets_impressao_imagem': 'informatica',\n",
        "    'telefonia': 'telefonia',\n",
        "    'telefonia_fixa': 'telefonia',\n",
        "    'utilidades_domesticas': 'casa_decoracao'\n",
        "}\n",
        "produtos['produto_categoria'] = produtos['produto_categoria'].map(mapeamento_categorias)"
      ]
    },
    {
      "cell_type": "markdown",
      "metadata": {},
      "source": [
        "## 4.7 - Codificação da variável \"produto_categoria\" em numéricos"
      ]
    },
    {
      "cell_type": "markdown",
      "metadata": {},
      "source": [
        "A coluna produtos não será convertida em numeral porque não será usado nos modelos de machine learning pela falta de exatidão do dado, então, só será convertida a coluna produto_categoria."
      ]
    },
    {
      "cell_type": "code",
      "execution_count": null,
      "metadata": {},
      "outputs": [],
      "source": [
        "categorias = produtos['produto_categoria']\n",
        "lencoder = LabelEncoder()\n",
        "categorias_numeros = lencoder.fit_transform(categorias)\n",
        "produtos['produto_categoria_ref'] = categorias_numeros"
      ]
    },
    {
      "cell_type": "code",
      "execution_count": null,
      "metadata": {},
      "outputs": [],
      "source": [
        "# Salvar o mapeamento em um arquivo CSV\n",
        "mapeamento_df = pd.DataFrame({'produto_categoria': categorias, 'produto_categoria_ref': categorias_numeros})\n",
        "mapeamento_df.to_csv('../data/mapeamentos/categorias.csv', index=False)"
      ]
    },
    {
      "cell_type": "markdown",
      "metadata": {},
      "source": [
        "## 4.8 - DataFrame produtos após tratamento"
      ]
    },
    {
      "cell_type": "code",
      "execution_count": null,
      "metadata": {},
      "outputs": [
        {
          "data": {
            "text/html": [
              "<div>\n",
              "<style scoped>\n",
              "    .dataframe tbody tr th:only-of-type {\n",
              "        vertical-align: middle;\n",
              "    }\n",
              "\n",
              "    .dataframe tbody tr th {\n",
              "        vertical-align: top;\n",
              "    }\n",
              "\n",
              "    .dataframe thead th {\n",
              "        text-align: right;\n",
              "    }\n",
              "</style>\n",
              "<table border=\"1\" class=\"dataframe\">\n",
              "  <thead>\n",
              "    <tr style=\"text-align: right;\">\n",
              "      <th></th>\n",
              "      <th>produto_id</th>\n",
              "      <th>produto_categoria</th>\n",
              "      <th>produto</th>\n",
              "      <th>produto_categoria_ref</th>\n",
              "    </tr>\n",
              "  </thead>\n",
              "  <tbody>\n",
              "    <tr>\n",
              "      <th>0</th>\n",
              "      <td>1e9e8ef04dbcff4541ed26657ea517e5</td>\n",
              "      <td>beleza_perfumaria</td>\n",
              "      <td>perfumaria 593</td>\n",
              "      <td>4</td>\n",
              "    </tr>\n",
              "    <tr>\n",
              "      <th>1</th>\n",
              "      <td>3aa071139cb16b67ca9e5dea641aaa2f</td>\n",
              "      <td>artes_artesanatos</td>\n",
              "      <td>artes 1389</td>\n",
              "      <td>1</td>\n",
              "    </tr>\n",
              "    <tr>\n",
              "      <th>2</th>\n",
              "      <td>96bd76ec8810374ed1b65e291975717f</td>\n",
              "      <td>esporte_lazer</td>\n",
              "      <td>esporte_lazer 493</td>\n",
              "      <td>11</td>\n",
              "    </tr>\n",
              "    <tr>\n",
              "      <th>3</th>\n",
              "      <td>cef67bcfe19066a932b7673e239eb23d</td>\n",
              "      <td>bebes</td>\n",
              "      <td>bebes 716</td>\n",
              "      <td>3</td>\n",
              "    </tr>\n",
              "    <tr>\n",
              "      <th>4</th>\n",
              "      <td>9dc1a7de274444849c219cff195d0b71</td>\n",
              "      <td>casa_decoracao</td>\n",
              "      <td>utilidades_domesticas 1118</td>\n",
              "      <td>7</td>\n",
              "    </tr>\n",
              "  </tbody>\n",
              "</table>\n",
              "</div>"
            ],
            "text/plain": [
              "                         produto_id  produto_categoria   \n",
              "0  1e9e8ef04dbcff4541ed26657ea517e5  beleza_perfumaria  \\\n",
              "1  3aa071139cb16b67ca9e5dea641aaa2f  artes_artesanatos   \n",
              "2  96bd76ec8810374ed1b65e291975717f      esporte_lazer   \n",
              "3  cef67bcfe19066a932b7673e239eb23d              bebes   \n",
              "4  9dc1a7de274444849c219cff195d0b71     casa_decoracao   \n",
              "\n",
              "                      produto  produto_categoria_ref  \n",
              "0              perfumaria 593                      4  \n",
              "1                  artes 1389                      1  \n",
              "2           esporte_lazer 493                     11  \n",
              "3                   bebes 716                      3  \n",
              "4  utilidades_domesticas 1118                      7  "
            ]
          },
          "metadata": {},
          "output_type": "display_data"
        }
      ],
      "source": [
        "produtos.head()"
      ]
    },
    {
      "cell_type": "code",
      "execution_count": null,
      "metadata": {},
      "outputs": [
        {
          "name": "stdout",
          "output_type": "stream",
          "text": [
            "<class 'pandas.core.frame.DataFrame'>\n",
            "RangeIndex: 32951 entries, 0 to 32950\n",
            "Data columns (total 4 columns):\n",
            " #   Column                 Non-Null Count  Dtype \n",
            "---  ------                 --------------  ----- \n",
            " 0   produto_id             32951 non-null  object\n",
            " 1   produto_categoria      32951 non-null  object\n",
            " 2   produto                32951 non-null  object\n",
            " 3   produto_categoria_ref  32951 non-null  int64 \n",
            "dtypes: int64(1), object(3)\n",
            "memory usage: 1.0+ MB\n"
          ]
        }
      ],
      "source": [
        "produtos.info()"
      ]
    },
    {
      "cell_type": "code",
      "execution_count": null,
      "metadata": {},
      "outputs": [
        {
          "data": {
            "text/plain": [
              "produto_id               0\n",
              "produto_categoria        0\n",
              "produto                  0\n",
              "produto_categoria_ref    0\n",
              "dtype: int64"
            ]
          },
          "metadata": {},
          "output_type": "display_data"
        }
      ],
      "source": [
        "produtos.isnull().sum()"
      ]
    },
    {
      "cell_type": "code",
      "execution_count": null,
      "metadata": {},
      "outputs": [
        {
          "data": {
            "text/plain": [
              "0"
            ]
          },
          "metadata": {},
          "output_type": "display_data"
        }
      ],
      "source": [
        "produtos.duplicated().sum()"
      ]
    },
    {
      "cell_type": "markdown",
      "metadata": {
        "id": "fd4hJKw20sQ7"
      },
      "source": [
        "# <font color=red>3 - Vendedores</font>"
      ]
    },
    {
      "cell_type": "markdown",
      "metadata": {
        "id": "CykfkZAO1HVu"
      },
      "source": [
        "## 3.1 - Renomear as colunas"
      ]
    },
    {
      "cell_type": "code",
      "execution_count": 44,
      "metadata": {
        "colab": {
          "base_uri": "https://localhost:8080/"
        },
        "id": "TCKkeum41KFq",
        "outputId": "67e8bbd5-248d-4640-f2c3-2e39a9cef028"
      },
      "outputs": [
        {
          "name": "stdout",
          "output_type": "stream",
          "text": [
            "['seller_id', 'seller_zip_code_prefix', 'seller_city', 'seller_state']\n"
          ]
        }
      ],
      "source": [
        "lista_colunas = vendedores.columns.tolist()\n",
        "print(lista_colunas)"
      ]
    },
    {
      "cell_type": "code",
      "execution_count": 45,
      "metadata": {
        "id": "5FTxvRi14i_8"
      },
      "outputs": [],
      "source": [
        "vendedores.rename(columns={\n",
        "    'seller_id': 'vendedor_id',\n",
        "    'seller_zip_code_prefix': 'vendedor_cep',\n",
        "    'seller_city': 'vendedor_cidade',\n",
        "    'seller_state': 'vendedor_estado'\n",
        "}, inplace=True)"
      ]
    },
    {
      "cell_type": "markdown",
      "metadata": {
        "id": "V-r7c_uGoC10"
      },
      "source": [
        "## 3.2 - Criação dos atributos de \"geolocalização\" e \"vendedor\""
      ]
    },
    {
      "cell_type": "markdown",
      "metadata": {},
      "source": [
        "Criar as colunas com as geolocalizações para futuramente poder plotar mapas de localização dos vendedores"
      ]
    },
    {
      "cell_type": "code",
      "execution_count": 46,
      "metadata": {
        "id": "AFF71RFloDk0"
      },
      "outputs": [],
      "source": [
        "vendedores['vendedor_lat'], vendedores['vendedor_lon'] = zip(*vendedores['vendedor_cep'].apply(lambda cep: mapeamento_geolocalizacao.get(cep, (None, None))))"
      ]
    },
    {
      "cell_type": "markdown",
      "metadata": {},
      "source": [
        "Será criada o atributo vendedor compondo a cidade e o estado onde o cliente está localizado e os seis primeiros números do id criando assim uma identificação única para cada vendedor e melhorar a visualização nas análises."
      ]
    },
    {
      "cell_type": "code",
      "execution_count": 47,
      "metadata": {},
      "outputs": [
        {
          "data": {
            "text/plain": [
              "count                                 3095\n",
              "unique                                3095\n",
              "top       3442f8959a84dea7ee197c632cb2df15\n",
              "freq                                     1\n",
              "Name: vendedor_id, dtype: object"
            ]
          },
          "execution_count": 47,
          "metadata": {},
          "output_type": "execute_result"
        }
      ],
      "source": [
        "vendedores['vendedor_id'].describe()"
      ]
    },
    {
      "cell_type": "code",
      "execution_count": 48,
      "metadata": {},
      "outputs": [],
      "source": [
        "vendedores['vendedor'] = vendedores['vendedor_cidade'] + '-' + vendedores['vendedor_estado'] + '-' + vendedores['vendedor_id'].str[:6]"
      ]
    },
    {
      "cell_type": "code",
      "execution_count": 49,
      "metadata": {},
      "outputs": [
        {
          "data": {
            "text/plain": [
              "count                   3095\n",
              "unique                  3095\n",
              "top       campinas-SP-3442f8\n",
              "freq                       1\n",
              "Name: vendedor, dtype: object"
            ]
          },
          "execution_count": 49,
          "metadata": {},
          "output_type": "execute_result"
        }
      ],
      "source": [
        "vendedores['vendedor'].describe()"
      ]
    },
    {
      "cell_type": "markdown",
      "metadata": {},
      "source": [
        "**Observação:** O atributo \"vendedor_id\" contém 3095 valores únicos e o novo atributo \"vendedor\" com apenas a concatenação dos seis primeiros digitos do id, também contém 3095 valores únicos, ou seja, o atributo \"vendedor\" será usado para identificar os vendedores no lugar do atributo \"vendedor_id\" obtendo assim uma melhor visualização e compreenção das análises."
      ]
    },
    {
      "cell_type": "code",
      "execution_count": 50,
      "metadata": {},
      "outputs": [
        {
          "name": "stdout",
          "output_type": "stream",
          "text": [
            "0                campinas-SP-3442f8\n",
            "1              mogi guacu-SP-d1b65f\n",
            "2          rio de janeiro-RJ-ce3ad9\n",
            "3               sao paulo-SP-c0f3ee\n",
            "4       braganca paulista-SP-51a04a\n",
            "                   ...             \n",
            "3090              sarandi-PR-98dddb\n",
            "3091              palhoca-SC-f8201c\n",
            "3092            sao paulo-SP-74871d\n",
            "3093              pelotas-RS-e603cf\n",
            "3094              taubate-SP-9e2519\n",
            "Name: vendedor, Length: 3095, dtype: object\n"
          ]
        }
      ],
      "source": [
        "print(vendedores['vendedor'])"
      ]
    },
    {
      "cell_type": "markdown",
      "metadata": {
        "id": "orG0dgZl4v1z"
      },
      "source": [
        "## 3.3 - Visão geral do conjunto de dados"
      ]
    },
    {
      "cell_type": "code",
      "execution_count": 51,
      "metadata": {
        "colab": {
          "base_uri": "https://localhost:8080/",
          "height": 444
        },
        "id": "sYpqGdotoh3f",
        "outputId": "6a11d430-4613-48cf-842f-d14e7a46f1a4"
      },
      "outputs": [
        {
          "data": {
            "text/html": [
              "<div>\n",
              "<style scoped>\n",
              "    .dataframe tbody tr th:only-of-type {\n",
              "        vertical-align: middle;\n",
              "    }\n",
              "\n",
              "    .dataframe tbody tr th {\n",
              "        vertical-align: top;\n",
              "    }\n",
              "\n",
              "    .dataframe thead th {\n",
              "        text-align: right;\n",
              "    }\n",
              "</style>\n",
              "<table border=\"1\" class=\"dataframe\">\n",
              "  <thead>\n",
              "    <tr style=\"text-align: right;\">\n",
              "      <th></th>\n",
              "      <th>vendedor_id</th>\n",
              "      <th>vendedor_cep</th>\n",
              "      <th>vendedor_cidade</th>\n",
              "      <th>vendedor_estado</th>\n",
              "      <th>vendedor_lat</th>\n",
              "      <th>vendedor_lon</th>\n",
              "      <th>vendedor</th>\n",
              "    </tr>\n",
              "  </thead>\n",
              "  <tbody>\n",
              "    <tr>\n",
              "      <th>0</th>\n",
              "      <td>3442f8959a84dea7ee197c632cb2df15</td>\n",
              "      <td>13023</td>\n",
              "      <td>campinas</td>\n",
              "      <td>SP</td>\n",
              "      <td>-22.899471</td>\n",
              "      <td>-47.064267</td>\n",
              "      <td>campinas-SP-3442f8</td>\n",
              "    </tr>\n",
              "    <tr>\n",
              "      <th>1</th>\n",
              "      <td>d1b65fc7debc3361ea86b5f14c68d2e2</td>\n",
              "      <td>13844</td>\n",
              "      <td>mogi guacu</td>\n",
              "      <td>SP</td>\n",
              "      <td>-22.374632</td>\n",
              "      <td>-46.941224</td>\n",
              "      <td>mogi guacu-SP-d1b65f</td>\n",
              "    </tr>\n",
              "    <tr>\n",
              "      <th>2</th>\n",
              "      <td>ce3ad9de960102d0677a81f5d0bb7b2d</td>\n",
              "      <td>20031</td>\n",
              "      <td>rio de janeiro</td>\n",
              "      <td>RJ</td>\n",
              "      <td>-22.907863</td>\n",
              "      <td>-43.175693</td>\n",
              "      <td>rio de janeiro-RJ-ce3ad9</td>\n",
              "    </tr>\n",
              "    <tr>\n",
              "      <th>3</th>\n",
              "      <td>c0f3eea2e14555b6faeea3dd58c1b1c3</td>\n",
              "      <td>4195</td>\n",
              "      <td>sao paulo</td>\n",
              "      <td>SP</td>\n",
              "      <td>-23.656354</td>\n",
              "      <td>-46.610917</td>\n",
              "      <td>sao paulo-SP-c0f3ee</td>\n",
              "    </tr>\n",
              "    <tr>\n",
              "      <th>4</th>\n",
              "      <td>51a04a8a6bdcb23deccc82b0b80742cf</td>\n",
              "      <td>12914</td>\n",
              "      <td>braganca paulista</td>\n",
              "      <td>SP</td>\n",
              "      <td>-22.958423</td>\n",
              "      <td>-46.534450</td>\n",
              "      <td>braganca paulista-SP-51a04a</td>\n",
              "    </tr>\n",
              "  </tbody>\n",
              "</table>\n",
              "</div>"
            ],
            "text/plain": [
              "                        vendedor_id  vendedor_cep    vendedor_cidade   \n",
              "0  3442f8959a84dea7ee197c632cb2df15         13023           campinas  \\\n",
              "1  d1b65fc7debc3361ea86b5f14c68d2e2         13844         mogi guacu   \n",
              "2  ce3ad9de960102d0677a81f5d0bb7b2d         20031     rio de janeiro   \n",
              "3  c0f3eea2e14555b6faeea3dd58c1b1c3          4195          sao paulo   \n",
              "4  51a04a8a6bdcb23deccc82b0b80742cf         12914  braganca paulista   \n",
              "\n",
              "  vendedor_estado  vendedor_lat  vendedor_lon                     vendedor  \n",
              "0              SP    -22.899471    -47.064267           campinas-SP-3442f8  \n",
              "1              SP    -22.374632    -46.941224         mogi guacu-SP-d1b65f  \n",
              "2              RJ    -22.907863    -43.175693     rio de janeiro-RJ-ce3ad9  \n",
              "3              SP    -23.656354    -46.610917          sao paulo-SP-c0f3ee  \n",
              "4              SP    -22.958423    -46.534450  braganca paulista-SP-51a04a  "
            ]
          },
          "execution_count": 51,
          "metadata": {},
          "output_type": "execute_result"
        }
      ],
      "source": [
        "vendedores.head()\n"
      ]
    },
    {
      "cell_type": "code",
      "execution_count": 52,
      "metadata": {
        "colab": {
          "base_uri": "https://localhost:8080/"
        },
        "id": "nCf0Pw1o42xi",
        "outputId": "277a0a6b-9245-4d50-ca12-fb50ae519eaf"
      },
      "outputs": [
        {
          "name": "stdout",
          "output_type": "stream",
          "text": [
            "<class 'pandas.core.frame.DataFrame'>\n",
            "RangeIndex: 3095 entries, 0 to 3094\n",
            "Data columns (total 7 columns):\n",
            " #   Column           Non-Null Count  Dtype  \n",
            "---  ------           --------------  -----  \n",
            " 0   vendedor_id      3095 non-null   object \n",
            " 1   vendedor_cep     3095 non-null   int64  \n",
            " 2   vendedor_cidade  3095 non-null   object \n",
            " 3   vendedor_estado  3095 non-null   object \n",
            " 4   vendedor_lat     3088 non-null   float64\n",
            " 5   vendedor_lon     3088 non-null   float64\n",
            " 6   vendedor         3095 non-null   object \n",
            "dtypes: float64(2), int64(1), object(4)\n",
            "memory usage: 169.4+ KB\n",
            "None\n"
          ]
        }
      ],
      "source": [
        "print(vendedores.info())"
      ]
    },
    {
      "cell_type": "markdown",
      "metadata": {
        "id": "I-f7FWi-YZkM"
      },
      "source": [
        "Valores únicos em cada coluna:"
      ]
    },
    {
      "cell_type": "code",
      "execution_count": 53,
      "metadata": {
        "colab": {
          "base_uri": "https://localhost:8080/"
        },
        "id": "QvKhx5ep48iO",
        "outputId": "8de81f28-76e1-482a-96a1-65d29df1d867"
      },
      "outputs": [
        {
          "name": "stdout",
          "output_type": "stream",
          "text": [
            "vendedor_id        3095\n",
            "vendedor_cep       2246\n",
            "vendedor_cidade     609\n",
            "vendedor_estado      23\n",
            "vendedor_lat       2239\n",
            "vendedor_lon       2239\n",
            "vendedor           3095\n",
            "dtype: int64\n"
          ]
        }
      ],
      "source": [
        "print(vendedores.nunique())"
      ]
    },
    {
      "cell_type": "markdown",
      "metadata": {
        "id": "aDdplBOz5OVF"
      },
      "source": [
        "Valores duplicados:"
      ]
    },
    {
      "cell_type": "code",
      "execution_count": 54,
      "metadata": {
        "colab": {
          "base_uri": "https://localhost:8080/"
        },
        "id": "QvFx4FpE5QuF",
        "outputId": "22c561b1-3b16-4912-bc2c-eb9f0f31e372"
      },
      "outputs": [
        {
          "data": {
            "text/plain": [
              "0"
            ]
          },
          "execution_count": 54,
          "metadata": {},
          "output_type": "execute_result"
        }
      ],
      "source": [
        "vendedores.duplicated().sum()"
      ]
    },
    {
      "cell_type": "markdown",
      "metadata": {
        "id": "i44x6NCBZwEI"
      },
      "source": [
        "Valores nulos em cada coluna:"
      ]
    },
    {
      "cell_type": "code",
      "execution_count": 55,
      "metadata": {
        "colab": {
          "base_uri": "https://localhost:8080/"
        },
        "id": "6AJ0nn-47qPU",
        "outputId": "f96a4fe3-ec12-4e38-f41a-bdbade7edf18"
      },
      "outputs": [
        {
          "data": {
            "text/plain": [
              "vendedor_id        0\n",
              "vendedor_cep       0\n",
              "vendedor_cidade    0\n",
              "vendedor_estado    0\n",
              "vendedor_lat       7\n",
              "vendedor_lon       7\n",
              "vendedor           0\n",
              "dtype: int64"
            ]
          },
          "execution_count": 55,
          "metadata": {},
          "output_type": "execute_result"
        }
      ],
      "source": [
        "vendedores.isnull().sum()"
      ]
    },
    {
      "cell_type": "markdown",
      "metadata": {
        "id": "n5YUcu6w5bQK"
      },
      "source": [
        "## 3.4 - Lidando com valores ausentes nas colunas de latitudes e longitudes"
      ]
    },
    {
      "cell_type": "markdown",
      "metadata": {
        "id": "PzB-NgUpA67r"
      },
      "source": [
        "Para tratar os dados nulos de latitude e longitude, será colocado os dados da mesma cidade ignorando a exatidão de localização do CEP."
      ]
    },
    {
      "cell_type": "code",
      "execution_count": 56,
      "metadata": {
        "id": "7KirTP458FTO"
      },
      "outputs": [],
      "source": [
        "# Criar um DataFrame com informações únicas de cidade, latitude e longitude\n",
        "cidades_info = vendedores[['vendedor_cidade', 'vendedor_lat', 'vendedor_lon']].drop_duplicates()\n",
        "\n",
        "# Remover cidades duplicadas aleatoriamente para manter apenas uma referência única para cada cidade\n",
        "cidades_info = cidades_info.sample(frac=1).drop_duplicates(subset='vendedor_cidade')\n",
        "\n",
        "# Criar um dicionário de mapeamento de cidades com latitudes e longitudes\n",
        "mapeamento_cidades_vendedores = dict(zip(cidades_info['vendedor_cidade'], zip(cidades_info['vendedor_lat'], cidades_info['vendedor_lon'])))"
      ]
    },
    {
      "cell_type": "code",
      "execution_count": 57,
      "metadata": {
        "id": "Iy85PKI5A67s"
      },
      "outputs": [],
      "source": [
        "# Preencher valores nulos nas colunas \"vendedor_lat\" e \"vendedor_lon\" usando o mapeamento de cidades dos vendedores\n",
        "vendedores['vendedor_lat'] = vendedores['vendedor_lat'].fillna(vendedores['vendedor_cidade'].map(lambda cidade: mapeamento_cidades_vendedores.get(cidade, (None, None))[0]))\n",
        "vendedores['vendedor_lon'] = vendedores['vendedor_lon'].fillna(vendedores['vendedor_cidade'].map(lambda cidade: mapeamento_cidades_vendedores.get(cidade, (None, None))[0]))\n"
      ]
    },
    {
      "cell_type": "code",
      "execution_count": 58,
      "metadata": {
        "colab": {
          "base_uri": "https://localhost:8080/"
        },
        "id": "NDbZ0_1l7yV3",
        "outputId": "c2828c47-f486-4feb-dbf0-6860a9c1e48d"
      },
      "outputs": [
        {
          "data": {
            "text/plain": [
              "vendedor_id        0\n",
              "vendedor_cep       0\n",
              "vendedor_cidade    0\n",
              "vendedor_estado    0\n",
              "vendedor_lat       1\n",
              "vendedor_lon       1\n",
              "vendedor           0\n",
              "dtype: int64"
            ]
          },
          "execution_count": 58,
          "metadata": {},
          "output_type": "execute_result"
        }
      ],
      "source": [
        "vendedores.isnull().sum()"
      ]
    },
    {
      "cell_type": "markdown",
      "metadata": {
        "id": "zC1_yZ9z7x0C"
      },
      "source": [
        "Após fazer o tratamento dos dados nulos inserindo latitudes e longetudes referente a cidade, dos 7 dados nulos foi identificado 1 registros sem referência específica para suas cidades. Para evitar a perda desses dados em visualizações gráficas, será usado coordenadas aleatórias correspondentes aos seus respectivos estados."
      ]
    },
    {
      "cell_type": "code",
      "execution_count": 59,
      "metadata": {
        "id": "aOKnom97-T_t"
      },
      "outputs": [],
      "source": [
        "# Criar um DataFrame com informações únicas de estado, latitude e longitude\n",
        "estados_info = vendedores[['vendedor_estado', 'vendedor_lat', 'vendedor_lon']].drop_duplicates()\n",
        "\n",
        "# Remover estados duplicados aleatoriamente para manter apenas uma referência única para cada estado\n",
        "estados_info = estados_info.sample(frac=1).drop_duplicates(subset='vendedor_estado')\n",
        "\n",
        "# Criar um dicionário de mapeamento de estados com latitudes e longitudes\n",
        "mapeamento_estados_vendedores = dict(zip(estados_info['vendedor_estado'], zip(estados_info['vendedor_lat'], estados_info['vendedor_lon'])))\n",
        "\n",
        "# Preencher valores nulos nas colunas \"cliente_lat\" e \"cliente_lon\" usando o mapeamento de estados\n",
        "vendedores['vendedor_lat'] = vendedores['vendedor_lat'].fillna(vendedores['vendedor_estado'].map(lambda estado: mapeamento_estados_vendedores.get(estado, (None, None))[0]))\n",
        "vendedores['vendedor_lon'] = vendedores['vendedor_lon'].fillna(vendedores['vendedor_estado'].map(lambda estado: mapeamento_estados_vendedores.get(estado, (None, None))[1]))"
      ]
    },
    {
      "cell_type": "code",
      "execution_count": 60,
      "metadata": {
        "colab": {
          "base_uri": "https://localhost:8080/"
        },
        "id": "GCej2Yw9-TuT",
        "outputId": "710d4218-37d3-4d20-8c84-4562219f3ae0"
      },
      "outputs": [
        {
          "data": {
            "text/plain": [
              "vendedor_id        0\n",
              "vendedor_cep       0\n",
              "vendedor_cidade    0\n",
              "vendedor_estado    0\n",
              "vendedor_lat       0\n",
              "vendedor_lon       0\n",
              "vendedor           0\n",
              "dtype: int64"
            ]
          },
          "execution_count": 60,
          "metadata": {},
          "output_type": "execute_result"
        }
      ],
      "source": [
        "vendedores.isnull().sum()"
      ]
    },
    {
      "cell_type": "markdown",
      "metadata": {
        "id": "SYJhchaPD9tS"
      },
      "source": [
        "## 3.5 - Criar a coluna \"vendedor_regiao\" para futuras análises"
      ]
    },
    {
      "cell_type": "markdown",
      "metadata": {
        "id": "wbJa40Zh1cim"
      },
      "source": [
        "Será usado o mapeamento das regiões feito no tópico 2.6 (criar a coluna cliente_regiao)"
      ]
    },
    {
      "cell_type": "code",
      "execution_count": 61,
      "metadata": {
        "id": "Hfh8xbdgEIbe"
      },
      "outputs": [],
      "source": [
        "vendedores['vendedor_regiao'] = vendedores['vendedor_estado'].map(estado_para_regiao)"
      ]
    },
    {
      "cell_type": "markdown",
      "metadata": {
        "id": "IbcrenRs_dSm"
      },
      "source": [
        "## 3.6 - Codificação de Variáveis Categóricas em Numéricos"
      ]
    },
    {
      "cell_type": "markdown",
      "metadata": {
        "id": "hxDH6r9LxXqA"
      },
      "source": [
        "Após carregar o mapeamento das cidades, será criada a coluna \"vendedor_cidade_ref\" com o número de referência da cidade para poder usar esse atributo nos modelos de machine learning."
      ]
    },
    {
      "cell_type": "code",
      "execution_count": 62,
      "metadata": {
        "id": "JXeg2l6jm_Wo"
      },
      "outputs": [],
      "source": [
        "# Carregar o mapeamento de cidades a partir do arquivo CSV\n",
        "mapeamento_cidades = pd.read_csv('../data/mapeamentos/cidades.csv')\n",
        "\n",
        "# Criar um dicionário a partir do mapeamento carregado\n",
        "mapeamento_final_cidades = dict(zip(mapeamento_cidades['cidade'], mapeamento_cidades['referencia_cidade']))\n",
        "\n",
        "# Aplicar o mapeamento no DataFrame \"vendedores\"\n",
        "vendedores['vendedor_cidade_ref'] = vendedores['vendedor_cidade'].map(mapeamento_final_cidades)"
      ]
    },
    {
      "cell_type": "markdown",
      "metadata": {
        "id": "k4K8_MOBxXqB"
      },
      "source": [
        "Após carregar o mapeamento dos estados, será criada a coluna \"vendedor_estado_ref\" com o número de referência do estado para poder usar esse atributo nos modelos de machine learning."
      ]
    },
    {
      "cell_type": "code",
      "execution_count": 63,
      "metadata": {
        "id": "_iao6mEpxXqB"
      },
      "outputs": [],
      "source": [
        "# Carregar o mapeamento de estados a partir do arquivo CSV\n",
        "mapeamento_estados = pd.read_csv('../data/mapeamentos/estados.csv')\n",
        "\n",
        "# Criar um dicionário a partir do mapeamento carregado\n",
        "mapeamento_final_estados = dict(zip(mapeamento_estados['estado'], mapeamento_estados['referencia_estado']))\n",
        "\n",
        "# Aplicar o mapeamento no DataFrame \"vendedores\"\n",
        "vendedores['vendedor_estado_ref'] = vendedores['vendedor_estado'].map(mapeamento_final_estados)"
      ]
    },
    {
      "cell_type": "markdown",
      "metadata": {
        "id": "C4RtfKtY5_xv"
      },
      "source": [
        "Será criada a coluna \"vendedor_regiao_ref\" com o número de referência da região para poder usar esse atributo nos modelos de machine learning."
      ]
    },
    {
      "cell_type": "code",
      "execution_count": 64,
      "metadata": {
        "id": "UJiAY-dS2FN_"
      },
      "outputs": [],
      "source": [
        "regioes = vendedores['vendedor_regiao']\n",
        "lencoder = LabelEncoder()\n",
        "regioes_numeros = lencoder.fit_transform(regioes)\n",
        "vendedores['vendedor_regiao_ref'] = regioes_numeros"
      ]
    },
    {
      "cell_type": "markdown",
      "metadata": {
        "id": "K_vQoUA_xCzG"
      },
      "source": [
        "## 3.7 - Ordenando as colunas para melhor compreensão"
      ]
    },
    {
      "cell_type": "code",
      "execution_count": 65,
      "metadata": {
        "colab": {
          "base_uri": "https://localhost:8080/"
        },
        "id": "iqTA_ll-xOJ-",
        "outputId": "bf9abff4-836d-4f44-f3f3-df78f20f96db"
      },
      "outputs": [
        {
          "name": "stdout",
          "output_type": "stream",
          "text": [
            "['vendedor_id', 'vendedor_cep', 'vendedor_cidade', 'vendedor_estado', 'vendedor_lat', 'vendedor_lon', 'vendedor', 'vendedor_regiao', 'vendedor_cidade_ref', 'vendedor_estado_ref', 'vendedor_regiao_ref']\n"
          ]
        }
      ],
      "source": [
        "lista_colunas = vendedores.columns.tolist()\n",
        "print(lista_colunas)"
      ]
    },
    {
      "cell_type": "code",
      "execution_count": 66,
      "metadata": {
        "id": "7LosoIJZxbLX"
      },
      "outputs": [],
      "source": [
        "nova_ordem_colunas = ['vendedor_id', 'vendedor', 'vendedor_cep', 'vendedor_cidade', 'vendedor_cidade_ref', 'vendedor_estado', 'vendedor_estado_ref', 'vendedor_regiao', 'vendedor_regiao_ref', 'vendedor_lat', 'vendedor_lon']\n",
        "vendedores = vendedores[nova_ordem_colunas]"
      ]
    },
    {
      "cell_type": "markdown",
      "metadata": {
        "id": "tbdzANf2_YaP"
      },
      "source": [
        "## 3.8 - DataFrame Vendedores após tratamento"
      ]
    },
    {
      "cell_type": "code",
      "execution_count": 67,
      "metadata": {
        "colab": {
          "base_uri": "https://localhost:8080/",
          "height": 226
        },
        "id": "Pc-h2bgn_b9x",
        "outputId": "4235cf46-b2c2-41b1-bb10-7b8455d37f90"
      },
      "outputs": [
        {
          "data": {
            "text/html": [
              "<div>\n",
              "<style scoped>\n",
              "    .dataframe tbody tr th:only-of-type {\n",
              "        vertical-align: middle;\n",
              "    }\n",
              "\n",
              "    .dataframe tbody tr th {\n",
              "        vertical-align: top;\n",
              "    }\n",
              "\n",
              "    .dataframe thead th {\n",
              "        text-align: right;\n",
              "    }\n",
              "</style>\n",
              "<table border=\"1\" class=\"dataframe\">\n",
              "  <thead>\n",
              "    <tr style=\"text-align: right;\">\n",
              "      <th></th>\n",
              "      <th>vendedor_id</th>\n",
              "      <th>vendedor</th>\n",
              "      <th>vendedor_cep</th>\n",
              "      <th>vendedor_cidade</th>\n",
              "      <th>vendedor_cidade_ref</th>\n",
              "      <th>vendedor_estado</th>\n",
              "      <th>vendedor_estado_ref</th>\n",
              "      <th>vendedor_regiao</th>\n",
              "      <th>vendedor_regiao_ref</th>\n",
              "      <th>vendedor_lat</th>\n",
              "      <th>vendedor_lon</th>\n",
              "    </tr>\n",
              "  </thead>\n",
              "  <tbody>\n",
              "    <tr>\n",
              "      <th>0</th>\n",
              "      <td>3442f8959a84dea7ee197c632cb2df15</td>\n",
              "      <td>campinas-SP-3442f8</td>\n",
              "      <td>13023</td>\n",
              "      <td>campinas</td>\n",
              "      <td>721</td>\n",
              "      <td>SP</td>\n",
              "      <td>26</td>\n",
              "      <td>sudeste</td>\n",
              "      <td>3</td>\n",
              "      <td>-22.899471</td>\n",
              "      <td>-47.064267</td>\n",
              "    </tr>\n",
              "    <tr>\n",
              "      <th>1</th>\n",
              "      <td>d1b65fc7debc3361ea86b5f14c68d2e2</td>\n",
              "      <td>mogi guacu-SP-d1b65f</td>\n",
              "      <td>13844</td>\n",
              "      <td>mogi guacu</td>\n",
              "      <td>2377</td>\n",
              "      <td>SP</td>\n",
              "      <td>26</td>\n",
              "      <td>sudeste</td>\n",
              "      <td>3</td>\n",
              "      <td>-22.374632</td>\n",
              "      <td>-46.941224</td>\n",
              "    </tr>\n",
              "    <tr>\n",
              "      <th>2</th>\n",
              "      <td>ce3ad9de960102d0677a81f5d0bb7b2d</td>\n",
              "      <td>rio de janeiro-RJ-ce3ad9</td>\n",
              "      <td>20031</td>\n",
              "      <td>rio de janeiro</td>\n",
              "      <td>3200</td>\n",
              "      <td>RJ</td>\n",
              "      <td>19</td>\n",
              "      <td>sudeste</td>\n",
              "      <td>3</td>\n",
              "      <td>-22.907863</td>\n",
              "      <td>-43.175693</td>\n",
              "    </tr>\n",
              "    <tr>\n",
              "      <th>3</th>\n",
              "      <td>c0f3eea2e14555b6faeea3dd58c1b1c3</td>\n",
              "      <td>sao paulo-SP-c0f3ee</td>\n",
              "      <td>4195</td>\n",
              "      <td>sao paulo</td>\n",
              "      <td>3658</td>\n",
              "      <td>SP</td>\n",
              "      <td>26</td>\n",
              "      <td>sudeste</td>\n",
              "      <td>3</td>\n",
              "      <td>-23.656354</td>\n",
              "      <td>-46.610917</td>\n",
              "    </tr>\n",
              "    <tr>\n",
              "      <th>4</th>\n",
              "      <td>51a04a8a6bdcb23deccc82b0b80742cf</td>\n",
              "      <td>braganca paulista-SP-51a04a</td>\n",
              "      <td>12914</td>\n",
              "      <td>braganca paulista</td>\n",
              "      <td>564</td>\n",
              "      <td>SP</td>\n",
              "      <td>26</td>\n",
              "      <td>sudeste</td>\n",
              "      <td>3</td>\n",
              "      <td>-22.958423</td>\n",
              "      <td>-46.534450</td>\n",
              "    </tr>\n",
              "  </tbody>\n",
              "</table>\n",
              "</div>"
            ],
            "text/plain": [
              "                        vendedor_id                     vendedor   \n",
              "0  3442f8959a84dea7ee197c632cb2df15           campinas-SP-3442f8  \\\n",
              "1  d1b65fc7debc3361ea86b5f14c68d2e2         mogi guacu-SP-d1b65f   \n",
              "2  ce3ad9de960102d0677a81f5d0bb7b2d     rio de janeiro-RJ-ce3ad9   \n",
              "3  c0f3eea2e14555b6faeea3dd58c1b1c3          sao paulo-SP-c0f3ee   \n",
              "4  51a04a8a6bdcb23deccc82b0b80742cf  braganca paulista-SP-51a04a   \n",
              "\n",
              "   vendedor_cep    vendedor_cidade  vendedor_cidade_ref vendedor_estado   \n",
              "0         13023           campinas                  721              SP  \\\n",
              "1         13844         mogi guacu                 2377              SP   \n",
              "2         20031     rio de janeiro                 3200              RJ   \n",
              "3          4195          sao paulo                 3658              SP   \n",
              "4         12914  braganca paulista                  564              SP   \n",
              "\n",
              "   vendedor_estado_ref vendedor_regiao  vendedor_regiao_ref  vendedor_lat   \n",
              "0                   26         sudeste                    3    -22.899471  \\\n",
              "1                   26         sudeste                    3    -22.374632   \n",
              "2                   19         sudeste                    3    -22.907863   \n",
              "3                   26         sudeste                    3    -23.656354   \n",
              "4                   26         sudeste                    3    -22.958423   \n",
              "\n",
              "   vendedor_lon  \n",
              "0    -47.064267  \n",
              "1    -46.941224  \n",
              "2    -43.175693  \n",
              "3    -46.610917  \n",
              "4    -46.534450  "
            ]
          },
          "execution_count": 67,
          "metadata": {},
          "output_type": "execute_result"
        }
      ],
      "source": [
        "vendedores.head()"
      ]
    },
    {
      "cell_type": "code",
      "execution_count": 68,
      "metadata": {
        "colab": {
          "base_uri": "https://localhost:8080/"
        },
        "id": "18IlP_We_kNY",
        "outputId": "4ce4ed17-7cde-41e8-a16a-69a09f45ee68"
      },
      "outputs": [
        {
          "name": "stdout",
          "output_type": "stream",
          "text": [
            "<class 'pandas.core.frame.DataFrame'>\n",
            "RangeIndex: 3095 entries, 0 to 3094\n",
            "Data columns (total 11 columns):\n",
            " #   Column               Non-Null Count  Dtype  \n",
            "---  ------               --------------  -----  \n",
            " 0   vendedor_id          3095 non-null   object \n",
            " 1   vendedor             3095 non-null   object \n",
            " 2   vendedor_cep         3095 non-null   int64  \n",
            " 3   vendedor_cidade      3095 non-null   object \n",
            " 4   vendedor_cidade_ref  3095 non-null   int64  \n",
            " 5   vendedor_estado      3095 non-null   object \n",
            " 6   vendedor_estado_ref  3095 non-null   int64  \n",
            " 7   vendedor_regiao      3095 non-null   object \n",
            " 8   vendedor_regiao_ref  3095 non-null   int64  \n",
            " 9   vendedor_lat         3095 non-null   float64\n",
            " 10  vendedor_lon         3095 non-null   float64\n",
            "dtypes: float64(2), int64(4), object(5)\n",
            "memory usage: 266.1+ KB\n"
          ]
        }
      ],
      "source": [
        "vendedores.info()"
      ]
    },
    {
      "cell_type": "code",
      "execution_count": 69,
      "metadata": {},
      "outputs": [
        {
          "data": {
            "text/plain": [
              "0"
            ]
          },
          "execution_count": 69,
          "metadata": {},
          "output_type": "execute_result"
        }
      ],
      "source": [
        "vendedores.duplicated().sum()"
      ]
    },
    {
      "cell_type": "code",
      "execution_count": 70,
      "metadata": {},
      "outputs": [
        {
          "data": {
            "text/plain": [
              "vendedor_id            0\n",
              "vendedor               0\n",
              "vendedor_cep           0\n",
              "vendedor_cidade        0\n",
              "vendedor_cidade_ref    0\n",
              "vendedor_estado        0\n",
              "vendedor_estado_ref    0\n",
              "vendedor_regiao        0\n",
              "vendedor_regiao_ref    0\n",
              "vendedor_lat           0\n",
              "vendedor_lon           0\n",
              "dtype: int64"
            ]
          },
          "execution_count": 70,
          "metadata": {},
          "output_type": "execute_result"
        }
      ],
      "source": [
        "vendedores.isnull().sum()"
      ]
    },
    {
      "cell_type": "markdown",
      "metadata": {},
      "source": [
        "# <font color=red>2 - Clientes</font>"
      ]
    },
    {
      "cell_type": "markdown",
      "metadata": {},
      "source": [
        "## 2.1 - Renomear as colunas"
      ]
    },
    {
      "cell_type": "code",
      "execution_count": null,
      "metadata": {},
      "outputs": [
        {
          "name": "stdout",
          "output_type": "stream",
          "text": [
            "['customer_id', 'customer_unique_id', 'customer_zip_code_prefix', 'customer_city', 'customer_state']\n"
          ]
        }
      ],
      "source": [
        "lista_colunas = clientes.columns.tolist()\n",
        "print(lista_colunas)"
      ]
    },
    {
      "cell_type": "code",
      "execution_count": null,
      "metadata": {},
      "outputs": [],
      "source": [
        "clientes.rename(columns={\n",
        "    'customer_id': 'cliente_id',\n",
        "    'customer_unique_id': 'cliente_id_unico',\n",
        "    'customer_zip_code_prefix': 'cliente_cep',\n",
        "    'customer_city': 'cliente_cidade',\n",
        "    'customer_state': 'cliente_estado'\n",
        "}, inplace=True)"
      ]
    },
    {
      "cell_type": "markdown",
      "metadata": {},
      "source": [
        "## 2.2 - Criação dos atributos de \"geolocalização\" e \"cliente\""
      ]
    },
    {
      "cell_type": "markdown",
      "metadata": {},
      "source": [
        "Criar as colunas com as geolocalizações para futuramente poder plotar mapas de localização dos clientes"
      ]
    },
    {
      "cell_type": "code",
      "execution_count": null,
      "metadata": {},
      "outputs": [],
      "source": [
        "clientes['cliente_lat'], clientes['cliente_lon'] = zip(*clientes['cliente_cep'].apply(lambda cep: mapeamento_geolocalizacao.get(cep, (None, None))))"
      ]
    },
    {
      "cell_type": "markdown",
      "metadata": {},
      "source": [
        "Será criada o atributo \"cliente\" compondo a cidade e o estado onde o cliente está localizado e os oito primeiros números do \"id_unico\" criando assim uma identificação única para cada cliente e melhorar a visualização nas análises."
      ]
    },
    {
      "cell_type": "code",
      "execution_count": null,
      "metadata": {},
      "outputs": [
        {
          "data": {
            "text/plain": [
              "count                                99441\n",
              "unique                               96096\n",
              "top       8d50f5eadf50201ccdcedfb9e2ac8455\n",
              "freq                                    17\n",
              "Name: cliente_id_unico, dtype: object"
            ]
          },
          "metadata": {},
          "output_type": "display_data"
        }
      ],
      "source": [
        "clientes['cliente_id_unico'].describe()"
      ]
    },
    {
      "cell_type": "code",
      "execution_count": null,
      "metadata": {},
      "outputs": [],
      "source": [
        "clientes['cliente'] = clientes['cliente_cidade'] + '-' + clientes['cliente_estado'] + '-' + clientes['cliente_id_unico'].str[:8]"
      ]
    },
    {
      "cell_type": "code",
      "execution_count": null,
      "metadata": {},
      "outputs": [
        {
          "data": {
            "text/plain": [
              "count                     99441\n",
              "unique                    96219\n",
              "top       sao paulo-SP-8d50f5ea\n",
              "freq                         17\n",
              "Name: cliente, dtype: object"
            ]
          },
          "metadata": {},
          "output_type": "display_data"
        }
      ],
      "source": [
        "clientes['cliente'].describe()"
      ]
    },
    {
      "cell_type": "markdown",
      "metadata": {},
      "source": [
        "**Observação:** O atributo \"cliente_id_unico\" contém 96219 valores únicos e o novo atributo \"vendedor\" com apenas a concatenação dos seis primeiros digitos do id, também contém 3095 valores únicos, ou seja, o atributo \"vendedor\" será usado para identificar os vendedores no lugar do atributo \"vendedor_id\" obtendo assim uma melhor visualização e compreenção das análises."
      ]
    },
    {
      "cell_type": "code",
      "execution_count": null,
      "metadata": {},
      "outputs": [
        {
          "name": "stdout",
          "output_type": "stream",
          "text": [
            "0                       franca-SP-861eff47\n",
            "1        sao bernardo do campo-SP-290c77bc\n",
            "2                    sao paulo-SP-060e732b\n",
            "3              mogi das cruzes-SP-259dac75\n",
            "4                     campinas-SP-345ecd01\n",
            "                       ...                \n",
            "99436                sao paulo-SP-1a29b476\n",
            "99437          taboao da serra-SP-d52a67c9\n",
            "99438                fortaleza-CE-e9f50caf\n",
            "99439                   canoas-RS-73c2643a\n",
            "99440                    cotia-SP-84732c50\n",
            "Name: cliente, Length: 99441, dtype: object\n"
          ]
        }
      ],
      "source": [
        "print(clientes['cliente'])"
      ]
    },
    {
      "cell_type": "markdown",
      "metadata": {},
      "source": [
        "## 2.3 - Visão geral do conjunto de dados"
      ]
    },
    {
      "cell_type": "code",
      "execution_count": null,
      "metadata": {},
      "outputs": [
        {
          "data": {
            "text/html": [
              "<div>\n",
              "<style scoped>\n",
              "    .dataframe tbody tr th:only-of-type {\n",
              "        vertical-align: middle;\n",
              "    }\n",
              "\n",
              "    .dataframe tbody tr th {\n",
              "        vertical-align: top;\n",
              "    }\n",
              "\n",
              "    .dataframe thead th {\n",
              "        text-align: right;\n",
              "    }\n",
              "</style>\n",
              "<table border=\"1\" class=\"dataframe\">\n",
              "  <thead>\n",
              "    <tr style=\"text-align: right;\">\n",
              "      <th></th>\n",
              "      <th>cliente_id</th>\n",
              "      <th>cliente_id_unico</th>\n",
              "      <th>cliente_cep</th>\n",
              "      <th>cliente_cidade</th>\n",
              "      <th>cliente_estado</th>\n",
              "      <th>cliente_lat</th>\n",
              "      <th>cliente_lon</th>\n",
              "      <th>cliente</th>\n",
              "    </tr>\n",
              "  </thead>\n",
              "  <tbody>\n",
              "    <tr>\n",
              "      <th>0</th>\n",
              "      <td>06b8999e2fba1a1fbc88172c00ba8bc7</td>\n",
              "      <td>861eff4711a542e4b93843c6dd7febb0</td>\n",
              "      <td>14409</td>\n",
              "      <td>franca</td>\n",
              "      <td>SP</td>\n",
              "      <td>-20.500253</td>\n",
              "      <td>-47.400367</td>\n",
              "      <td>franca-SP-861eff47</td>\n",
              "    </tr>\n",
              "    <tr>\n",
              "      <th>1</th>\n",
              "      <td>18955e83d337fd6b2def6b18a428ac77</td>\n",
              "      <td>290c77bc529b7ac935b93aa66c333dc3</td>\n",
              "      <td>9790</td>\n",
              "      <td>sao bernardo do campo</td>\n",
              "      <td>SP</td>\n",
              "      <td>-23.724844</td>\n",
              "      <td>-46.549350</td>\n",
              "      <td>sao bernardo do campo-SP-290c77bc</td>\n",
              "    </tr>\n",
              "    <tr>\n",
              "      <th>2</th>\n",
              "      <td>4e7b3e00288586ebd08712fdd0374a03</td>\n",
              "      <td>060e732b5b29e8181a18229c7b0b2b5e</td>\n",
              "      <td>1151</td>\n",
              "      <td>sao paulo</td>\n",
              "      <td>SP</td>\n",
              "      <td>-23.531294</td>\n",
              "      <td>-46.656404</td>\n",
              "      <td>sao paulo-SP-060e732b</td>\n",
              "    </tr>\n",
              "    <tr>\n",
              "      <th>3</th>\n",
              "      <td>b2b6027bc5c5109e529d4dc6358b12c3</td>\n",
              "      <td>259dac757896d24d7702b9acbbff3f3c</td>\n",
              "      <td>8775</td>\n",
              "      <td>mogi das cruzes</td>\n",
              "      <td>SP</td>\n",
              "      <td>-23.493944</td>\n",
              "      <td>-46.180817</td>\n",
              "      <td>mogi das cruzes-SP-259dac75</td>\n",
              "    </tr>\n",
              "    <tr>\n",
              "      <th>4</th>\n",
              "      <td>4f2d8ab171c80ec8364f7c12e35b23ad</td>\n",
              "      <td>345ecd01c38d18a9036ed96c73b8d066</td>\n",
              "      <td>13056</td>\n",
              "      <td>campinas</td>\n",
              "      <td>SP</td>\n",
              "      <td>-22.993053</td>\n",
              "      <td>-47.139272</td>\n",
              "      <td>campinas-SP-345ecd01</td>\n",
              "    </tr>\n",
              "    <tr>\n",
              "      <th>...</th>\n",
              "      <td>...</td>\n",
              "      <td>...</td>\n",
              "      <td>...</td>\n",
              "      <td>...</td>\n",
              "      <td>...</td>\n",
              "      <td>...</td>\n",
              "      <td>...</td>\n",
              "      <td>...</td>\n",
              "    </tr>\n",
              "    <tr>\n",
              "      <th>99436</th>\n",
              "      <td>17ddf5dd5d51696bb3d7c6291687be6f</td>\n",
              "      <td>1a29b476fee25c95fbafc67c5ac95cf8</td>\n",
              "      <td>3937</td>\n",
              "      <td>sao paulo</td>\n",
              "      <td>SP</td>\n",
              "      <td>-23.584362</td>\n",
              "      <td>-46.497362</td>\n",
              "      <td>sao paulo-SP-1a29b476</td>\n",
              "    </tr>\n",
              "    <tr>\n",
              "      <th>99437</th>\n",
              "      <td>e7b71a9017aa05c9a7fd292d714858e8</td>\n",
              "      <td>d52a67c98be1cf6a5c84435bd38d095d</td>\n",
              "      <td>6764</td>\n",
              "      <td>taboao da serra</td>\n",
              "      <td>SP</td>\n",
              "      <td>-23.614720</td>\n",
              "      <td>-46.779405</td>\n",
              "      <td>taboao da serra-SP-d52a67c9</td>\n",
              "    </tr>\n",
              "    <tr>\n",
              "      <th>99438</th>\n",
              "      <td>5e28dfe12db7fb50a4b2f691faecea5e</td>\n",
              "      <td>e9f50caf99f032f0bf3c55141f019d99</td>\n",
              "      <td>60115</td>\n",
              "      <td>fortaleza</td>\n",
              "      <td>CE</td>\n",
              "      <td>-3.734408</td>\n",
              "      <td>-38.507778</td>\n",
              "      <td>fortaleza-CE-e9f50caf</td>\n",
              "    </tr>\n",
              "    <tr>\n",
              "      <th>99439</th>\n",
              "      <td>56b18e2166679b8a959d72dd06da27f9</td>\n",
              "      <td>73c2643a0a458b49f58cea58833b192e</td>\n",
              "      <td>92120</td>\n",
              "      <td>canoas</td>\n",
              "      <td>RS</td>\n",
              "      <td>-29.955478</td>\n",
              "      <td>-51.169328</td>\n",
              "      <td>canoas-RS-73c2643a</td>\n",
              "    </tr>\n",
              "    <tr>\n",
              "      <th>99440</th>\n",
              "      <td>274fa6071e5e17fe303b9748641082c8</td>\n",
              "      <td>84732c5050c01db9b23e19ba39899398</td>\n",
              "      <td>6703</td>\n",
              "      <td>cotia</td>\n",
              "      <td>SP</td>\n",
              "      <td>-23.594067</td>\n",
              "      <td>-46.909609</td>\n",
              "      <td>cotia-SP-84732c50</td>\n",
              "    </tr>\n",
              "  </tbody>\n",
              "</table>\n",
              "<p>99441 rows × 8 columns</p>\n",
              "</div>"
            ],
            "text/plain": [
              "                             cliente_id                  cliente_id_unico   \n",
              "0      06b8999e2fba1a1fbc88172c00ba8bc7  861eff4711a542e4b93843c6dd7febb0  \\\n",
              "1      18955e83d337fd6b2def6b18a428ac77  290c77bc529b7ac935b93aa66c333dc3   \n",
              "2      4e7b3e00288586ebd08712fdd0374a03  060e732b5b29e8181a18229c7b0b2b5e   \n",
              "3      b2b6027bc5c5109e529d4dc6358b12c3  259dac757896d24d7702b9acbbff3f3c   \n",
              "4      4f2d8ab171c80ec8364f7c12e35b23ad  345ecd01c38d18a9036ed96c73b8d066   \n",
              "...                                 ...                               ...   \n",
              "99436  17ddf5dd5d51696bb3d7c6291687be6f  1a29b476fee25c95fbafc67c5ac95cf8   \n",
              "99437  e7b71a9017aa05c9a7fd292d714858e8  d52a67c98be1cf6a5c84435bd38d095d   \n",
              "99438  5e28dfe12db7fb50a4b2f691faecea5e  e9f50caf99f032f0bf3c55141f019d99   \n",
              "99439  56b18e2166679b8a959d72dd06da27f9  73c2643a0a458b49f58cea58833b192e   \n",
              "99440  274fa6071e5e17fe303b9748641082c8  84732c5050c01db9b23e19ba39899398   \n",
              "\n",
              "       cliente_cep         cliente_cidade cliente_estado  cliente_lat   \n",
              "0            14409                 franca             SP   -20.500253  \\\n",
              "1             9790  sao bernardo do campo             SP   -23.724844   \n",
              "2             1151              sao paulo             SP   -23.531294   \n",
              "3             8775        mogi das cruzes             SP   -23.493944   \n",
              "4            13056               campinas             SP   -22.993053   \n",
              "...            ...                    ...            ...          ...   \n",
              "99436         3937              sao paulo             SP   -23.584362   \n",
              "99437         6764        taboao da serra             SP   -23.614720   \n",
              "99438        60115              fortaleza             CE    -3.734408   \n",
              "99439        92120                 canoas             RS   -29.955478   \n",
              "99440         6703                  cotia             SP   -23.594067   \n",
              "\n",
              "       cliente_lon                            cliente  \n",
              "0       -47.400367                 franca-SP-861eff47  \n",
              "1       -46.549350  sao bernardo do campo-SP-290c77bc  \n",
              "2       -46.656404              sao paulo-SP-060e732b  \n",
              "3       -46.180817        mogi das cruzes-SP-259dac75  \n",
              "4       -47.139272               campinas-SP-345ecd01  \n",
              "...            ...                                ...  \n",
              "99436   -46.497362              sao paulo-SP-1a29b476  \n",
              "99437   -46.779405        taboao da serra-SP-d52a67c9  \n",
              "99438   -38.507778              fortaleza-CE-e9f50caf  \n",
              "99439   -51.169328                 canoas-RS-73c2643a  \n",
              "99440   -46.909609                  cotia-SP-84732c50  \n",
              "\n",
              "[99441 rows x 8 columns]"
            ]
          },
          "metadata": {},
          "output_type": "display_data"
        }
      ],
      "source": [
        "clientes"
      ]
    },
    {
      "cell_type": "code",
      "execution_count": null,
      "metadata": {},
      "outputs": [
        {
          "name": "stdout",
          "output_type": "stream",
          "text": [
            "<class 'pandas.core.frame.DataFrame'>\n",
            "RangeIndex: 99441 entries, 0 to 99440\n",
            "Data columns (total 8 columns):\n",
            " #   Column            Non-Null Count  Dtype  \n",
            "---  ------            --------------  -----  \n",
            " 0   cliente_id        99441 non-null  object \n",
            " 1   cliente_id_unico  99441 non-null  object \n",
            " 2   cliente_cep       99441 non-null  int64  \n",
            " 3   cliente_cidade    99441 non-null  object \n",
            " 4   cliente_estado    99441 non-null  object \n",
            " 5   cliente_lat       99163 non-null  float64\n",
            " 6   cliente_lon       99163 non-null  float64\n",
            " 7   cliente           99441 non-null  object \n",
            "dtypes: float64(2), int64(1), object(5)\n",
            "memory usage: 6.1+ MB\n",
            "None\n"
          ]
        }
      ],
      "source": [
        "print(clientes.info())"
      ]
    },
    {
      "cell_type": "markdown",
      "metadata": {},
      "source": [
        "Valores únicos em cada coluna:"
      ]
    },
    {
      "cell_type": "code",
      "execution_count": null,
      "metadata": {},
      "outputs": [
        {
          "data": {
            "text/plain": [
              "cliente_id          99441\n",
              "cliente_id_unico    96096\n",
              "cliente_cep         14994\n",
              "cliente_cidade       4119\n",
              "cliente_estado         27\n",
              "cliente_lat         14833\n",
              "cliente_lon         14833\n",
              "cliente             96219\n",
              "dtype: int64"
            ]
          },
          "metadata": {},
          "output_type": "display_data"
        }
      ],
      "source": [
        "clientes.nunique()"
      ]
    },
    {
      "cell_type": "markdown",
      "metadata": {},
      "source": [
        "Valores duplicados:"
      ]
    },
    {
      "cell_type": "code",
      "execution_count": null,
      "metadata": {},
      "outputs": [
        {
          "data": {
            "text/plain": [
              "0"
            ]
          },
          "metadata": {},
          "output_type": "display_data"
        }
      ],
      "source": [
        "clientes.duplicated().sum()"
      ]
    },
    {
      "cell_type": "markdown",
      "metadata": {},
      "source": [
        "Valores nulos em cada coluna:"
      ]
    },
    {
      "cell_type": "code",
      "execution_count": null,
      "metadata": {},
      "outputs": [
        {
          "data": {
            "text/plain": [
              "cliente_id            0\n",
              "cliente_id_unico      0\n",
              "cliente_cep           0\n",
              "cliente_cidade        0\n",
              "cliente_estado        0\n",
              "cliente_lat         278\n",
              "cliente_lon         278\n",
              "cliente               0\n",
              "dtype: int64"
            ]
          },
          "metadata": {},
          "output_type": "display_data"
        }
      ],
      "source": [
        "clientes.isna().sum()"
      ]
    },
    {
      "cell_type": "markdown",
      "metadata": {},
      "source": [
        "## 2.4 - Lidando com valores ausentes nas colunas de latitudes e longitudes"
      ]
    },
    {
      "cell_type": "markdown",
      "metadata": {},
      "source": [
        "Para tratar os dados nulos de latitude e longitude, será colocado os dados da mesma cidade ignorando a exatidão de localização do CEP."
      ]
    },
    {
      "cell_type": "code",
      "execution_count": null,
      "metadata": {},
      "outputs": [],
      "source": [
        "# Criar um DataFrame com informações únicas de cidade, latitude e longitude\n",
        "cidades_info = clientes[['cliente_cidade', 'cliente_lat', 'cliente_lon']].drop_duplicates()\n",
        "\n",
        "# Remover cidades duplicadas aleatoriamente para manter apenas uma referência única para cada cidade\n",
        "cidades_info = cidades_info.sample(frac=1).drop_duplicates(subset='cliente_cidade')\n",
        "\n",
        "# Criar um dicionário de mapeamento de cidades com latitudes e longitudes\n",
        "mapeamento_cidades = dict(zip(cidades_info['cliente_cidade'], zip(cidades_info['cliente_lat'], cidades_info['cliente_lon'])))\n",
        "\n",
        "# Preencher valores nulos nas colunas \"cliente_lat\" e \"cliente_lon\" usando o mapeamento de cidades\n",
        "clientes['cliente_lat'] = clientes['cliente_lat'].fillna(clientes['cliente_cidade'].map(lambda cidade: mapeamento_cidades.get(cidade, (None, None))[0]))\n",
        "clientes['cliente_lon'] = clientes['cliente_lon'].fillna(clientes['cliente_cidade'].map(lambda cidade: mapeamento_cidades.get(cidade, (None, None))[1]))"
      ]
    },
    {
      "cell_type": "code",
      "execution_count": null,
      "metadata": {},
      "outputs": [
        {
          "data": {
            "text/plain": [
              "cliente_id           0\n",
              "cliente_id_unico     0\n",
              "cliente_cep          0\n",
              "cliente_cidade       0\n",
              "cliente_estado       0\n",
              "cliente_lat         55\n",
              "cliente_lon         55\n",
              "cliente              0\n",
              "dtype: int64"
            ]
          },
          "metadata": {},
          "output_type": "display_data"
        }
      ],
      "source": [
        "clientes.isna().sum()"
      ]
    },
    {
      "cell_type": "markdown",
      "metadata": {},
      "source": [
        "Após fazer o tratamento dos dados nulos inserindo latitudes e longitudes referente a cidade, dos 278 dados nulos foi identificado 58 registros sem referência específica para suas cidades. Para evitar a perda desses dados em visualizações gráficas, será usada coordenadas aleatórias correspondentes aos seus respectivos estados."
      ]
    },
    {
      "cell_type": "code",
      "execution_count": null,
      "metadata": {},
      "outputs": [],
      "source": [
        "# Criar um DataFrame com informações únicas de estado, latitude e longitude\n",
        "estados_info = clientes[['cliente_estado', 'cliente_lat', 'cliente_lon']].drop_duplicates()\n",
        "\n",
        "# Remover estados duplicados aleatoriamente para manter apenas uma referência única para cada estado\n",
        "estados_info = estados_info.sample(frac=1).drop_duplicates(subset='cliente_estado')\n",
        "\n",
        "# Criar um dicionário de mapeamento de estados com latitudes e longitudes\n",
        "mapeamento_estados = dict(zip(estados_info['cliente_estado'], zip(estados_info['cliente_lat'], estados_info['cliente_lon'])))\n",
        "\n",
        "# Preencher valores nulos nas colunas \"cliente_lat\" e \"cliente_lon\" usando o mapeamento de estados\n",
        "clientes['cliente_lat'] = clientes['cliente_lat'].fillna(clientes['cliente_estado'].map(lambda estado: mapeamento_estados.get(estado, (None, None))[0]))\n",
        "clientes['cliente_lon'] = clientes['cliente_lon'].fillna(clientes['cliente_estado'].map(lambda estado: mapeamento_estados.get(estado, (None, None))[1]))\n"
      ]
    },
    {
      "cell_type": "code",
      "execution_count": null,
      "metadata": {},
      "outputs": [
        {
          "data": {
            "text/plain": [
              "cliente_id          0\n",
              "cliente_id_unico    0\n",
              "cliente_cep         0\n",
              "cliente_cidade      0\n",
              "cliente_estado      0\n",
              "cliente_lat         0\n",
              "cliente_lon         0\n",
              "cliente             0\n",
              "dtype: int64"
            ]
          },
          "metadata": {},
          "output_type": "display_data"
        }
      ],
      "source": [
        "clientes.isna().sum()"
      ]
    },
    {
      "cell_type": "markdown",
      "metadata": {},
      "source": [
        "## 2.5 - Tratamento das strings dos atributos qualitativos nominais."
      ]
    },
    {
      "cell_type": "markdown",
      "metadata": {},
      "source": [
        "### 2.5.1 - Coluna cliente_cidade"
      ]
    },
    {
      "cell_type": "code",
      "execution_count": null,
      "metadata": {},
      "outputs": [],
      "source": [
        "clientes['cliente_cidade'] = clientes['cliente_cidade'].apply(lambda x: unidecode(x).replace('ç', 'c').lower().strip())"
      ]
    },
    {
      "cell_type": "markdown",
      "metadata": {},
      "source": [
        "### 2.5.2 - Coluna cliente_estado"
      ]
    },
    {
      "cell_type": "code",
      "execution_count": null,
      "metadata": {},
      "outputs": [],
      "source": [
        "clientes['cliente_estado'] = clientes['cliente_estado'].str.upper().str.strip()"
      ]
    },
    {
      "cell_type": "markdown",
      "metadata": {},
      "source": [
        "## 2.6 - Criar a coluna \"cliente_regiao\" para analises futuras"
      ]
    },
    {
      "cell_type": "code",
      "execution_count": null,
      "metadata": {},
      "outputs": [],
      "source": [
        "estado_para_regiao = {\n",
        "    'AC': 'norte',\n",
        "    'AL': 'nordeste',\n",
        "    'AP': 'norte',\n",
        "    'AM': 'norte',\n",
        "    'BA': 'nordeste',\n",
        "    'CE': 'nordeste',\n",
        "    'DF': 'centro-oeste',\n",
        "    'ES': 'sudeste',\n",
        "    'GO': 'centro-oeste',\n",
        "    'MA': 'nordeste',\n",
        "    'MT': 'centro-oeste',\n",
        "    'MS': 'centro-oeste',\n",
        "    'MG': 'sudeste',\n",
        "    'PA': 'norte',\n",
        "    'PB': 'nordeste',\n",
        "    'PR': 'sul',\n",
        "    'PE': 'nordeste',\n",
        "    'PI': 'nordeste',\n",
        "    'RJ': 'sudeste',\n",
        "    'RN': 'nordeste',\n",
        "    'RS': 'sul',\n",
        "    'RO': 'norte',\n",
        "    'RR': 'norte',\n",
        "    'SC': 'sul',\n",
        "    'SP': 'sudeste',\n",
        "    'SE': 'nordeste',\n",
        "    'TO': 'norte'\n",
        "}"
      ]
    },
    {
      "cell_type": "code",
      "execution_count": null,
      "metadata": {},
      "outputs": [],
      "source": [
        "clientes['cliente_regiao'] = clientes['cliente_estado'].map(estado_para_regiao)"
      ]
    },
    {
      "cell_type": "markdown",
      "metadata": {},
      "source": [
        "## 2.7 - Codificação de Variáveis Categóricas em Numéricos"
      ]
    },
    {
      "cell_type": "markdown",
      "metadata": {},
      "source": [
        "Após fazer o carregamento do mapeamento das cidades, será criada a coluna cliente_cidade_ref com o número de referência da cidade para poder usar esse atributo nos modelos de machine learning."
      ]
    },
    {
      "cell_type": "code",
      "execution_count": null,
      "metadata": {},
      "outputs": [],
      "source": [
        "# Carregar o mapeamento de cidades a partir do arquivo CSV\n",
        "mapeamento_cidades = pd.read_csv('../data/mapeamentos/cidades.csv')\n",
        "\n",
        "# Criar um dicionário a partir do mapeamento carregado\n",
        "mapeamento_final_cidades = dict(zip(mapeamento_cidades['cidade'], mapeamento_cidades['referencia_cidade']))\n",
        "\n",
        "# Aplicar o mapeamento no DataFrame \"clientes\"\n",
        "clientes['cliente_cidade_ref'] = clientes['cliente_cidade'].map(mapeamento_final_cidades)"
      ]
    },
    {
      "cell_type": "markdown",
      "metadata": {},
      "source": [
        "Após carregar o mapeamento dos estados, será criada a coluna cliente_estado_ref com o número de referência do estado para poder usar esse atributo nos modelos de machine learning."
      ]
    },
    {
      "cell_type": "code",
      "execution_count": null,
      "metadata": {},
      "outputs": [],
      "source": [
        "# Carregar o mapeamento de estados a partir do arquivo CSV\n",
        "mapeamento_estados = pd.read_csv('../data/mapeamentos/estados.csv')\n",
        "\n",
        "# Criar um dicionário a partir do mapeamento carregado\n",
        "mapeamento_final_estados = dict(zip(mapeamento_estados['estado'], mapeamento_estados['referencia_estado']))\n",
        "\n",
        "# Aplicar o mapeamento no DataFrame \"clientes\"\n",
        "clientes['cliente_estado_ref'] = clientes['cliente_estado'].map(mapeamento_final_estados)"
      ]
    },
    {
      "cell_type": "markdown",
      "metadata": {},
      "source": [
        "Será criada a coluna cliente_regiao_ref com o número de referência da região para poder usar esse atributo nos modelos de machine learning."
      ]
    },
    {
      "cell_type": "code",
      "execution_count": null,
      "metadata": {},
      "outputs": [],
      "source": [
        "regioes = clientes['cliente_regiao']\n",
        "lencoder = LabelEncoder()\n",
        "regioes_numeros = lencoder.fit_transform(regioes)\n",
        "clientes['cliente_regiao_ref'] = regioes_numeros"
      ]
    },
    {
      "cell_type": "code",
      "execution_count": null,
      "metadata": {},
      "outputs": [],
      "source": [
        "# Salvar o mapeamento em um arquivo CSV\n",
        "mapeamento_df = pd.DataFrame({'cliente_regiao': regioes, 'cliente_regiao_ref': regioes_numeros})\n",
        "mapeamento_df.to_csv('../data/mapeamentos/regioes.csv', index=False)"
      ]
    },
    {
      "cell_type": "markdown",
      "metadata": {},
      "source": [
        "## 2.8 - Ordenando as colunas para melhor compreensão"
      ]
    },
    {
      "cell_type": "code",
      "execution_count": null,
      "metadata": {},
      "outputs": [
        {
          "name": "stdout",
          "output_type": "stream",
          "text": [
            "['cliente_id', 'cliente_id_unico', 'cliente_cep', 'cliente_cidade', 'cliente_estado', 'cliente_lat', 'cliente_lon', 'cliente', 'cliente_regiao', 'cliente_cidade_ref', 'cliente_estado_ref', 'cliente_regiao_ref']\n"
          ]
        }
      ],
      "source": [
        "lista_colunas = clientes.columns.tolist()\n",
        "print(lista_colunas)"
      ]
    },
    {
      "cell_type": "code",
      "execution_count": null,
      "metadata": {},
      "outputs": [],
      "source": [
        "nova_ordem_colunas = ['cliente_id', 'cliente_id_unico', 'cliente', 'cliente_cep', 'cliente_cidade', 'cliente_cidade_ref', 'cliente_estado', 'cliente_estado_ref', 'cliente_regiao', 'cliente_regiao_ref', 'cliente_lat', 'cliente_lon']\n",
        "clientes = clientes[nova_ordem_colunas]"
      ]
    },
    {
      "cell_type": "markdown",
      "metadata": {},
      "source": [
        "## 2.9 - DataFrame clientes após tratamento"
      ]
    },
    {
      "cell_type": "code",
      "execution_count": null,
      "metadata": {},
      "outputs": [
        {
          "data": {
            "text/html": [
              "<div>\n",
              "<style scoped>\n",
              "    .dataframe tbody tr th:only-of-type {\n",
              "        vertical-align: middle;\n",
              "    }\n",
              "\n",
              "    .dataframe tbody tr th {\n",
              "        vertical-align: top;\n",
              "    }\n",
              "\n",
              "    .dataframe thead th {\n",
              "        text-align: right;\n",
              "    }\n",
              "</style>\n",
              "<table border=\"1\" class=\"dataframe\">\n",
              "  <thead>\n",
              "    <tr style=\"text-align: right;\">\n",
              "      <th></th>\n",
              "      <th>cliente_id</th>\n",
              "      <th>cliente_id_unico</th>\n",
              "      <th>cliente</th>\n",
              "      <th>cliente_cep</th>\n",
              "      <th>cliente_cidade</th>\n",
              "      <th>cliente_cidade_ref</th>\n",
              "      <th>cliente_estado</th>\n",
              "      <th>cliente_estado_ref</th>\n",
              "      <th>cliente_regiao</th>\n",
              "      <th>cliente_regiao_ref</th>\n",
              "      <th>cliente_lat</th>\n",
              "      <th>cliente_lon</th>\n",
              "    </tr>\n",
              "  </thead>\n",
              "  <tbody>\n",
              "    <tr>\n",
              "      <th>0</th>\n",
              "      <td>06b8999e2fba1a1fbc88172c00ba8bc7</td>\n",
              "      <td>861eff4711a542e4b93843c6dd7febb0</td>\n",
              "      <td>franca-SP-861eff47</td>\n",
              "      <td>14409</td>\n",
              "      <td>franca</td>\n",
              "      <td>1405</td>\n",
              "      <td>SP</td>\n",
              "      <td>26</td>\n",
              "      <td>sudeste</td>\n",
              "      <td>3</td>\n",
              "      <td>-20.500253</td>\n",
              "      <td>-47.400367</td>\n",
              "    </tr>\n",
              "    <tr>\n",
              "      <th>1</th>\n",
              "      <td>18955e83d337fd6b2def6b18a428ac77</td>\n",
              "      <td>290c77bc529b7ac935b93aa66c333dc3</td>\n",
              "      <td>sao bernardo do campo-SP-290c77bc</td>\n",
              "      <td>9790</td>\n",
              "      <td>sao bernardo do campo</td>\n",
              "      <td>3484</td>\n",
              "      <td>SP</td>\n",
              "      <td>26</td>\n",
              "      <td>sudeste</td>\n",
              "      <td>3</td>\n",
              "      <td>-23.724844</td>\n",
              "      <td>-46.549350</td>\n",
              "    </tr>\n",
              "    <tr>\n",
              "      <th>2</th>\n",
              "      <td>4e7b3e00288586ebd08712fdd0374a03</td>\n",
              "      <td>060e732b5b29e8181a18229c7b0b2b5e</td>\n",
              "      <td>sao paulo-SP-060e732b</td>\n",
              "      <td>1151</td>\n",
              "      <td>sao paulo</td>\n",
              "      <td>3658</td>\n",
              "      <td>SP</td>\n",
              "      <td>26</td>\n",
              "      <td>sudeste</td>\n",
              "      <td>3</td>\n",
              "      <td>-23.531294</td>\n",
              "      <td>-46.656404</td>\n",
              "    </tr>\n",
              "    <tr>\n",
              "      <th>3</th>\n",
              "      <td>b2b6027bc5c5109e529d4dc6358b12c3</td>\n",
              "      <td>259dac757896d24d7702b9acbbff3f3c</td>\n",
              "      <td>mogi das cruzes-SP-259dac75</td>\n",
              "      <td>8775</td>\n",
              "      <td>mogi das cruzes</td>\n",
              "      <td>2375</td>\n",
              "      <td>SP</td>\n",
              "      <td>26</td>\n",
              "      <td>sudeste</td>\n",
              "      <td>3</td>\n",
              "      <td>-23.493944</td>\n",
              "      <td>-46.180817</td>\n",
              "    </tr>\n",
              "    <tr>\n",
              "      <th>4</th>\n",
              "      <td>4f2d8ab171c80ec8364f7c12e35b23ad</td>\n",
              "      <td>345ecd01c38d18a9036ed96c73b8d066</td>\n",
              "      <td>campinas-SP-345ecd01</td>\n",
              "      <td>13056</td>\n",
              "      <td>campinas</td>\n",
              "      <td>721</td>\n",
              "      <td>SP</td>\n",
              "      <td>26</td>\n",
              "      <td>sudeste</td>\n",
              "      <td>3</td>\n",
              "      <td>-22.993053</td>\n",
              "      <td>-47.139272</td>\n",
              "    </tr>\n",
              "  </tbody>\n",
              "</table>\n",
              "</div>"
            ],
            "text/plain": [
              "                         cliente_id                  cliente_id_unico   \n",
              "0  06b8999e2fba1a1fbc88172c00ba8bc7  861eff4711a542e4b93843c6dd7febb0  \\\n",
              "1  18955e83d337fd6b2def6b18a428ac77  290c77bc529b7ac935b93aa66c333dc3   \n",
              "2  4e7b3e00288586ebd08712fdd0374a03  060e732b5b29e8181a18229c7b0b2b5e   \n",
              "3  b2b6027bc5c5109e529d4dc6358b12c3  259dac757896d24d7702b9acbbff3f3c   \n",
              "4  4f2d8ab171c80ec8364f7c12e35b23ad  345ecd01c38d18a9036ed96c73b8d066   \n",
              "\n",
              "                             cliente  cliente_cep         cliente_cidade   \n",
              "0                 franca-SP-861eff47        14409                 franca  \\\n",
              "1  sao bernardo do campo-SP-290c77bc         9790  sao bernardo do campo   \n",
              "2              sao paulo-SP-060e732b         1151              sao paulo   \n",
              "3        mogi das cruzes-SP-259dac75         8775        mogi das cruzes   \n",
              "4               campinas-SP-345ecd01        13056               campinas   \n",
              "\n",
              "   cliente_cidade_ref cliente_estado  cliente_estado_ref cliente_regiao   \n",
              "0                1405             SP                  26        sudeste  \\\n",
              "1                3484             SP                  26        sudeste   \n",
              "2                3658             SP                  26        sudeste   \n",
              "3                2375             SP                  26        sudeste   \n",
              "4                 721             SP                  26        sudeste   \n",
              "\n",
              "   cliente_regiao_ref  cliente_lat  cliente_lon  \n",
              "0                   3   -20.500253   -47.400367  \n",
              "1                   3   -23.724844   -46.549350  \n",
              "2                   3   -23.531294   -46.656404  \n",
              "3                   3   -23.493944   -46.180817  \n",
              "4                   3   -22.993053   -47.139272  "
            ]
          },
          "metadata": {},
          "output_type": "display_data"
        }
      ],
      "source": [
        "clientes.head()"
      ]
    },
    {
      "cell_type": "code",
      "execution_count": null,
      "metadata": {},
      "outputs": [
        {
          "name": "stdout",
          "output_type": "stream",
          "text": [
            "<class 'pandas.core.frame.DataFrame'>\n",
            "RangeIndex: 99441 entries, 0 to 99440\n",
            "Data columns (total 12 columns):\n",
            " #   Column              Non-Null Count  Dtype  \n",
            "---  ------              --------------  -----  \n",
            " 0   cliente_id          99441 non-null  object \n",
            " 1   cliente_id_unico    99441 non-null  object \n",
            " 2   cliente             99441 non-null  object \n",
            " 3   cliente_cep         99441 non-null  int64  \n",
            " 4   cliente_cidade      99441 non-null  object \n",
            " 5   cliente_cidade_ref  99441 non-null  int64  \n",
            " 6   cliente_estado      99441 non-null  object \n",
            " 7   cliente_estado_ref  99441 non-null  int64  \n",
            " 8   cliente_regiao      99441 non-null  object \n",
            " 9   cliente_regiao_ref  99441 non-null  int64  \n",
            " 10  cliente_lat         99441 non-null  float64\n",
            " 11  cliente_lon         99441 non-null  float64\n",
            "dtypes: float64(2), int64(4), object(6)\n",
            "memory usage: 9.1+ MB\n"
          ]
        }
      ],
      "source": [
        "clientes.info()"
      ]
    },
    {
      "cell_type": "code",
      "execution_count": null,
      "metadata": {},
      "outputs": [
        {
          "data": {
            "text/plain": [
              "cliente_id            0\n",
              "cliente_id_unico      0\n",
              "cliente               0\n",
              "cliente_cep           0\n",
              "cliente_cidade        0\n",
              "cliente_cidade_ref    0\n",
              "cliente_estado        0\n",
              "cliente_estado_ref    0\n",
              "cliente_regiao        0\n",
              "cliente_regiao_ref    0\n",
              "cliente_lat           0\n",
              "cliente_lon           0\n",
              "dtype: int64"
            ]
          },
          "metadata": {},
          "output_type": "display_data"
        }
      ],
      "source": [
        "clientes.isna().sum()"
      ]
    },
    {
      "cell_type": "code",
      "execution_count": null,
      "metadata": {},
      "outputs": [
        {
          "data": {
            "text/plain": [
              "cliente_id            99441\n",
              "cliente_id_unico      96096\n",
              "cliente               96219\n",
              "cliente_cep           14994\n",
              "cliente_cidade         4119\n",
              "cliente_cidade_ref     4119\n",
              "cliente_estado           27\n",
              "cliente_estado_ref       27\n",
              "cliente_regiao            5\n",
              "cliente_regiao_ref        5\n",
              "cliente_lat           14833\n",
              "cliente_lon           14833\n",
              "dtype: int64"
            ]
          },
          "metadata": {},
          "output_type": "display_data"
        }
      ],
      "source": [
        "clientes.nunique()"
      ]
    },
    {
      "cell_type": "code",
      "execution_count": null,
      "metadata": {},
      "outputs": [
        {
          "data": {
            "text/plain": [
              "0"
            ]
          },
          "metadata": {},
          "output_type": "display_data"
        }
      ],
      "source": [
        "clientes.duplicated().sum()"
      ]
    },
    {
      "cell_type": "markdown",
      "metadata": {
        "id": "EcweUz2a7v3d"
      },
      "source": [
        "# <font color=red>5 - Itens_Pedidos</font>"
      ]
    },
    {
      "cell_type": "markdown",
      "metadata": {
        "id": "_ShLGELU4wKP"
      },
      "source": [
        "## 5.1 - Renomear as colunas"
      ]
    },
    {
      "cell_type": "code",
      "execution_count": 90,
      "metadata": {
        "id": "TEG38usb5l8-"
      },
      "outputs": [],
      "source": [
        "itens_pedidos.rename(columns={\n",
        "    'order_id': 'pedido_id',\n",
        "    'order_item_id': 'pedido_item_id',\n",
        "    'product_id': 'produto_id',\n",
        "    'seller_id': 'vendedor_id',\n",
        "    'shipping_limit_date': 'data_limite_envio',\n",
        "    'price': 'preco',\n",
        "    'freight_value': 'frete'\n",
        "}, inplace=True)"
      ]
    },
    {
      "cell_type": "markdown",
      "metadata": {
        "id": "VF8lLTR24q8x"
      },
      "source": [
        "## 5.2 - Visão geral do conjunto de dados"
      ]
    },
    {
      "cell_type": "code",
      "execution_count": 91,
      "metadata": {
        "colab": {
          "base_uri": "https://localhost:8080/",
          "height": 444
        },
        "id": "vDl8Py8GYWU8",
        "outputId": "8bf81a19-658b-4aab-a4c1-2c158d26283e"
      },
      "outputs": [
        {
          "data": {
            "text/html": [
              "<div>\n",
              "<style scoped>\n",
              "    .dataframe tbody tr th:only-of-type {\n",
              "        vertical-align: middle;\n",
              "    }\n",
              "\n",
              "    .dataframe tbody tr th {\n",
              "        vertical-align: top;\n",
              "    }\n",
              "\n",
              "    .dataframe thead th {\n",
              "        text-align: right;\n",
              "    }\n",
              "</style>\n",
              "<table border=\"1\" class=\"dataframe\">\n",
              "  <thead>\n",
              "    <tr style=\"text-align: right;\">\n",
              "      <th></th>\n",
              "      <th>pedido_id</th>\n",
              "      <th>pedido_item_id</th>\n",
              "      <th>produto_id</th>\n",
              "      <th>vendedor_id</th>\n",
              "      <th>data_limite_envio</th>\n",
              "      <th>preco</th>\n",
              "      <th>frete</th>\n",
              "    </tr>\n",
              "  </thead>\n",
              "  <tbody>\n",
              "    <tr>\n",
              "      <th>0</th>\n",
              "      <td>00010242fe8c5a6d1ba2dd792cb16214</td>\n",
              "      <td>1</td>\n",
              "      <td>4244733e06e7ecb4970a6e2683c13e61</td>\n",
              "      <td>48436dade18ac8b2bce089ec2a041202</td>\n",
              "      <td>2017-09-19 09:45:35</td>\n",
              "      <td>58.90</td>\n",
              "      <td>13.29</td>\n",
              "    </tr>\n",
              "    <tr>\n",
              "      <th>1</th>\n",
              "      <td>00018f77f2f0320c557190d7a144bdd3</td>\n",
              "      <td>1</td>\n",
              "      <td>e5f2d52b802189ee658865ca93d83a8f</td>\n",
              "      <td>dd7ddc04e1b6c2c614352b383efe2d36</td>\n",
              "      <td>2017-05-03 11:05:13</td>\n",
              "      <td>239.90</td>\n",
              "      <td>19.93</td>\n",
              "    </tr>\n",
              "    <tr>\n",
              "      <th>2</th>\n",
              "      <td>000229ec398224ef6ca0657da4fc703e</td>\n",
              "      <td>1</td>\n",
              "      <td>c777355d18b72b67abbeef9df44fd0fd</td>\n",
              "      <td>5b51032eddd242adc84c38acab88f23d</td>\n",
              "      <td>2018-01-18 14:48:30</td>\n",
              "      <td>199.00</td>\n",
              "      <td>17.87</td>\n",
              "    </tr>\n",
              "    <tr>\n",
              "      <th>3</th>\n",
              "      <td>00024acbcdf0a6daa1e931b038114c75</td>\n",
              "      <td>1</td>\n",
              "      <td>7634da152a4610f1595efa32f14722fc</td>\n",
              "      <td>9d7a1d34a5052409006425275ba1c2b4</td>\n",
              "      <td>2018-08-15 10:10:18</td>\n",
              "      <td>12.99</td>\n",
              "      <td>12.79</td>\n",
              "    </tr>\n",
              "    <tr>\n",
              "      <th>4</th>\n",
              "      <td>00042b26cf59d7ce69dfabb4e55b4fd9</td>\n",
              "      <td>1</td>\n",
              "      <td>ac6c3623068f30de03045865e4e10089</td>\n",
              "      <td>df560393f3a51e74553ab94004ba5c87</td>\n",
              "      <td>2017-02-13 13:57:51</td>\n",
              "      <td>199.90</td>\n",
              "      <td>18.14</td>\n",
              "    </tr>\n",
              "  </tbody>\n",
              "</table>\n",
              "</div>"
            ],
            "text/plain": [
              "                          pedido_id  pedido_item_id   \n",
              "0  00010242fe8c5a6d1ba2dd792cb16214               1  \\\n",
              "1  00018f77f2f0320c557190d7a144bdd3               1   \n",
              "2  000229ec398224ef6ca0657da4fc703e               1   \n",
              "3  00024acbcdf0a6daa1e931b038114c75               1   \n",
              "4  00042b26cf59d7ce69dfabb4e55b4fd9               1   \n",
              "\n",
              "                         produto_id                       vendedor_id   \n",
              "0  4244733e06e7ecb4970a6e2683c13e61  48436dade18ac8b2bce089ec2a041202  \\\n",
              "1  e5f2d52b802189ee658865ca93d83a8f  dd7ddc04e1b6c2c614352b383efe2d36   \n",
              "2  c777355d18b72b67abbeef9df44fd0fd  5b51032eddd242adc84c38acab88f23d   \n",
              "3  7634da152a4610f1595efa32f14722fc  9d7a1d34a5052409006425275ba1c2b4   \n",
              "4  ac6c3623068f30de03045865e4e10089  df560393f3a51e74553ab94004ba5c87   \n",
              "\n",
              "     data_limite_envio   preco  frete  \n",
              "0  2017-09-19 09:45:35   58.90  13.29  \n",
              "1  2017-05-03 11:05:13  239.90  19.93  \n",
              "2  2018-01-18 14:48:30  199.00  17.87  \n",
              "3  2018-08-15 10:10:18   12.99  12.79  \n",
              "4  2017-02-13 13:57:51  199.90  18.14  "
            ]
          },
          "execution_count": 91,
          "metadata": {},
          "output_type": "execute_result"
        }
      ],
      "source": [
        "itens_pedidos.head()"
      ]
    },
    {
      "cell_type": "code",
      "execution_count": 92,
      "metadata": {
        "colab": {
          "base_uri": "https://localhost:8080/"
        },
        "id": "Zd5_sSSqwm9Y",
        "outputId": "7639921d-cd0a-459c-cd8e-7beaf366436b"
      },
      "outputs": [
        {
          "name": "stdout",
          "output_type": "stream",
          "text": [
            "<class 'pandas.core.frame.DataFrame'>\n",
            "RangeIndex: 112650 entries, 0 to 112649\n",
            "Data columns (total 7 columns):\n",
            " #   Column             Non-Null Count   Dtype  \n",
            "---  ------             --------------   -----  \n",
            " 0   pedido_id          112650 non-null  object \n",
            " 1   pedido_item_id     112650 non-null  int64  \n",
            " 2   produto_id         112650 non-null  object \n",
            " 3   vendedor_id        112650 non-null  object \n",
            " 4   data_limite_envio  112650 non-null  object \n",
            " 5   preco              112650 non-null  float64\n",
            " 6   frete              112650 non-null  float64\n",
            "dtypes: float64(2), int64(1), object(4)\n",
            "memory usage: 6.0+ MB\n",
            "None\n"
          ]
        }
      ],
      "source": [
        "print(itens_pedidos.info())"
      ]
    },
    {
      "cell_type": "markdown",
      "metadata": {
        "id": "O-V_iPC1YsIQ"
      },
      "source": [
        "Valores únicos em cada coluna:"
      ]
    },
    {
      "cell_type": "code",
      "execution_count": 93,
      "metadata": {
        "colab": {
          "base_uri": "https://localhost:8080/"
        },
        "id": "duix8qjfwm9Z",
        "outputId": "e69f7b7d-2787-4391-b14f-d4d46fa6c794"
      },
      "outputs": [
        {
          "data": {
            "text/plain": [
              "pedido_id            98666\n",
              "pedido_item_id          21\n",
              "produto_id           32951\n",
              "vendedor_id           3095\n",
              "data_limite_envio    93318\n",
              "preco                 5968\n",
              "frete                 6999\n",
              "dtype: int64"
            ]
          },
          "execution_count": 93,
          "metadata": {},
          "output_type": "execute_result"
        }
      ],
      "source": [
        "itens_pedidos.nunique()"
      ]
    },
    {
      "cell_type": "markdown",
      "metadata": {
        "id": "nXRQuYo7ZRkU"
      },
      "source": [
        "Valores duplicados:"
      ]
    },
    {
      "cell_type": "code",
      "execution_count": 94,
      "metadata": {
        "colab": {
          "base_uri": "https://localhost:8080/"
        },
        "id": "R9XMREQUwm9Z",
        "outputId": "74fb0592-3fc4-4544-dfb3-f86ab990fa06"
      },
      "outputs": [
        {
          "data": {
            "text/plain": [
              "0"
            ]
          },
          "execution_count": 94,
          "metadata": {},
          "output_type": "execute_result"
        }
      ],
      "source": [
        "itens_pedidos.duplicated().sum()"
      ]
    },
    {
      "cell_type": "markdown",
      "metadata": {
        "id": "lhaYYzj9Z51W"
      },
      "source": [
        "Valores nulos em cada coluna:"
      ]
    },
    {
      "cell_type": "code",
      "execution_count": 95,
      "metadata": {
        "colab": {
          "base_uri": "https://localhost:8080/"
        },
        "id": "je6HtgehxhVg",
        "outputId": "98282035-b647-4e30-ece3-67a2795dd8a2"
      },
      "outputs": [
        {
          "name": "stdout",
          "output_type": "stream",
          "text": [
            "pedido_id            0\n",
            "pedido_item_id       0\n",
            "produto_id           0\n",
            "vendedor_id          0\n",
            "data_limite_envio    0\n",
            "preco                0\n",
            "frete                0\n",
            "dtype: int64\n"
          ]
        }
      ],
      "source": [
        "print(itens_pedidos.isnull().sum())"
      ]
    },
    {
      "cell_type": "markdown",
      "metadata": {
        "id": "JJCU5O4w7GgJ"
      },
      "source": [
        "## 5.3 - Transformando a coluna 'data_limite_envio' para o formato de data"
      ]
    },
    {
      "cell_type": "code",
      "execution_count": 96,
      "metadata": {
        "id": "diGLYTsr7PVi"
      },
      "outputs": [],
      "source": [
        "itens_pedidos['data_limite_envio'] = pd.to_datetime(itens_pedidos['data_limite_envio'])"
      ]
    },
    {
      "cell_type": "markdown",
      "metadata": {},
      "source": [
        "## 5.4 - Remoção de outliers"
      ]
    },
    {
      "cell_type": "code",
      "execution_count": 97,
      "metadata": {},
      "outputs": [
        {
          "data": {
            "text/plain": [
              "85730   2020-04-09 22:35:08\n",
              "85729   2020-04-09 22:35:08\n",
              "8643    2020-02-05 03:30:51\n",
              "68516   2020-02-03 20:23:22\n",
              "26104   2018-09-18 21:10:15\n",
              "54967   2018-09-14 12:30:56\n",
              "11891   2018-09-14 02:09:37\n",
              "39543   2018-09-13 14:55:28\n",
              "91384   2018-09-12 13:24:27\n",
              "93959   2018-09-12 03:15:36\n",
              "Name: data_limite_envio, dtype: datetime64[ns]"
            ]
          },
          "execution_count": 97,
          "metadata": {},
          "output_type": "execute_result"
        }
      ],
      "source": [
        "# Colocar as datas em ordem decrescente\n",
        "itens_pedidos.sort_values(by='data_limite_envio', ascending=False, inplace=True)\n",
        "# mostrar as 10 primeiras linhas somente com a coluna 'data_limite_envio'\n",
        "itens_pedidos['data_limite_envio'].head(10)"
      ]
    },
    {
      "cell_type": "markdown",
      "metadata": {},
      "source": [
        "Como colocado pela equipe do Olist, os dados são de 2016 a 2018, os dados com ano de 2020 são outliers e serão removidos."
      ]
    },
    {
      "cell_type": "code",
      "execution_count": 98,
      "metadata": {},
      "outputs": [
        {
          "data": {
            "text/plain": [
              "26104    2018-09-18 21:10:15\n",
              "54967    2018-09-14 12:30:56\n",
              "11891    2018-09-14 02:09:37\n",
              "39543    2018-09-13 14:55:28\n",
              "91384    2018-09-12 13:24:27\n",
              "93959    2018-09-12 03:15:36\n",
              "102105   2018-09-11 22:43:50\n",
              "102106   2018-09-11 22:43:50\n",
              "96995    2018-09-11 13:30:23\n",
              "79256    2018-09-11 00:30:19\n",
              "Name: data_limite_envio, dtype: datetime64[ns]"
            ]
          },
          "execution_count": 98,
          "metadata": {},
          "output_type": "execute_result"
        }
      ],
      "source": [
        "# Filtrar as linhas em que o ano não seja 2020\n",
        "itens_pedidos = itens_pedidos[itens_pedidos['data_limite_envio'].dt.year != 2020]\n",
        "\n",
        "# Colocar as datas em ordem decrescente (opcional)\n",
        "itens_pedidos.sort_values(by='data_limite_envio', ascending=False, inplace=True)\n",
        "\n",
        "# Mostrar as 10 primeiras linhas somente com a coluna 'data_limite_envio'\n",
        "itens_pedidos['data_limite_envio'].head(10)"
      ]
    },
    {
      "cell_type": "markdown",
      "metadata": {
        "id": "GpF7eFJG9Z2c"
      },
      "source": [
        "## 5.5 - DataFrame itens_pedidos após tratamento"
      ]
    },
    {
      "cell_type": "code",
      "execution_count": 99,
      "metadata": {
        "colab": {
          "base_uri": "https://localhost:8080/",
          "height": 226
        },
        "id": "FAoD34f-9lSL",
        "outputId": "36198538-09de-408d-822b-23c0704ebf46"
      },
      "outputs": [
        {
          "data": {
            "text/html": [
              "<div>\n",
              "<style scoped>\n",
              "    .dataframe tbody tr th:only-of-type {\n",
              "        vertical-align: middle;\n",
              "    }\n",
              "\n",
              "    .dataframe tbody tr th {\n",
              "        vertical-align: top;\n",
              "    }\n",
              "\n",
              "    .dataframe thead th {\n",
              "        text-align: right;\n",
              "    }\n",
              "</style>\n",
              "<table border=\"1\" class=\"dataframe\">\n",
              "  <thead>\n",
              "    <tr style=\"text-align: right;\">\n",
              "      <th></th>\n",
              "      <th>pedido_id</th>\n",
              "      <th>pedido_item_id</th>\n",
              "      <th>produto_id</th>\n",
              "      <th>vendedor_id</th>\n",
              "      <th>data_limite_envio</th>\n",
              "      <th>preco</th>\n",
              "      <th>frete</th>\n",
              "    </tr>\n",
              "  </thead>\n",
              "  <tbody>\n",
              "    <tr>\n",
              "      <th>26104</th>\n",
              "      <td>3b61aab5de69abc1731138bd104a777f</td>\n",
              "      <td>1</td>\n",
              "      <td>6aa063e063f2ab982b471e58afe06d72</td>\n",
              "      <td>610f72e407cdd7caaa2f8167b0163fd8</td>\n",
              "      <td>2018-09-18 21:10:15</td>\n",
              "      <td>999.99</td>\n",
              "      <td>24.77</td>\n",
              "    </tr>\n",
              "    <tr>\n",
              "      <th>54967</th>\n",
              "      <td>7cfdf7265c9572fc7b7cbd3b9cc438b7</td>\n",
              "      <td>2</td>\n",
              "      <td>17e18b0c88a853dd6de3e48a7cfa9d9a</td>\n",
              "      <td>cee48807215b30a12ca2ca10ffb5f250</td>\n",
              "      <td>2018-09-14 12:30:56</td>\n",
              "      <td>20.00</td>\n",
              "      <td>19.25</td>\n",
              "    </tr>\n",
              "    <tr>\n",
              "      <th>11891</th>\n",
              "      <td>1afe384f199748cff7a42c9902065560</td>\n",
              "      <td>1</td>\n",
              "      <td>4c2a4020fcd651812100ebbeac1b2753</td>\n",
              "      <td>610f72e407cdd7caaa2f8167b0163fd8</td>\n",
              "      <td>2018-09-14 02:09:37</td>\n",
              "      <td>599.99</td>\n",
              "      <td>29.18</td>\n",
              "    </tr>\n",
              "    <tr>\n",
              "      <th>39543</th>\n",
              "      <td>59eaa904b3f0dbde2785ac1b27eccd18</td>\n",
              "      <td>1</td>\n",
              "      <td>61919b39651acb61ec24307ed8b9502d</td>\n",
              "      <td>f61c63d13f7cd800549d5acdd390ae72</td>\n",
              "      <td>2018-09-13 14:55:28</td>\n",
              "      <td>299.00</td>\n",
              "      <td>14.75</td>\n",
              "    </tr>\n",
              "    <tr>\n",
              "      <th>91384</th>\n",
              "      <td>cf5c8d9f52807cb2d2f0a0ff54c478da</td>\n",
              "      <td>6</td>\n",
              "      <td>a7bbff32c7321478b29f924301a1867d</td>\n",
              "      <td>dfc475d54e1b6dbeeb7d7d9bdaa63827</td>\n",
              "      <td>2018-09-12 13:24:27</td>\n",
              "      <td>16.90</td>\n",
              "      <td>8.99</td>\n",
              "    </tr>\n",
              "  </tbody>\n",
              "</table>\n",
              "</div>"
            ],
            "text/plain": [
              "                              pedido_id  pedido_item_id   \n",
              "26104  3b61aab5de69abc1731138bd104a777f               1  \\\n",
              "54967  7cfdf7265c9572fc7b7cbd3b9cc438b7               2   \n",
              "11891  1afe384f199748cff7a42c9902065560               1   \n",
              "39543  59eaa904b3f0dbde2785ac1b27eccd18               1   \n",
              "91384  cf5c8d9f52807cb2d2f0a0ff54c478da               6   \n",
              "\n",
              "                             produto_id                       vendedor_id   \n",
              "26104  6aa063e063f2ab982b471e58afe06d72  610f72e407cdd7caaa2f8167b0163fd8  \\\n",
              "54967  17e18b0c88a853dd6de3e48a7cfa9d9a  cee48807215b30a12ca2ca10ffb5f250   \n",
              "11891  4c2a4020fcd651812100ebbeac1b2753  610f72e407cdd7caaa2f8167b0163fd8   \n",
              "39543  61919b39651acb61ec24307ed8b9502d  f61c63d13f7cd800549d5acdd390ae72   \n",
              "91384  a7bbff32c7321478b29f924301a1867d  dfc475d54e1b6dbeeb7d7d9bdaa63827   \n",
              "\n",
              "        data_limite_envio   preco  frete  \n",
              "26104 2018-09-18 21:10:15  999.99  24.77  \n",
              "54967 2018-09-14 12:30:56   20.00  19.25  \n",
              "11891 2018-09-14 02:09:37  599.99  29.18  \n",
              "39543 2018-09-13 14:55:28  299.00  14.75  \n",
              "91384 2018-09-12 13:24:27   16.90   8.99  "
            ]
          },
          "execution_count": 99,
          "metadata": {},
          "output_type": "execute_result"
        }
      ],
      "source": [
        "itens_pedidos.head()"
      ]
    },
    {
      "cell_type": "code",
      "execution_count": 100,
      "metadata": {
        "colab": {
          "base_uri": "https://localhost:8080/"
        },
        "id": "hasX2nyO9lJI",
        "outputId": "0db32718-2e56-4569-b447-7fcfc471490b"
      },
      "outputs": [
        {
          "name": "stdout",
          "output_type": "stream",
          "text": [
            "<class 'pandas.core.frame.DataFrame'>\n",
            "Index: 112646 entries, 26104 to 101394\n",
            "Data columns (total 7 columns):\n",
            " #   Column             Non-Null Count   Dtype         \n",
            "---  ------             --------------   -----         \n",
            " 0   pedido_id          112646 non-null  object        \n",
            " 1   pedido_item_id     112646 non-null  int64         \n",
            " 2   produto_id         112646 non-null  object        \n",
            " 3   vendedor_id        112646 non-null  object        \n",
            " 4   data_limite_envio  112646 non-null  datetime64[ns]\n",
            " 5   preco              112646 non-null  float64       \n",
            " 6   frete              112646 non-null  float64       \n",
            "dtypes: datetime64[ns](1), float64(2), int64(1), object(3)\n",
            "memory usage: 6.9+ MB\n"
          ]
        }
      ],
      "source": [
        "itens_pedidos.info()"
      ]
    },
    {
      "cell_type": "code",
      "execution_count": 101,
      "metadata": {},
      "outputs": [
        {
          "data": {
            "text/plain": [
              "pedido_id            0\n",
              "pedido_item_id       0\n",
              "produto_id           0\n",
              "vendedor_id          0\n",
              "data_limite_envio    0\n",
              "preco                0\n",
              "frete                0\n",
              "dtype: int64"
            ]
          },
          "execution_count": 101,
          "metadata": {},
          "output_type": "execute_result"
        }
      ],
      "source": [
        "itens_pedidos.isnull().sum()"
      ]
    },
    {
      "cell_type": "code",
      "execution_count": 102,
      "metadata": {},
      "outputs": [
        {
          "data": {
            "text/plain": [
              "0"
            ]
          },
          "execution_count": 102,
          "metadata": {},
          "output_type": "execute_result"
        }
      ],
      "source": [
        "itens_pedidos.duplicated().sum()"
      ]
    },
    {
      "cell_type": "markdown",
      "metadata": {
        "id": "bxjRvE9V8Yhj"
      },
      "source": [
        "# <font color=red>6 - Pedidos</font>"
      ]
    },
    {
      "cell_type": "markdown",
      "metadata": {
        "id": "bOBnrpfROakZ"
      },
      "source": [
        "## 6.1 - Renomear as colunas"
      ]
    },
    {
      "cell_type": "code",
      "execution_count": 103,
      "metadata": {
        "colab": {
          "base_uri": "https://localhost:8080/"
        },
        "id": "g2XyUVH6QDNc",
        "outputId": "2ce822c8-19e6-42bc-d1c7-6d4f4f19b162"
      },
      "outputs": [
        {
          "data": {
            "text/plain": [
              "['order_id',\n",
              " 'customer_id',\n",
              " 'order_status',\n",
              " 'order_purchase_timestamp',\n",
              " 'order_approved_at',\n",
              " 'order_delivered_carrier_date',\n",
              " 'order_delivered_customer_date',\n",
              " 'order_estimated_delivery_date']"
            ]
          },
          "execution_count": 103,
          "metadata": {},
          "output_type": "execute_result"
        }
      ],
      "source": [
        "pedidos.columns.tolist()"
      ]
    },
    {
      "cell_type": "code",
      "execution_count": 104,
      "metadata": {
        "id": "wnpuXoEROesK"
      },
      "outputs": [],
      "source": [
        "mapeamento_colunas = {\n",
        "    'order_id': 'pedido_id',\n",
        "    'customer_id': 'cliente_id',\n",
        "    'order_status': 'pedido_status',\n",
        "    'order_purchase_timestamp': 'data_compra',\n",
        "    'order_approved_at': 'data_aprovacao_pedido',\n",
        "    'order_delivered_carrier_date': 'data_entrega_transportadora',\n",
        "    'order_delivered_customer_date': 'data_entrega_cliente',\n",
        "    'order_estimated_delivery_date': 'data_estimada_entrega'\n",
        "}\n",
        "pedidos.rename(columns=mapeamento_colunas, inplace=True)"
      ]
    },
    {
      "cell_type": "markdown",
      "metadata": {
        "id": "fKfeQCAnJO5e"
      },
      "source": [
        "## 6.2 - Visão geral do conjunto de dados"
      ]
    },
    {
      "cell_type": "code",
      "execution_count": 105,
      "metadata": {
        "colab": {
          "base_uri": "https://localhost:8080/",
          "height": 313
        },
        "id": "dMsYdwWUbvq0",
        "outputId": "264fa5a3-205e-41bb-c008-f62f1bf9425b"
      },
      "outputs": [
        {
          "data": {
            "text/html": [
              "<div>\n",
              "<style scoped>\n",
              "    .dataframe tbody tr th:only-of-type {\n",
              "        vertical-align: middle;\n",
              "    }\n",
              "\n",
              "    .dataframe tbody tr th {\n",
              "        vertical-align: top;\n",
              "    }\n",
              "\n",
              "    .dataframe thead th {\n",
              "        text-align: right;\n",
              "    }\n",
              "</style>\n",
              "<table border=\"1\" class=\"dataframe\">\n",
              "  <thead>\n",
              "    <tr style=\"text-align: right;\">\n",
              "      <th></th>\n",
              "      <th>pedido_id</th>\n",
              "      <th>cliente_id</th>\n",
              "      <th>pedido_status</th>\n",
              "      <th>data_compra</th>\n",
              "      <th>data_aprovacao_pedido</th>\n",
              "      <th>data_entrega_transportadora</th>\n",
              "      <th>data_entrega_cliente</th>\n",
              "      <th>data_estimada_entrega</th>\n",
              "    </tr>\n",
              "  </thead>\n",
              "  <tbody>\n",
              "    <tr>\n",
              "      <th>0</th>\n",
              "      <td>e481f51cbdc54678b7cc49136f2d6af7</td>\n",
              "      <td>9ef432eb6251297304e76186b10a928d</td>\n",
              "      <td>delivered</td>\n",
              "      <td>2017-10-02 10:56:33</td>\n",
              "      <td>2017-10-02 11:07:15</td>\n",
              "      <td>2017-10-04 19:55:00</td>\n",
              "      <td>2017-10-10 21:25:13</td>\n",
              "      <td>2017-10-18 00:00:00</td>\n",
              "    </tr>\n",
              "    <tr>\n",
              "      <th>1</th>\n",
              "      <td>53cdb2fc8bc7dce0b6741e2150273451</td>\n",
              "      <td>b0830fb4747a6c6d20dea0b8c802d7ef</td>\n",
              "      <td>delivered</td>\n",
              "      <td>2018-07-24 20:41:37</td>\n",
              "      <td>2018-07-26 03:24:27</td>\n",
              "      <td>2018-07-26 14:31:00</td>\n",
              "      <td>2018-08-07 15:27:45</td>\n",
              "      <td>2018-08-13 00:00:00</td>\n",
              "    </tr>\n",
              "    <tr>\n",
              "      <th>2</th>\n",
              "      <td>47770eb9100c2d0c44946d9cf07ec65d</td>\n",
              "      <td>41ce2a54c0b03bf3443c3d931a367089</td>\n",
              "      <td>delivered</td>\n",
              "      <td>2018-08-08 08:38:49</td>\n",
              "      <td>2018-08-08 08:55:23</td>\n",
              "      <td>2018-08-08 13:50:00</td>\n",
              "      <td>2018-08-17 18:06:29</td>\n",
              "      <td>2018-09-04 00:00:00</td>\n",
              "    </tr>\n",
              "    <tr>\n",
              "      <th>3</th>\n",
              "      <td>949d5b44dbf5de918fe9c16f97b45f8a</td>\n",
              "      <td>f88197465ea7920adcdbec7375364d82</td>\n",
              "      <td>delivered</td>\n",
              "      <td>2017-11-18 19:28:06</td>\n",
              "      <td>2017-11-18 19:45:59</td>\n",
              "      <td>2017-11-22 13:39:59</td>\n",
              "      <td>2017-12-02 00:28:42</td>\n",
              "      <td>2017-12-15 00:00:00</td>\n",
              "    </tr>\n",
              "    <tr>\n",
              "      <th>4</th>\n",
              "      <td>ad21c59c0840e6cb83a9ceb5573f8159</td>\n",
              "      <td>8ab97904e6daea8866dbdbc4fb7aad2c</td>\n",
              "      <td>delivered</td>\n",
              "      <td>2018-02-13 21:18:39</td>\n",
              "      <td>2018-02-13 22:20:29</td>\n",
              "      <td>2018-02-14 19:46:34</td>\n",
              "      <td>2018-02-16 18:17:02</td>\n",
              "      <td>2018-02-26 00:00:00</td>\n",
              "    </tr>\n",
              "  </tbody>\n",
              "</table>\n",
              "</div>"
            ],
            "text/plain": [
              "                          pedido_id                        cliente_id   \n",
              "0  e481f51cbdc54678b7cc49136f2d6af7  9ef432eb6251297304e76186b10a928d  \\\n",
              "1  53cdb2fc8bc7dce0b6741e2150273451  b0830fb4747a6c6d20dea0b8c802d7ef   \n",
              "2  47770eb9100c2d0c44946d9cf07ec65d  41ce2a54c0b03bf3443c3d931a367089   \n",
              "3  949d5b44dbf5de918fe9c16f97b45f8a  f88197465ea7920adcdbec7375364d82   \n",
              "4  ad21c59c0840e6cb83a9ceb5573f8159  8ab97904e6daea8866dbdbc4fb7aad2c   \n",
              "\n",
              "  pedido_status          data_compra data_aprovacao_pedido   \n",
              "0     delivered  2017-10-02 10:56:33   2017-10-02 11:07:15  \\\n",
              "1     delivered  2018-07-24 20:41:37   2018-07-26 03:24:27   \n",
              "2     delivered  2018-08-08 08:38:49   2018-08-08 08:55:23   \n",
              "3     delivered  2017-11-18 19:28:06   2017-11-18 19:45:59   \n",
              "4     delivered  2018-02-13 21:18:39   2018-02-13 22:20:29   \n",
              "\n",
              "  data_entrega_transportadora data_entrega_cliente data_estimada_entrega  \n",
              "0         2017-10-04 19:55:00  2017-10-10 21:25:13   2017-10-18 00:00:00  \n",
              "1         2018-07-26 14:31:00  2018-08-07 15:27:45   2018-08-13 00:00:00  \n",
              "2         2018-08-08 13:50:00  2018-08-17 18:06:29   2018-09-04 00:00:00  \n",
              "3         2017-11-22 13:39:59  2017-12-02 00:28:42   2017-12-15 00:00:00  \n",
              "4         2018-02-14 19:46:34  2018-02-16 18:17:02   2018-02-26 00:00:00  "
            ]
          },
          "execution_count": 105,
          "metadata": {},
          "output_type": "execute_result"
        }
      ],
      "source": [
        "pedidos.head()"
      ]
    },
    {
      "cell_type": "code",
      "execution_count": 106,
      "metadata": {
        "colab": {
          "base_uri": "https://localhost:8080/"
        },
        "id": "BScJV2TxJWD7",
        "outputId": "a5b9fb63-ee24-4e32-db18-bd471eec5cec"
      },
      "outputs": [
        {
          "name": "stdout",
          "output_type": "stream",
          "text": [
            "<class 'pandas.core.frame.DataFrame'>\n",
            "RangeIndex: 99441 entries, 0 to 99440\n",
            "Data columns (total 8 columns):\n",
            " #   Column                       Non-Null Count  Dtype \n",
            "---  ------                       --------------  ----- \n",
            " 0   pedido_id                    99441 non-null  object\n",
            " 1   cliente_id                   99441 non-null  object\n",
            " 2   pedido_status                99441 non-null  object\n",
            " 3   data_compra                  99441 non-null  object\n",
            " 4   data_aprovacao_pedido        99281 non-null  object\n",
            " 5   data_entrega_transportadora  97658 non-null  object\n",
            " 6   data_entrega_cliente         96476 non-null  object\n",
            " 7   data_estimada_entrega        99441 non-null  object\n",
            "dtypes: object(8)\n",
            "memory usage: 6.1+ MB\n",
            "None\n"
          ]
        }
      ],
      "source": [
        "print(pedidos.info())"
      ]
    },
    {
      "cell_type": "markdown",
      "metadata": {
        "id": "KxMhMDlXYw4B"
      },
      "source": [
        "Valores únicos em cada coluna:"
      ]
    },
    {
      "cell_type": "code",
      "execution_count": 107,
      "metadata": {
        "colab": {
          "base_uri": "https://localhost:8080/"
        },
        "id": "nFuV8vVIMXzO",
        "outputId": "760e4167-91fe-4ce9-e744-9d6bc6f6c900"
      },
      "outputs": [
        {
          "data": {
            "text/plain": [
              "pedido_id                      99441\n",
              "cliente_id                     99441\n",
              "pedido_status                      8\n",
              "data_compra                    98875\n",
              "data_aprovacao_pedido          90733\n",
              "data_entrega_transportadora    81018\n",
              "data_entrega_cliente           95664\n",
              "data_estimada_entrega            459\n",
              "dtype: int64"
            ]
          },
          "execution_count": 107,
          "metadata": {},
          "output_type": "execute_result"
        }
      ],
      "source": [
        "pedidos.nunique()"
      ]
    },
    {
      "cell_type": "markdown",
      "metadata": {
        "id": "eqPTMGUsZN9G"
      },
      "source": [
        "Valores duplicados:"
      ]
    },
    {
      "cell_type": "code",
      "execution_count": 108,
      "metadata": {
        "colab": {
          "base_uri": "https://localhost:8080/"
        },
        "id": "5zjoyptmMXrd",
        "outputId": "259a5c42-ee78-49f0-ec57-9aaae2df249e"
      },
      "outputs": [
        {
          "data": {
            "text/plain": [
              "0"
            ]
          },
          "execution_count": 108,
          "metadata": {},
          "output_type": "execute_result"
        }
      ],
      "source": [
        "pedidos.duplicated().sum()"
      ]
    },
    {
      "cell_type": "markdown",
      "metadata": {
        "id": "uEQvNbTDaKOZ"
      },
      "source": [
        "Valores nulos em cada coluna:"
      ]
    },
    {
      "cell_type": "code",
      "execution_count": 109,
      "metadata": {
        "colab": {
          "base_uri": "https://localhost:8080/"
        },
        "id": "rrzsH4S7MXva",
        "outputId": "a210b4ab-77dc-4ad0-ceec-9b95f120362b"
      },
      "outputs": [
        {
          "data": {
            "text/plain": [
              "pedido_id                         0\n",
              "cliente_id                        0\n",
              "pedido_status                     0\n",
              "data_compra                       0\n",
              "data_aprovacao_pedido           160\n",
              "data_entrega_transportadora    1783\n",
              "data_entrega_cliente           2965\n",
              "data_estimada_entrega             0\n",
              "dtype: int64"
            ]
          },
          "execution_count": 109,
          "metadata": {},
          "output_type": "execute_result"
        }
      ],
      "source": [
        "pedidos.isnull().sum()"
      ]
    },
    {
      "cell_type": "markdown",
      "metadata": {
        "id": "O2fU-Yq2r2H3"
      },
      "source": [
        "## 6.3 - Será removida as linhas irrelevantes, pois serão analisados somente pedidos entregues e concluídos"
      ]
    },
    {
      "cell_type": "code",
      "execution_count": 110,
      "metadata": {
        "colab": {
          "base_uri": "https://localhost:8080/"
        },
        "id": "_Fm1vAaFJV54",
        "outputId": "0cb671c4-cbdb-490b-9130-f6cbcc9450f1"
      },
      "outputs": [
        {
          "data": {
            "text/plain": [
              "pedido_status\n",
              "delivered      96478\n",
              "shipped         1107\n",
              "canceled         625\n",
              "unavailable      609\n",
              "invoiced         314\n",
              "processing       301\n",
              "created            5\n",
              "approved           2\n",
              "Name: count, dtype: int64"
            ]
          },
          "execution_count": 110,
          "metadata": {},
          "output_type": "execute_result"
        }
      ],
      "source": [
        "pedidos['pedido_status'].value_counts()"
      ]
    },
    {
      "cell_type": "markdown",
      "metadata": {
        "id": "Y9m51UdP0zBH"
      },
      "source": [
        "Entregue (delivered),\n",
        "Enviado (shipped),\n",
        "Cancelado (canceled),\n",
        "Indisponível (unavailable),\n",
        "Faturado (invoiced),\n",
        "Em processamento (processing),\n",
        "Criado (created),\n",
        "Aprovado (approved)."
      ]
    },
    {
      "cell_type": "markdown",
      "metadata": {
        "id": "60t4EedX08s-"
      },
      "source": [
        "Remoção das linhas em que o pedido foi cancelado ou o produto estava indisponível."
      ]
    },
    {
      "cell_type": "code",
      "execution_count": 111,
      "metadata": {
        "id": "Uty_XyJku3pN"
      },
      "outputs": [],
      "source": [
        "pedidos = pedidos[~pedidos['pedido_status'].isin(['canceled','unavailable'])]"
      ]
    },
    {
      "cell_type": "markdown",
      "metadata": {
        "id": "8Ht9O2KS1Uxu"
      },
      "source": [
        "Remoção das linhas em que a data da entrega do pedido está nula e o status do pedido não está como entregue, que indicaria que o pedido ainda não foi entregue."
      ]
    },
    {
      "cell_type": "code",
      "execution_count": 112,
      "metadata": {
        "id": "rGxn-lrozjSy"
      },
      "outputs": [],
      "source": [
        "pedidos = pedidos[~(pedidos['data_entrega_cliente'].isnull() & (pedidos['pedido_status'] != 'delivered'))]"
      ]
    },
    {
      "cell_type": "markdown",
      "metadata": {
        "id": "FlUoL3Lv65H1"
      },
      "source": [
        "## 6.4 - Remover a coluna pedido_status porque só ficou o status 'delivered' e por isso se tornou irrelevante"
      ]
    },
    {
      "cell_type": "code",
      "execution_count": 113,
      "metadata": {
        "colab": {
          "base_uri": "https://localhost:8080/"
        },
        "id": "DvZ_EhaL6q2X",
        "outputId": "a44b3942-a5d4-470f-9bee-0b149200d388"
      },
      "outputs": [
        {
          "data": {
            "text/plain": [
              "pedido_id                      96478\n",
              "cliente_id                     96478\n",
              "pedido_status                      1\n",
              "data_compra                    95956\n",
              "data_aprovacao_pedido          88274\n",
              "data_entrega_transportadora    80106\n",
              "data_entrega_cliente           95658\n",
              "data_estimada_entrega            445\n",
              "dtype: int64"
            ]
          },
          "execution_count": 113,
          "metadata": {},
          "output_type": "execute_result"
        }
      ],
      "source": [
        "pedidos.nunique()"
      ]
    },
    {
      "cell_type": "code",
      "execution_count": 114,
      "metadata": {
        "id": "TM5KHnNn8YA7"
      },
      "outputs": [],
      "source": [
        "pedidos = pedidos.drop(columns=['pedido_status'])"
      ]
    },
    {
      "cell_type": "markdown",
      "metadata": {
        "id": "mRdBquxF4w1E"
      },
      "source": [
        "## 6.5 - Transformar as colunas com data para o formato adequado"
      ]
    },
    {
      "cell_type": "code",
      "execution_count": 115,
      "metadata": {
        "colab": {
          "base_uri": "https://localhost:8080/"
        },
        "id": "cWzv6TCg5Fv-",
        "outputId": "ffac0c97-a58f-4e0c-9420-efab8ec793e5"
      },
      "outputs": [
        {
          "name": "stdout",
          "output_type": "stream",
          "text": [
            "<class 'pandas.core.frame.DataFrame'>\n",
            "Index: 96478 entries, 0 to 99440\n",
            "Data columns (total 7 columns):\n",
            " #   Column                       Non-Null Count  Dtype \n",
            "---  ------                       --------------  ----- \n",
            " 0   pedido_id                    96478 non-null  object\n",
            " 1   cliente_id                   96478 non-null  object\n",
            " 2   data_compra                  96478 non-null  object\n",
            " 3   data_aprovacao_pedido        96464 non-null  object\n",
            " 4   data_entrega_transportadora  96476 non-null  object\n",
            " 5   data_entrega_cliente         96470 non-null  object\n",
            " 6   data_estimada_entrega        96478 non-null  object\n",
            "dtypes: object(7)\n",
            "memory usage: 5.9+ MB\n"
          ]
        }
      ],
      "source": [
        "pedidos.info()"
      ]
    },
    {
      "cell_type": "code",
      "execution_count": 116,
      "metadata": {
        "id": "NGWzOBsL5EdQ"
      },
      "outputs": [],
      "source": [
        "colunas_data = ['data_compra', 'data_aprovacao_pedido', 'data_entrega_transportadora', 'data_entrega_cliente', 'data_estimada_entrega']\n",
        "\n",
        "for coluna in colunas_data:\n",
        "    pedidos[coluna] = pd.to_datetime(pedidos[coluna]).dt.floor('s')"
      ]
    },
    {
      "cell_type": "markdown",
      "metadata": {
        "id": "s9sqxKd1rqPd"
      },
      "source": [
        "## 6.6 - Lidando com valores ausentes"
      ]
    },
    {
      "cell_type": "code",
      "execution_count": 117,
      "metadata": {
        "colab": {
          "base_uri": "https://localhost:8080/"
        },
        "id": "ydwUMQ1ftZ5C",
        "outputId": "9291adfc-de25-49a6-ef21-e2576b299d77"
      },
      "outputs": [
        {
          "data": {
            "text/plain": [
              "pedido_id                       0\n",
              "cliente_id                      0\n",
              "data_compra                     0\n",
              "data_aprovacao_pedido          14\n",
              "data_entrega_transportadora     2\n",
              "data_entrega_cliente            8\n",
              "data_estimada_entrega           0\n",
              "dtype: int64"
            ]
          },
          "execution_count": 117,
          "metadata": {},
          "output_type": "execute_result"
        }
      ],
      "source": [
        "pedidos.isnull().sum()"
      ]
    },
    {
      "cell_type": "markdown",
      "metadata": {
        "id": "B5-wfJD-2RD8"
      },
      "source": [
        "### 6.5.1 - Para preencher os dados nulos da coluna \"data_aprovacao_pedido\" será calculado o tempo médio em que o pedido é aprovado e esse valor será adicionado à data da compra"
      ]
    },
    {
      "cell_type": "markdown",
      "metadata": {
        "id": "O6FPhzQQ5qCK"
      },
      "source": [
        "DataFrame das linhas com dados nulos na coluna 'data_aprovacao_pedido' antes do tratamento."
      ]
    },
    {
      "cell_type": "code",
      "execution_count": 118,
      "metadata": {
        "colab": {
          "base_uri": "https://localhost:8080/",
          "height": 313
        },
        "id": "Xjxfr-Ety2L9",
        "outputId": "0d5d89c5-14ba-4c98-a3f5-2c7a57c8a535"
      },
      "outputs": [
        {
          "data": {
            "text/html": [
              "<div>\n",
              "<style scoped>\n",
              "    .dataframe tbody tr th:only-of-type {\n",
              "        vertical-align: middle;\n",
              "    }\n",
              "\n",
              "    .dataframe tbody tr th {\n",
              "        vertical-align: top;\n",
              "    }\n",
              "\n",
              "    .dataframe thead th {\n",
              "        text-align: right;\n",
              "    }\n",
              "</style>\n",
              "<table border=\"1\" class=\"dataframe\">\n",
              "  <thead>\n",
              "    <tr style=\"text-align: right;\">\n",
              "      <th></th>\n",
              "      <th>pedido_id</th>\n",
              "      <th>cliente_id</th>\n",
              "      <th>data_compra</th>\n",
              "      <th>data_aprovacao_pedido</th>\n",
              "      <th>data_entrega_transportadora</th>\n",
              "      <th>data_entrega_cliente</th>\n",
              "      <th>data_estimada_entrega</th>\n",
              "    </tr>\n",
              "  </thead>\n",
              "  <tbody>\n",
              "    <tr>\n",
              "      <th>5323</th>\n",
              "      <td>e04abd8149ef81b95221e88f6ed9ab6a</td>\n",
              "      <td>2127dc6603ac33544953ef05ec155771</td>\n",
              "      <td>2017-02-18 14:40:00</td>\n",
              "      <td>NaT</td>\n",
              "      <td>2017-02-23 12:04:47</td>\n",
              "      <td>2017-03-01 13:25:33</td>\n",
              "      <td>2017-03-17</td>\n",
              "    </tr>\n",
              "    <tr>\n",
              "      <th>16567</th>\n",
              "      <td>8a9adc69528e1001fc68dd0aaebbb54a</td>\n",
              "      <td>4c1ccc74e00993733742a3c786dc3c1f</td>\n",
              "      <td>2017-02-18 12:45:31</td>\n",
              "      <td>NaT</td>\n",
              "      <td>2017-02-23 09:01:52</td>\n",
              "      <td>2017-03-02 10:05:06</td>\n",
              "      <td>2017-03-21</td>\n",
              "    </tr>\n",
              "    <tr>\n",
              "      <th>19031</th>\n",
              "      <td>7013bcfc1c97fe719a7b5e05e61c12db</td>\n",
              "      <td>2941af76d38100e0f8740a374f1a5dc3</td>\n",
              "      <td>2017-02-18 13:29:47</td>\n",
              "      <td>NaT</td>\n",
              "      <td>2017-02-22 16:25:25</td>\n",
              "      <td>2017-03-01 08:07:38</td>\n",
              "      <td>2017-03-17</td>\n",
              "    </tr>\n",
              "    <tr>\n",
              "      <th>22663</th>\n",
              "      <td>5cf925b116421afa85ee25e99b4c34fb</td>\n",
              "      <td>29c35fc91fc13fb5073c8f30505d860d</td>\n",
              "      <td>2017-02-18 16:48:35</td>\n",
              "      <td>NaT</td>\n",
              "      <td>2017-02-22 11:23:10</td>\n",
              "      <td>2017-03-09 07:28:47</td>\n",
              "      <td>2017-03-31</td>\n",
              "    </tr>\n",
              "    <tr>\n",
              "      <th>23156</th>\n",
              "      <td>12a95a3c06dbaec84bcfb0e2da5d228a</td>\n",
              "      <td>1e101e0daffaddce8159d25a8e53f2b2</td>\n",
              "      <td>2017-02-17 13:05:55</td>\n",
              "      <td>NaT</td>\n",
              "      <td>2017-02-22 11:23:11</td>\n",
              "      <td>2017-03-02 11:09:19</td>\n",
              "      <td>2017-03-20</td>\n",
              "    </tr>\n",
              "  </tbody>\n",
              "</table>\n",
              "</div>"
            ],
            "text/plain": [
              "                              pedido_id                        cliente_id   \n",
              "5323   e04abd8149ef81b95221e88f6ed9ab6a  2127dc6603ac33544953ef05ec155771  \\\n",
              "16567  8a9adc69528e1001fc68dd0aaebbb54a  4c1ccc74e00993733742a3c786dc3c1f   \n",
              "19031  7013bcfc1c97fe719a7b5e05e61c12db  2941af76d38100e0f8740a374f1a5dc3   \n",
              "22663  5cf925b116421afa85ee25e99b4c34fb  29c35fc91fc13fb5073c8f30505d860d   \n",
              "23156  12a95a3c06dbaec84bcfb0e2da5d228a  1e101e0daffaddce8159d25a8e53f2b2   \n",
              "\n",
              "              data_compra data_aprovacao_pedido data_entrega_transportadora   \n",
              "5323  2017-02-18 14:40:00                   NaT         2017-02-23 12:04:47  \\\n",
              "16567 2017-02-18 12:45:31                   NaT         2017-02-23 09:01:52   \n",
              "19031 2017-02-18 13:29:47                   NaT         2017-02-22 16:25:25   \n",
              "22663 2017-02-18 16:48:35                   NaT         2017-02-22 11:23:10   \n",
              "23156 2017-02-17 13:05:55                   NaT         2017-02-22 11:23:11   \n",
              "\n",
              "      data_entrega_cliente data_estimada_entrega  \n",
              "5323   2017-03-01 13:25:33            2017-03-17  \n",
              "16567  2017-03-02 10:05:06            2017-03-21  \n",
              "19031  2017-03-01 08:07:38            2017-03-17  \n",
              "22663  2017-03-09 07:28:47            2017-03-31  \n",
              "23156  2017-03-02 11:09:19            2017-03-20  "
            ]
          },
          "execution_count": 118,
          "metadata": {},
          "output_type": "execute_result"
        }
      ],
      "source": [
        "linhas_com_nulos = pedidos[pedidos['data_aprovacao_pedido'].isnull()]\n",
        "pedidos_id_com_nulos = linhas_com_nulos['pedido_id'].tolist()\n",
        "linhas_com_nulos.head()"
      ]
    },
    {
      "cell_type": "code",
      "execution_count": 119,
      "metadata": {
        "colab": {
          "base_uri": "https://localhost:8080/"
        },
        "id": "1b2ahtos3P7q",
        "outputId": "68c8b493-fc0b-43ff-e3b8-ada16ef1f5a4"
      },
      "outputs": [
        {
          "data": {
            "text/plain": [
              "Timedelta('0 days 10:16:36')"
            ]
          },
          "execution_count": 119,
          "metadata": {},
          "output_type": "execute_result"
        }
      ],
      "source": [
        "# Tempo médio de aprovação dos pedidos\n",
        "tempo_medio_aprovacao = (pedidos['data_aprovacao_pedido'] - pedidos['data_compra']).mean()\n",
        "# Valor arredondado sem os nanosegundos\n",
        "tempo_medio_aprovacao = pd.to_timedelta(tempo_medio_aprovacao).floor('1s')\n",
        "tempo_medio_aprovacao\n"
      ]
    },
    {
      "cell_type": "code",
      "execution_count": 120,
      "metadata": {
        "id": "UhYIA7MBt_20"
      },
      "outputs": [],
      "source": [
        "# Preencher os valores nulos em 'data_aprovacao_pedido' adicionando o tempo médio\n",
        "pedidos['data_aprovacao_pedido'].fillna(pedidos['data_compra'] + tempo_medio_aprovacao, inplace=True)"
      ]
    },
    {
      "cell_type": "markdown",
      "metadata": {
        "id": "CxwG3_1E6QQb"
      },
      "source": [
        "DataFrame das linhas com dados nulos na coluna 'data_aprovacao_pedido' após o preenchimento."
      ]
    },
    {
      "cell_type": "code",
      "execution_count": 121,
      "metadata": {
        "colab": {
          "base_uri": "https://localhost:8080/",
          "height": 313
        },
        "id": "6G2iesoP078j",
        "outputId": "a858c290-c46d-4cdf-845d-d891492a91f4"
      },
      "outputs": [
        {
          "data": {
            "text/html": [
              "<div>\n",
              "<style scoped>\n",
              "    .dataframe tbody tr th:only-of-type {\n",
              "        vertical-align: middle;\n",
              "    }\n",
              "\n",
              "    .dataframe tbody tr th {\n",
              "        vertical-align: top;\n",
              "    }\n",
              "\n",
              "    .dataframe thead th {\n",
              "        text-align: right;\n",
              "    }\n",
              "</style>\n",
              "<table border=\"1\" class=\"dataframe\">\n",
              "  <thead>\n",
              "    <tr style=\"text-align: right;\">\n",
              "      <th></th>\n",
              "      <th>pedido_id</th>\n",
              "      <th>cliente_id</th>\n",
              "      <th>data_compra</th>\n",
              "      <th>data_aprovacao_pedido</th>\n",
              "      <th>data_entrega_transportadora</th>\n",
              "      <th>data_entrega_cliente</th>\n",
              "      <th>data_estimada_entrega</th>\n",
              "    </tr>\n",
              "  </thead>\n",
              "  <tbody>\n",
              "    <tr>\n",
              "      <th>5323</th>\n",
              "      <td>e04abd8149ef81b95221e88f6ed9ab6a</td>\n",
              "      <td>2127dc6603ac33544953ef05ec155771</td>\n",
              "      <td>2017-02-18 14:40:00</td>\n",
              "      <td>2017-02-19 00:56:36</td>\n",
              "      <td>2017-02-23 12:04:47</td>\n",
              "      <td>2017-03-01 13:25:33</td>\n",
              "      <td>2017-03-17</td>\n",
              "    </tr>\n",
              "    <tr>\n",
              "      <th>16567</th>\n",
              "      <td>8a9adc69528e1001fc68dd0aaebbb54a</td>\n",
              "      <td>4c1ccc74e00993733742a3c786dc3c1f</td>\n",
              "      <td>2017-02-18 12:45:31</td>\n",
              "      <td>2017-02-18 23:02:07</td>\n",
              "      <td>2017-02-23 09:01:52</td>\n",
              "      <td>2017-03-02 10:05:06</td>\n",
              "      <td>2017-03-21</td>\n",
              "    </tr>\n",
              "    <tr>\n",
              "      <th>19031</th>\n",
              "      <td>7013bcfc1c97fe719a7b5e05e61c12db</td>\n",
              "      <td>2941af76d38100e0f8740a374f1a5dc3</td>\n",
              "      <td>2017-02-18 13:29:47</td>\n",
              "      <td>2017-02-18 23:46:23</td>\n",
              "      <td>2017-02-22 16:25:25</td>\n",
              "      <td>2017-03-01 08:07:38</td>\n",
              "      <td>2017-03-17</td>\n",
              "    </tr>\n",
              "    <tr>\n",
              "      <th>22663</th>\n",
              "      <td>5cf925b116421afa85ee25e99b4c34fb</td>\n",
              "      <td>29c35fc91fc13fb5073c8f30505d860d</td>\n",
              "      <td>2017-02-18 16:48:35</td>\n",
              "      <td>2017-02-19 03:05:11</td>\n",
              "      <td>2017-02-22 11:23:10</td>\n",
              "      <td>2017-03-09 07:28:47</td>\n",
              "      <td>2017-03-31</td>\n",
              "    </tr>\n",
              "    <tr>\n",
              "      <th>23156</th>\n",
              "      <td>12a95a3c06dbaec84bcfb0e2da5d228a</td>\n",
              "      <td>1e101e0daffaddce8159d25a8e53f2b2</td>\n",
              "      <td>2017-02-17 13:05:55</td>\n",
              "      <td>2017-02-17 23:22:31</td>\n",
              "      <td>2017-02-22 11:23:11</td>\n",
              "      <td>2017-03-02 11:09:19</td>\n",
              "      <td>2017-03-20</td>\n",
              "    </tr>\n",
              "  </tbody>\n",
              "</table>\n",
              "</div>"
            ],
            "text/plain": [
              "                              pedido_id                        cliente_id   \n",
              "5323   e04abd8149ef81b95221e88f6ed9ab6a  2127dc6603ac33544953ef05ec155771  \\\n",
              "16567  8a9adc69528e1001fc68dd0aaebbb54a  4c1ccc74e00993733742a3c786dc3c1f   \n",
              "19031  7013bcfc1c97fe719a7b5e05e61c12db  2941af76d38100e0f8740a374f1a5dc3   \n",
              "22663  5cf925b116421afa85ee25e99b4c34fb  29c35fc91fc13fb5073c8f30505d860d   \n",
              "23156  12a95a3c06dbaec84bcfb0e2da5d228a  1e101e0daffaddce8159d25a8e53f2b2   \n",
              "\n",
              "              data_compra data_aprovacao_pedido data_entrega_transportadora   \n",
              "5323  2017-02-18 14:40:00   2017-02-19 00:56:36         2017-02-23 12:04:47  \\\n",
              "16567 2017-02-18 12:45:31   2017-02-18 23:02:07         2017-02-23 09:01:52   \n",
              "19031 2017-02-18 13:29:47   2017-02-18 23:46:23         2017-02-22 16:25:25   \n",
              "22663 2017-02-18 16:48:35   2017-02-19 03:05:11         2017-02-22 11:23:10   \n",
              "23156 2017-02-17 13:05:55   2017-02-17 23:22:31         2017-02-22 11:23:11   \n",
              "\n",
              "      data_entrega_cliente data_estimada_entrega  \n",
              "5323   2017-03-01 13:25:33            2017-03-17  \n",
              "16567  2017-03-02 10:05:06            2017-03-21  \n",
              "19031  2017-03-01 08:07:38            2017-03-17  \n",
              "22663  2017-03-09 07:28:47            2017-03-31  \n",
              "23156  2017-03-02 11:09:19            2017-03-20  "
            ]
          },
          "execution_count": 121,
          "metadata": {},
          "output_type": "execute_result"
        }
      ],
      "source": [
        "pedido_preenchido= pedidos[pedidos['pedido_id'].isin(pedidos_id_com_nulos)]\n",
        "pedido_preenchido.head()"
      ]
    },
    {
      "cell_type": "markdown",
      "metadata": {
        "id": "zve9pPX83Qgv"
      },
      "source": [
        "### 6.5.2 - Essa mesma lógica será usada para preencher a coluna 'data_entrega_transportadora' e 'data_entrega_cliente'"
      ]
    },
    {
      "cell_type": "code",
      "execution_count": 122,
      "metadata": {
        "id": "G2sXVZKyMXnP"
      },
      "outputs": [],
      "source": [
        "# Tempo médio para entrega na transportadora\n",
        "tempo_medio_transportadora = (pedidos['data_entrega_transportadora'] - pedidos['data_aprovacao_pedido']).mean()\n",
        "# Valor arredondado sem os nanosegundos\n",
        "tempo_medio_transportadora = pd.to_timedelta(tempo_medio_transportadora).floor('1s')\n",
        "# Preencher os valores nulos em 'data_entrega_transportadora' adicionando o tempo médio\n",
        "pedidos['data_entrega_transportadora'].fillna(pedidos['data_aprovacao_pedido'] + tempo_medio_transportadora, inplace=True)"
      ]
    },
    {
      "cell_type": "code",
      "execution_count": 123,
      "metadata": {
        "id": "DoLEDx0WCc6V"
      },
      "outputs": [],
      "source": [
        "# Tempo médio para entrega no cliente\n",
        "tempo_medio_cliente = (pedidos['data_entrega_cliente'] - pedidos['data_entrega_transportadora']).mean()\n",
        "# Valor arredondado sem os nanosegundos\n",
        "tempo_medio_cliente = pd.to_timedelta(tempo_medio_cliente).floor('1s')\n",
        "# Preencher os valores nulos em 'data_entrega_cliente' adicionando o tempo médio\n",
        "pedidos['data_entrega_cliente'].fillna(pedidos['data_entrega_transportadora'] + tempo_medio_cliente, inplace=True)"
      ]
    },
    {
      "cell_type": "markdown",
      "metadata": {
        "id": "nCSoyy5_9Kxk"
      },
      "source": [
        "## 6.7 - DataFrame pedidos após tratamento"
      ]
    },
    {
      "cell_type": "code",
      "execution_count": 124,
      "metadata": {
        "colab": {
          "base_uri": "https://localhost:8080/",
          "height": 313
        },
        "id": "EFRFKo-F9zD7",
        "outputId": "91d564ad-47f2-4ecc-a8b6-a70b25544371"
      },
      "outputs": [
        {
          "data": {
            "text/html": [
              "<div>\n",
              "<style scoped>\n",
              "    .dataframe tbody tr th:only-of-type {\n",
              "        vertical-align: middle;\n",
              "    }\n",
              "\n",
              "    .dataframe tbody tr th {\n",
              "        vertical-align: top;\n",
              "    }\n",
              "\n",
              "    .dataframe thead th {\n",
              "        text-align: right;\n",
              "    }\n",
              "</style>\n",
              "<table border=\"1\" class=\"dataframe\">\n",
              "  <thead>\n",
              "    <tr style=\"text-align: right;\">\n",
              "      <th></th>\n",
              "      <th>pedido_id</th>\n",
              "      <th>cliente_id</th>\n",
              "      <th>data_compra</th>\n",
              "      <th>data_aprovacao_pedido</th>\n",
              "      <th>data_entrega_transportadora</th>\n",
              "      <th>data_entrega_cliente</th>\n",
              "      <th>data_estimada_entrega</th>\n",
              "    </tr>\n",
              "  </thead>\n",
              "  <tbody>\n",
              "    <tr>\n",
              "      <th>0</th>\n",
              "      <td>e481f51cbdc54678b7cc49136f2d6af7</td>\n",
              "      <td>9ef432eb6251297304e76186b10a928d</td>\n",
              "      <td>2017-10-02 10:56:33</td>\n",
              "      <td>2017-10-02 11:07:15</td>\n",
              "      <td>2017-10-04 19:55:00</td>\n",
              "      <td>2017-10-10 21:25:13</td>\n",
              "      <td>2017-10-18</td>\n",
              "    </tr>\n",
              "    <tr>\n",
              "      <th>1</th>\n",
              "      <td>53cdb2fc8bc7dce0b6741e2150273451</td>\n",
              "      <td>b0830fb4747a6c6d20dea0b8c802d7ef</td>\n",
              "      <td>2018-07-24 20:41:37</td>\n",
              "      <td>2018-07-26 03:24:27</td>\n",
              "      <td>2018-07-26 14:31:00</td>\n",
              "      <td>2018-08-07 15:27:45</td>\n",
              "      <td>2018-08-13</td>\n",
              "    </tr>\n",
              "    <tr>\n",
              "      <th>2</th>\n",
              "      <td>47770eb9100c2d0c44946d9cf07ec65d</td>\n",
              "      <td>41ce2a54c0b03bf3443c3d931a367089</td>\n",
              "      <td>2018-08-08 08:38:49</td>\n",
              "      <td>2018-08-08 08:55:23</td>\n",
              "      <td>2018-08-08 13:50:00</td>\n",
              "      <td>2018-08-17 18:06:29</td>\n",
              "      <td>2018-09-04</td>\n",
              "    </tr>\n",
              "    <tr>\n",
              "      <th>3</th>\n",
              "      <td>949d5b44dbf5de918fe9c16f97b45f8a</td>\n",
              "      <td>f88197465ea7920adcdbec7375364d82</td>\n",
              "      <td>2017-11-18 19:28:06</td>\n",
              "      <td>2017-11-18 19:45:59</td>\n",
              "      <td>2017-11-22 13:39:59</td>\n",
              "      <td>2017-12-02 00:28:42</td>\n",
              "      <td>2017-12-15</td>\n",
              "    </tr>\n",
              "    <tr>\n",
              "      <th>4</th>\n",
              "      <td>ad21c59c0840e6cb83a9ceb5573f8159</td>\n",
              "      <td>8ab97904e6daea8866dbdbc4fb7aad2c</td>\n",
              "      <td>2018-02-13 21:18:39</td>\n",
              "      <td>2018-02-13 22:20:29</td>\n",
              "      <td>2018-02-14 19:46:34</td>\n",
              "      <td>2018-02-16 18:17:02</td>\n",
              "      <td>2018-02-26</td>\n",
              "    </tr>\n",
              "  </tbody>\n",
              "</table>\n",
              "</div>"
            ],
            "text/plain": [
              "                          pedido_id                        cliente_id   \n",
              "0  e481f51cbdc54678b7cc49136f2d6af7  9ef432eb6251297304e76186b10a928d  \\\n",
              "1  53cdb2fc8bc7dce0b6741e2150273451  b0830fb4747a6c6d20dea0b8c802d7ef   \n",
              "2  47770eb9100c2d0c44946d9cf07ec65d  41ce2a54c0b03bf3443c3d931a367089   \n",
              "3  949d5b44dbf5de918fe9c16f97b45f8a  f88197465ea7920adcdbec7375364d82   \n",
              "4  ad21c59c0840e6cb83a9ceb5573f8159  8ab97904e6daea8866dbdbc4fb7aad2c   \n",
              "\n",
              "          data_compra data_aprovacao_pedido data_entrega_transportadora   \n",
              "0 2017-10-02 10:56:33   2017-10-02 11:07:15         2017-10-04 19:55:00  \\\n",
              "1 2018-07-24 20:41:37   2018-07-26 03:24:27         2018-07-26 14:31:00   \n",
              "2 2018-08-08 08:38:49   2018-08-08 08:55:23         2018-08-08 13:50:00   \n",
              "3 2017-11-18 19:28:06   2017-11-18 19:45:59         2017-11-22 13:39:59   \n",
              "4 2018-02-13 21:18:39   2018-02-13 22:20:29         2018-02-14 19:46:34   \n",
              "\n",
              "  data_entrega_cliente data_estimada_entrega  \n",
              "0  2017-10-10 21:25:13            2017-10-18  \n",
              "1  2018-08-07 15:27:45            2018-08-13  \n",
              "2  2018-08-17 18:06:29            2018-09-04  \n",
              "3  2017-12-02 00:28:42            2017-12-15  \n",
              "4  2018-02-16 18:17:02            2018-02-26  "
            ]
          },
          "execution_count": 124,
          "metadata": {},
          "output_type": "execute_result"
        }
      ],
      "source": [
        "pedidos.head()"
      ]
    },
    {
      "cell_type": "code",
      "execution_count": 125,
      "metadata": {
        "colab": {
          "base_uri": "https://localhost:8080/"
        },
        "id": "VZz3JKEs9y6G",
        "outputId": "2be3c8fa-80d4-475d-a02f-bff357824f59"
      },
      "outputs": [
        {
          "name": "stdout",
          "output_type": "stream",
          "text": [
            "<class 'pandas.core.frame.DataFrame'>\n",
            "Index: 96478 entries, 0 to 99440\n",
            "Data columns (total 7 columns):\n",
            " #   Column                       Non-Null Count  Dtype         \n",
            "---  ------                       --------------  -----         \n",
            " 0   pedido_id                    96478 non-null  object        \n",
            " 1   cliente_id                   96478 non-null  object        \n",
            " 2   data_compra                  96478 non-null  datetime64[ns]\n",
            " 3   data_aprovacao_pedido        96478 non-null  datetime64[ns]\n",
            " 4   data_entrega_transportadora  96478 non-null  datetime64[ns]\n",
            " 5   data_entrega_cliente         96478 non-null  datetime64[ns]\n",
            " 6   data_estimada_entrega        96478 non-null  datetime64[ns]\n",
            "dtypes: datetime64[ns](5), object(2)\n",
            "memory usage: 5.9+ MB\n"
          ]
        }
      ],
      "source": [
        "pedidos.info()"
      ]
    },
    {
      "cell_type": "code",
      "execution_count": 126,
      "metadata": {},
      "outputs": [
        {
          "data": {
            "text/plain": [
              "pedido_id                      0\n",
              "cliente_id                     0\n",
              "data_compra                    0\n",
              "data_aprovacao_pedido          0\n",
              "data_entrega_transportadora    0\n",
              "data_entrega_cliente           0\n",
              "data_estimada_entrega          0\n",
              "dtype: int64"
            ]
          },
          "execution_count": 126,
          "metadata": {},
          "output_type": "execute_result"
        }
      ],
      "source": [
        "pedidos.isnull().sum()"
      ]
    },
    {
      "cell_type": "code",
      "execution_count": 127,
      "metadata": {},
      "outputs": [
        {
          "data": {
            "text/plain": [
              "0"
            ]
          },
          "execution_count": 127,
          "metadata": {},
          "output_type": "execute_result"
        }
      ],
      "source": [
        "pedidos.duplicated().sum()"
      ]
    },
    {
      "cell_type": "code",
      "execution_count": 128,
      "metadata": {
        "colab": {
          "base_uri": "https://localhost:8080/",
          "height": 393
        },
        "id": "jb1ASW5P2Q6a",
        "outputId": "7bb7d6c7-e119-4e94-e0a1-62644ad336cb"
      },
      "outputs": [
        {
          "data": {
            "text/html": [
              "<div>\n",
              "<style scoped>\n",
              "    .dataframe tbody tr th:only-of-type {\n",
              "        vertical-align: middle;\n",
              "    }\n",
              "\n",
              "    .dataframe tbody tr th {\n",
              "        vertical-align: top;\n",
              "    }\n",
              "\n",
              "    .dataframe thead th {\n",
              "        text-align: right;\n",
              "    }\n",
              "</style>\n",
              "<table border=\"1\" class=\"dataframe\">\n",
              "  <thead>\n",
              "    <tr style=\"text-align: right;\">\n",
              "      <th></th>\n",
              "      <th>data_compra</th>\n",
              "      <th>data_aprovacao_pedido</th>\n",
              "      <th>data_entrega_transportadora</th>\n",
              "      <th>data_entrega_cliente</th>\n",
              "      <th>data_estimada_entrega</th>\n",
              "    </tr>\n",
              "  </thead>\n",
              "  <tbody>\n",
              "    <tr>\n",
              "      <th>count</th>\n",
              "      <td>96478</td>\n",
              "      <td>96478</td>\n",
              "      <td>96478</td>\n",
              "      <td>96478</td>\n",
              "      <td>96478</td>\n",
              "    </tr>\n",
              "    <tr>\n",
              "      <th>mean</th>\n",
              "      <td>2018-01-01 23:29:31.939913984</td>\n",
              "      <td>2018-01-02 09:46:08.301104896</td>\n",
              "      <td>2018-01-05 04:57:07.508323328</td>\n",
              "      <td>2018-01-14 12:53:21.279120640</td>\n",
              "      <td>2018-01-25 17:09:52.325711616</td>\n",
              "    </tr>\n",
              "    <tr>\n",
              "      <th>min</th>\n",
              "      <td>2016-09-15 12:16:38</td>\n",
              "      <td>2016-09-15 12:16:38</td>\n",
              "      <td>2016-10-08 10:34:01</td>\n",
              "      <td>2016-10-11 13:46:32</td>\n",
              "      <td>2016-10-04 00:00:00</td>\n",
              "    </tr>\n",
              "    <tr>\n",
              "      <th>25%</th>\n",
              "      <td>2017-09-14 09:00:23.249999872</td>\n",
              "      <td>2017-09-14 13:30:21.249999872</td>\n",
              "      <td>2017-09-18 16:44:13.750000128</td>\n",
              "      <td>2017-09-25 22:18:14.500000</td>\n",
              "      <td>2017-10-05 00:00:00</td>\n",
              "    </tr>\n",
              "    <tr>\n",
              "      <th>50%</th>\n",
              "      <td>2018-01-20 19:45:45</td>\n",
              "      <td>2018-01-22 13:48:43.500000</td>\n",
              "      <td>2018-01-24 16:10:58</td>\n",
              "      <td>2018-02-02 19:41:06</td>\n",
              "      <td>2018-02-16 00:00:00</td>\n",
              "    </tr>\n",
              "    <tr>\n",
              "      <th>75%</th>\n",
              "      <td>2018-05-05 18:54:47</td>\n",
              "      <td>2018-05-06 10:52:59.249999872</td>\n",
              "      <td>2018-05-08 14:34:45</td>\n",
              "      <td>2018-05-15 23:09:25.750000128</td>\n",
              "      <td>2018-05-28 00:00:00</td>\n",
              "    </tr>\n",
              "    <tr>\n",
              "      <th>max</th>\n",
              "      <td>2018-08-29 15:00:37</td>\n",
              "      <td>2018-08-29 15:10:26</td>\n",
              "      <td>2018-09-11 19:48:28</td>\n",
              "      <td>2018-10-17 13:22:46</td>\n",
              "      <td>2018-10-25 00:00:00</td>\n",
              "    </tr>\n",
              "  </tbody>\n",
              "</table>\n",
              "</div>"
            ],
            "text/plain": [
              "                         data_compra          data_aprovacao_pedido   \n",
              "count                          96478                          96478  \\\n",
              "mean   2018-01-01 23:29:31.939913984  2018-01-02 09:46:08.301104896   \n",
              "min              2016-09-15 12:16:38            2016-09-15 12:16:38   \n",
              "25%    2017-09-14 09:00:23.249999872  2017-09-14 13:30:21.249999872   \n",
              "50%              2018-01-20 19:45:45     2018-01-22 13:48:43.500000   \n",
              "75%              2018-05-05 18:54:47  2018-05-06 10:52:59.249999872   \n",
              "max              2018-08-29 15:00:37            2018-08-29 15:10:26   \n",
              "\n",
              "         data_entrega_transportadora           data_entrega_cliente   \n",
              "count                          96478                          96478  \\\n",
              "mean   2018-01-05 04:57:07.508323328  2018-01-14 12:53:21.279120640   \n",
              "min              2016-10-08 10:34:01            2016-10-11 13:46:32   \n",
              "25%    2017-09-18 16:44:13.750000128     2017-09-25 22:18:14.500000   \n",
              "50%              2018-01-24 16:10:58            2018-02-02 19:41:06   \n",
              "75%              2018-05-08 14:34:45  2018-05-15 23:09:25.750000128   \n",
              "max              2018-09-11 19:48:28            2018-10-17 13:22:46   \n",
              "\n",
              "               data_estimada_entrega  \n",
              "count                          96478  \n",
              "mean   2018-01-25 17:09:52.325711616  \n",
              "min              2016-10-04 00:00:00  \n",
              "25%              2017-10-05 00:00:00  \n",
              "50%              2018-02-16 00:00:00  \n",
              "75%              2018-05-28 00:00:00  \n",
              "max              2018-10-25 00:00:00  "
            ]
          },
          "execution_count": 128,
          "metadata": {},
          "output_type": "execute_result"
        }
      ],
      "source": [
        "pedidos.describe()"
      ]
    },
    {
      "cell_type": "markdown",
      "metadata": {
        "id": "CpDi5ay-8cWC"
      },
      "source": [
        "# <font color=red>7 - Pagamentos</font>"
      ]
    },
    {
      "cell_type": "markdown",
      "metadata": {
        "id": "yPFVJPmq-wLR"
      },
      "source": [
        "## 7.1 - Renomear colunas"
      ]
    },
    {
      "cell_type": "code",
      "execution_count": 129,
      "metadata": {
        "colab": {
          "base_uri": "https://localhost:8080/"
        },
        "id": "yDApyHGanHFc",
        "outputId": "3c21487a-24d8-43dc-81aa-75ade4dddadc"
      },
      "outputs": [
        {
          "data": {
            "text/plain": [
              "['order_id',\n",
              " 'payment_sequential',\n",
              " 'payment_type',\n",
              " 'payment_installments',\n",
              " 'payment_value']"
            ]
          },
          "execution_count": 129,
          "metadata": {},
          "output_type": "execute_result"
        }
      ],
      "source": [
        "pagamentos.columns.tolist()"
      ]
    },
    {
      "cell_type": "code",
      "execution_count": 130,
      "metadata": {
        "id": "SLvUPgVq_dVW"
      },
      "outputs": [],
      "source": [
        "mapeamento_colunas = {\n",
        "    'order_id': 'pedido_id',\n",
        "    'payment_sequential': 'pagamento_sequencia',\n",
        "    'payment_type': 'pagamento_forma',\n",
        "    'payment_installments': 'pagamento_parcelas',\n",
        "    'payment_value': 'pagamento_valor'\n",
        "}\n",
        "pagamentos.rename(columns=mapeamento_colunas, inplace=True)"
      ]
    },
    {
      "cell_type": "markdown",
      "metadata": {
        "id": "xEuzSTrFBms-"
      },
      "source": [
        "## 7.2 - Visão geral do conjunto de dados"
      ]
    },
    {
      "cell_type": "code",
      "execution_count": 131,
      "metadata": {
        "colab": {
          "base_uri": "https://localhost:8080/",
          "height": 226
        },
        "id": "SbA4kPiuZfKM",
        "outputId": "d6ca5696-714c-4288-9640-304162a3be8c"
      },
      "outputs": [
        {
          "data": {
            "text/html": [
              "<div>\n",
              "<style scoped>\n",
              "    .dataframe tbody tr th:only-of-type {\n",
              "        vertical-align: middle;\n",
              "    }\n",
              "\n",
              "    .dataframe tbody tr th {\n",
              "        vertical-align: top;\n",
              "    }\n",
              "\n",
              "    .dataframe thead th {\n",
              "        text-align: right;\n",
              "    }\n",
              "</style>\n",
              "<table border=\"1\" class=\"dataframe\">\n",
              "  <thead>\n",
              "    <tr style=\"text-align: right;\">\n",
              "      <th></th>\n",
              "      <th>pedido_id</th>\n",
              "      <th>pagamento_sequencia</th>\n",
              "      <th>pagamento_forma</th>\n",
              "      <th>pagamento_parcelas</th>\n",
              "      <th>pagamento_valor</th>\n",
              "    </tr>\n",
              "  </thead>\n",
              "  <tbody>\n",
              "    <tr>\n",
              "      <th>0</th>\n",
              "      <td>b81ef226f3fe1789b1e8b2acac839d17</td>\n",
              "      <td>1</td>\n",
              "      <td>credit_card</td>\n",
              "      <td>8</td>\n",
              "      <td>99.33</td>\n",
              "    </tr>\n",
              "    <tr>\n",
              "      <th>1</th>\n",
              "      <td>a9810da82917af2d9aefd1278f1dcfa0</td>\n",
              "      <td>1</td>\n",
              "      <td>credit_card</td>\n",
              "      <td>1</td>\n",
              "      <td>24.39</td>\n",
              "    </tr>\n",
              "    <tr>\n",
              "      <th>2</th>\n",
              "      <td>25e8ea4e93396b6fa0d3dd708e76c1bd</td>\n",
              "      <td>1</td>\n",
              "      <td>credit_card</td>\n",
              "      <td>1</td>\n",
              "      <td>65.71</td>\n",
              "    </tr>\n",
              "    <tr>\n",
              "      <th>3</th>\n",
              "      <td>ba78997921bbcdc1373bb41e913ab953</td>\n",
              "      <td>1</td>\n",
              "      <td>credit_card</td>\n",
              "      <td>8</td>\n",
              "      <td>107.78</td>\n",
              "    </tr>\n",
              "    <tr>\n",
              "      <th>4</th>\n",
              "      <td>42fdf880ba16b47b59251dd489d4441a</td>\n",
              "      <td>1</td>\n",
              "      <td>credit_card</td>\n",
              "      <td>2</td>\n",
              "      <td>128.45</td>\n",
              "    </tr>\n",
              "  </tbody>\n",
              "</table>\n",
              "</div>"
            ],
            "text/plain": [
              "                          pedido_id  pagamento_sequencia pagamento_forma   \n",
              "0  b81ef226f3fe1789b1e8b2acac839d17                    1     credit_card  \\\n",
              "1  a9810da82917af2d9aefd1278f1dcfa0                    1     credit_card   \n",
              "2  25e8ea4e93396b6fa0d3dd708e76c1bd                    1     credit_card   \n",
              "3  ba78997921bbcdc1373bb41e913ab953                    1     credit_card   \n",
              "4  42fdf880ba16b47b59251dd489d4441a                    1     credit_card   \n",
              "\n",
              "   pagamento_parcelas  pagamento_valor  \n",
              "0                   8            99.33  \n",
              "1                   1            24.39  \n",
              "2                   1            65.71  \n",
              "3                   8           107.78  \n",
              "4                   2           128.45  "
            ]
          },
          "execution_count": 131,
          "metadata": {},
          "output_type": "execute_result"
        }
      ],
      "source": [
        "pagamentos.head()"
      ]
    },
    {
      "cell_type": "code",
      "execution_count": 132,
      "metadata": {
        "colab": {
          "base_uri": "https://localhost:8080/"
        },
        "id": "0C1F0UtwDMG5",
        "outputId": "75d23b58-2259-415d-b59f-201b5e7a3c6e"
      },
      "outputs": [
        {
          "name": "stdout",
          "output_type": "stream",
          "text": [
            "<class 'pandas.core.frame.DataFrame'>\n",
            "RangeIndex: 103886 entries, 0 to 103885\n",
            "Data columns (total 5 columns):\n",
            " #   Column               Non-Null Count   Dtype  \n",
            "---  ------               --------------   -----  \n",
            " 0   pedido_id            103886 non-null  object \n",
            " 1   pagamento_sequencia  103886 non-null  int64  \n",
            " 2   pagamento_forma      103886 non-null  object \n",
            " 3   pagamento_parcelas   103886 non-null  int64  \n",
            " 4   pagamento_valor      103886 non-null  float64\n",
            "dtypes: float64(1), int64(2), object(2)\n",
            "memory usage: 4.0+ MB\n"
          ]
        }
      ],
      "source": [
        "pagamentos.info()"
      ]
    },
    {
      "cell_type": "markdown",
      "metadata": {
        "id": "cLmdzPKFY34t"
      },
      "source": [
        "Valores únicos em cada coluna:"
      ]
    },
    {
      "cell_type": "code",
      "execution_count": 133,
      "metadata": {
        "colab": {
          "base_uri": "https://localhost:8080/"
        },
        "id": "4xqPxKIdBwc2",
        "outputId": "ab6a90ec-98ef-4db4-e70f-e3cb6679a2f2"
      },
      "outputs": [
        {
          "data": {
            "text/plain": [
              "pedido_id              99440\n",
              "pagamento_sequencia       29\n",
              "pagamento_forma            5\n",
              "pagamento_parcelas        24\n",
              "pagamento_valor        29077\n",
              "dtype: int64"
            ]
          },
          "execution_count": 133,
          "metadata": {},
          "output_type": "execute_result"
        }
      ],
      "source": [
        "pagamentos.nunique()"
      ]
    },
    {
      "cell_type": "markdown",
      "metadata": {
        "id": "aEur9-KDZJT5"
      },
      "source": [
        "Valores duplicados:"
      ]
    },
    {
      "cell_type": "code",
      "execution_count": 134,
      "metadata": {
        "colab": {
          "base_uri": "https://localhost:8080/"
        },
        "id": "e2nMR8AbBTQG",
        "outputId": "7994886a-73a1-4224-9afa-6b90d38231c2"
      },
      "outputs": [
        {
          "data": {
            "text/plain": [
              "0"
            ]
          },
          "execution_count": 134,
          "metadata": {},
          "output_type": "execute_result"
        }
      ],
      "source": [
        "pagamentos.duplicated().sum()"
      ]
    },
    {
      "cell_type": "markdown",
      "metadata": {
        "id": "zHfFsN4uaN5m"
      },
      "source": [
        "Valores nulos em cada coluna:"
      ]
    },
    {
      "cell_type": "code",
      "execution_count": 135,
      "metadata": {
        "colab": {
          "base_uri": "https://localhost:8080/"
        },
        "id": "5MkdkYpKxr2H",
        "outputId": "a697f6e7-0790-41af-dc5e-74fe3800cd08"
      },
      "outputs": [
        {
          "name": "stdout",
          "output_type": "stream",
          "text": [
            "pedido_id              0\n",
            "pagamento_sequencia    0\n",
            "pagamento_forma        0\n",
            "pagamento_parcelas     0\n",
            "pagamento_valor        0\n",
            "dtype: int64\n"
          ]
        }
      ],
      "source": [
        "print(pagamentos.isnull().sum())"
      ]
    },
    {
      "cell_type": "markdown",
      "metadata": {},
      "source": [
        "## 7.3 - Remover os Dados irrelevantes"
      ]
    },
    {
      "cell_type": "markdown",
      "metadata": {
        "id": "hHPiKUYjGdhI"
      },
      "source": [
        "### 7.3.1 - Será removida as linhas com o valor do pagamento igual a 0"
      ]
    },
    {
      "cell_type": "markdown",
      "metadata": {
        "id": "lwKPvxaQG3Zk"
      },
      "source": [
        "Será apagado as 9 linhas em que o valor é 0"
      ]
    },
    {
      "cell_type": "code",
      "execution_count": 136,
      "metadata": {
        "id": "gYa85-tOIC4C"
      },
      "outputs": [],
      "source": [
        "mascara = pagamentos['pagamento_valor'] == 0.0\n",
        "pagamentos = pagamentos[~mascara]"
      ]
    },
    {
      "cell_type": "markdown",
      "metadata": {},
      "source": [
        "### 7.3.2 - Será removida a Coluna \"pagamento_sequencia\" porque não será usada nas análises"
      ]
    },
    {
      "cell_type": "code",
      "execution_count": 137,
      "metadata": {},
      "outputs": [],
      "source": [
        "pagamentos = pagamentos.drop(columns=['pagamento_sequencia'])"
      ]
    },
    {
      "cell_type": "markdown",
      "metadata": {
        "id": "sBjDhGHIF7cm"
      },
      "source": [
        "## 7.4 - Codificação da Variável Categórica 'pagamento_forma' em Numéricos"
      ]
    },
    {
      "cell_type": "code",
      "execution_count": 138,
      "metadata": {
        "colab": {
          "base_uri": "https://localhost:8080/"
        },
        "id": "oRLg_j6d8Ci2",
        "outputId": "a1c6e1e2-1a09-4428-a7cc-fccbb644d22f"
      },
      "outputs": [],
      "source": [
        "# formas = pagamentos['pagamento_forma']\n",
        "# lencoder = LabelEncoder()\n",
        "# formas_numeros = lencoder.fit_transform(formas)\n",
        "# pagamentos['pagamento_forma_ref'] = formas_numeros"
      ]
    },
    {
      "cell_type": "code",
      "execution_count": 139,
      "metadata": {},
      "outputs": [],
      "source": [
        "# # Salvar o mapeamento em um arquivo CSV\n",
        "# mapeamento_df = pd.DataFrame({'pagamento_forma': formas, 'pagamento_forma_ref': formas_numeros})\n",
        "# mapeamento_df.to_csv('../data/mapeamentos/formas_pagamento.csv', index=False)"
      ]
    },
    {
      "cell_type": "markdown",
      "metadata": {
        "id": "lKlRzXhHODRE"
      },
      "source": [
        "## 7.5 - DataFrame pagamentos após tratamento"
      ]
    },
    {
      "cell_type": "code",
      "execution_count": 140,
      "metadata": {
        "colab": {
          "base_uri": "https://localhost:8080/",
          "height": 226
        },
        "id": "u1_xU88uONfo",
        "outputId": "9c535019-8663-48bd-d3de-5b196e3f85af"
      },
      "outputs": [
        {
          "data": {
            "text/html": [
              "<div>\n",
              "<style scoped>\n",
              "    .dataframe tbody tr th:only-of-type {\n",
              "        vertical-align: middle;\n",
              "    }\n",
              "\n",
              "    .dataframe tbody tr th {\n",
              "        vertical-align: top;\n",
              "    }\n",
              "\n",
              "    .dataframe thead th {\n",
              "        text-align: right;\n",
              "    }\n",
              "</style>\n",
              "<table border=\"1\" class=\"dataframe\">\n",
              "  <thead>\n",
              "    <tr style=\"text-align: right;\">\n",
              "      <th></th>\n",
              "      <th>pedido_id</th>\n",
              "      <th>pagamento_forma</th>\n",
              "      <th>pagamento_parcelas</th>\n",
              "      <th>pagamento_valor</th>\n",
              "    </tr>\n",
              "  </thead>\n",
              "  <tbody>\n",
              "    <tr>\n",
              "      <th>0</th>\n",
              "      <td>b81ef226f3fe1789b1e8b2acac839d17</td>\n",
              "      <td>credit_card</td>\n",
              "      <td>8</td>\n",
              "      <td>99.33</td>\n",
              "    </tr>\n",
              "    <tr>\n",
              "      <th>1</th>\n",
              "      <td>a9810da82917af2d9aefd1278f1dcfa0</td>\n",
              "      <td>credit_card</td>\n",
              "      <td>1</td>\n",
              "      <td>24.39</td>\n",
              "    </tr>\n",
              "    <tr>\n",
              "      <th>2</th>\n",
              "      <td>25e8ea4e93396b6fa0d3dd708e76c1bd</td>\n",
              "      <td>credit_card</td>\n",
              "      <td>1</td>\n",
              "      <td>65.71</td>\n",
              "    </tr>\n",
              "    <tr>\n",
              "      <th>3</th>\n",
              "      <td>ba78997921bbcdc1373bb41e913ab953</td>\n",
              "      <td>credit_card</td>\n",
              "      <td>8</td>\n",
              "      <td>107.78</td>\n",
              "    </tr>\n",
              "    <tr>\n",
              "      <th>4</th>\n",
              "      <td>42fdf880ba16b47b59251dd489d4441a</td>\n",
              "      <td>credit_card</td>\n",
              "      <td>2</td>\n",
              "      <td>128.45</td>\n",
              "    </tr>\n",
              "  </tbody>\n",
              "</table>\n",
              "</div>"
            ],
            "text/plain": [
              "                          pedido_id pagamento_forma  pagamento_parcelas   \n",
              "0  b81ef226f3fe1789b1e8b2acac839d17     credit_card                   8  \\\n",
              "1  a9810da82917af2d9aefd1278f1dcfa0     credit_card                   1   \n",
              "2  25e8ea4e93396b6fa0d3dd708e76c1bd     credit_card                   1   \n",
              "3  ba78997921bbcdc1373bb41e913ab953     credit_card                   8   \n",
              "4  42fdf880ba16b47b59251dd489d4441a     credit_card                   2   \n",
              "\n",
              "   pagamento_valor  \n",
              "0            99.33  \n",
              "1            24.39  \n",
              "2            65.71  \n",
              "3           107.78  \n",
              "4           128.45  "
            ]
          },
          "execution_count": 140,
          "metadata": {},
          "output_type": "execute_result"
        }
      ],
      "source": [
        "pagamentos.head()"
      ]
    },
    {
      "cell_type": "code",
      "execution_count": 141,
      "metadata": {
        "colab": {
          "base_uri": "https://localhost:8080/"
        },
        "id": "v7P6CTrsONUr",
        "outputId": "d7e874d6-76ba-40f1-a855-fec8f7bfff28"
      },
      "outputs": [
        {
          "name": "stdout",
          "output_type": "stream",
          "text": [
            "<class 'pandas.core.frame.DataFrame'>\n",
            "Index: 103877 entries, 0 to 103885\n",
            "Data columns (total 4 columns):\n",
            " #   Column              Non-Null Count   Dtype  \n",
            "---  ------              --------------   -----  \n",
            " 0   pedido_id           103877 non-null  object \n",
            " 1   pagamento_forma     103877 non-null  object \n",
            " 2   pagamento_parcelas  103877 non-null  int64  \n",
            " 3   pagamento_valor     103877 non-null  float64\n",
            "dtypes: float64(1), int64(1), object(2)\n",
            "memory usage: 4.0+ MB\n"
          ]
        }
      ],
      "source": [
        "pagamentos.info()"
      ]
    },
    {
      "cell_type": "code",
      "execution_count": 142,
      "metadata": {},
      "outputs": [
        {
          "data": {
            "text/plain": [
              "613"
            ]
          },
          "execution_count": 142,
          "metadata": {},
          "output_type": "execute_result"
        }
      ],
      "source": [
        "pagamentos.duplicated().sum()"
      ]
    },
    {
      "cell_type": "code",
      "execution_count": 143,
      "metadata": {},
      "outputs": [
        {
          "data": {
            "text/plain": [
              "pedido_id             0\n",
              "pagamento_forma       0\n",
              "pagamento_parcelas    0\n",
              "pagamento_valor       0\n",
              "dtype: int64"
            ]
          },
          "execution_count": 143,
          "metadata": {},
          "output_type": "execute_result"
        }
      ],
      "source": [
        "pagamentos.isnull().sum()"
      ]
    },
    {
      "cell_type": "markdown",
      "metadata": {
        "id": "LsuDlzmT8ief"
      },
      "source": [
        "# <font color=red>8 - Avaliações</font>"
      ]
    },
    {
      "cell_type": "markdown",
      "metadata": {
        "id": "X1yIi7fkSMh3"
      },
      "source": [
        "## 8.1 - Renomear colunas"
      ]
    },
    {
      "cell_type": "code",
      "execution_count": 144,
      "metadata": {
        "colab": {
          "base_uri": "https://localhost:8080/"
        },
        "id": "883v6WxPaR1s",
        "outputId": "4a6e2fa3-4e47-428d-b317-2279a6529c16"
      },
      "outputs": [
        {
          "data": {
            "text/plain": [
              "['review_id',\n",
              " 'order_id',\n",
              " 'review_score',\n",
              " 'review_comment_title',\n",
              " 'review_comment_message',\n",
              " 'review_creation_date',\n",
              " 'review_answer_timestamp']"
            ]
          },
          "execution_count": 144,
          "metadata": {},
          "output_type": "execute_result"
        }
      ],
      "source": [
        "avaliacoes.columns.tolist()"
      ]
    },
    {
      "cell_type": "code",
      "execution_count": 145,
      "metadata": {
        "id": "YiQVVf_GTajQ"
      },
      "outputs": [],
      "source": [
        "mapeamento_colunas = {\n",
        "    'review_id': 'avaliacao_id',\n",
        "    'order_id': 'pedido_id',\n",
        "    'review_score': 'avaliacao_nota',\n",
        "    'review_comment_title': 'avaliacao_titulo',\n",
        "    'review_comment_message': 'avaliacao_comentario',\n",
        "    'review_creation_date': 'avaliacao_data',\n",
        "    'review_answer_timestamp': 'avaliacao_data_resposta'\n",
        "}\n",
        "avaliacoes.rename(columns=mapeamento_colunas, inplace=True)"
      ]
    },
    {
      "cell_type": "markdown",
      "metadata": {
        "id": "v74fiMS-T-hE"
      },
      "source": [
        "## 8.2 - Visão geral do conjunto de dados"
      ]
    },
    {
      "cell_type": "code",
      "execution_count": 146,
      "metadata": {
        "colab": {
          "base_uri": "https://localhost:8080/",
          "height": 313
        },
        "id": "muEzsZgDUIeP",
        "outputId": "89a87e36-fca9-4bb0-a240-fff1d36742ac"
      },
      "outputs": [
        {
          "data": {
            "text/html": [
              "<div>\n",
              "<style scoped>\n",
              "    .dataframe tbody tr th:only-of-type {\n",
              "        vertical-align: middle;\n",
              "    }\n",
              "\n",
              "    .dataframe tbody tr th {\n",
              "        vertical-align: top;\n",
              "    }\n",
              "\n",
              "    .dataframe thead th {\n",
              "        text-align: right;\n",
              "    }\n",
              "</style>\n",
              "<table border=\"1\" class=\"dataframe\">\n",
              "  <thead>\n",
              "    <tr style=\"text-align: right;\">\n",
              "      <th></th>\n",
              "      <th>avaliacao_id</th>\n",
              "      <th>pedido_id</th>\n",
              "      <th>avaliacao_nota</th>\n",
              "      <th>avaliacao_titulo</th>\n",
              "      <th>avaliacao_comentario</th>\n",
              "      <th>avaliacao_data</th>\n",
              "      <th>avaliacao_data_resposta</th>\n",
              "    </tr>\n",
              "  </thead>\n",
              "  <tbody>\n",
              "    <tr>\n",
              "      <th>0</th>\n",
              "      <td>7bc2406110b926393aa56f80a40eba40</td>\n",
              "      <td>73fc7af87114b39712e6da79b0a377eb</td>\n",
              "      <td>4</td>\n",
              "      <td>NaN</td>\n",
              "      <td>NaN</td>\n",
              "      <td>2018-01-18 00:00:00</td>\n",
              "      <td>2018-01-18 21:46:59</td>\n",
              "    </tr>\n",
              "    <tr>\n",
              "      <th>1</th>\n",
              "      <td>80e641a11e56f04c1ad469d5645fdfde</td>\n",
              "      <td>a548910a1c6147796b98fdf73dbeba33</td>\n",
              "      <td>5</td>\n",
              "      <td>NaN</td>\n",
              "      <td>NaN</td>\n",
              "      <td>2018-03-10 00:00:00</td>\n",
              "      <td>2018-03-11 03:05:13</td>\n",
              "    </tr>\n",
              "    <tr>\n",
              "      <th>2</th>\n",
              "      <td>228ce5500dc1d8e020d8d1322874b6f0</td>\n",
              "      <td>f9e4b658b201a9f2ecdecbb34bed034b</td>\n",
              "      <td>5</td>\n",
              "      <td>NaN</td>\n",
              "      <td>NaN</td>\n",
              "      <td>2018-02-17 00:00:00</td>\n",
              "      <td>2018-02-18 14:36:24</td>\n",
              "    </tr>\n",
              "    <tr>\n",
              "      <th>3</th>\n",
              "      <td>e64fb393e7b32834bb789ff8bb30750e</td>\n",
              "      <td>658677c97b385a9be170737859d3511b</td>\n",
              "      <td>5</td>\n",
              "      <td>NaN</td>\n",
              "      <td>Recebi bem antes do prazo estipulado.</td>\n",
              "      <td>2017-04-21 00:00:00</td>\n",
              "      <td>2017-04-21 22:02:06</td>\n",
              "    </tr>\n",
              "    <tr>\n",
              "      <th>4</th>\n",
              "      <td>f7c4243c7fe1938f181bec41a392bdeb</td>\n",
              "      <td>8e6bfb81e283fa7e4f11123a3fb894f1</td>\n",
              "      <td>5</td>\n",
              "      <td>NaN</td>\n",
              "      <td>Parabéns lojas lannister adorei comprar pela I...</td>\n",
              "      <td>2018-03-01 00:00:00</td>\n",
              "      <td>2018-03-02 10:26:53</td>\n",
              "    </tr>\n",
              "  </tbody>\n",
              "</table>\n",
              "</div>"
            ],
            "text/plain": [
              "                       avaliacao_id                         pedido_id   \n",
              "0  7bc2406110b926393aa56f80a40eba40  73fc7af87114b39712e6da79b0a377eb  \\\n",
              "1  80e641a11e56f04c1ad469d5645fdfde  a548910a1c6147796b98fdf73dbeba33   \n",
              "2  228ce5500dc1d8e020d8d1322874b6f0  f9e4b658b201a9f2ecdecbb34bed034b   \n",
              "3  e64fb393e7b32834bb789ff8bb30750e  658677c97b385a9be170737859d3511b   \n",
              "4  f7c4243c7fe1938f181bec41a392bdeb  8e6bfb81e283fa7e4f11123a3fb894f1   \n",
              "\n",
              "   avaliacao_nota avaliacao_titulo   \n",
              "0               4              NaN  \\\n",
              "1               5              NaN   \n",
              "2               5              NaN   \n",
              "3               5              NaN   \n",
              "4               5              NaN   \n",
              "\n",
              "                                avaliacao_comentario       avaliacao_data   \n",
              "0                                                NaN  2018-01-18 00:00:00  \\\n",
              "1                                                NaN  2018-03-10 00:00:00   \n",
              "2                                                NaN  2018-02-17 00:00:00   \n",
              "3              Recebi bem antes do prazo estipulado.  2017-04-21 00:00:00   \n",
              "4  Parabéns lojas lannister adorei comprar pela I...  2018-03-01 00:00:00   \n",
              "\n",
              "  avaliacao_data_resposta  \n",
              "0     2018-01-18 21:46:59  \n",
              "1     2018-03-11 03:05:13  \n",
              "2     2018-02-18 14:36:24  \n",
              "3     2017-04-21 22:02:06  \n",
              "4     2018-03-02 10:26:53  "
            ]
          },
          "execution_count": 146,
          "metadata": {},
          "output_type": "execute_result"
        }
      ],
      "source": [
        "avaliacoes.head()"
      ]
    },
    {
      "cell_type": "code",
      "execution_count": 147,
      "metadata": {
        "colab": {
          "base_uri": "https://localhost:8080/"
        },
        "id": "A21wtQzwUSVn",
        "outputId": "7a45abbc-599a-44c9-c07a-e77f59b4df62"
      },
      "outputs": [
        {
          "name": "stdout",
          "output_type": "stream",
          "text": [
            "<class 'pandas.core.frame.DataFrame'>\n",
            "RangeIndex: 99224 entries, 0 to 99223\n",
            "Data columns (total 7 columns):\n",
            " #   Column                   Non-Null Count  Dtype \n",
            "---  ------                   --------------  ----- \n",
            " 0   avaliacao_id             99224 non-null  object\n",
            " 1   pedido_id                99224 non-null  object\n",
            " 2   avaliacao_nota           99224 non-null  int64 \n",
            " 3   avaliacao_titulo         11568 non-null  object\n",
            " 4   avaliacao_comentario     40977 non-null  object\n",
            " 5   avaliacao_data           99224 non-null  object\n",
            " 6   avaliacao_data_resposta  99224 non-null  object\n",
            "dtypes: int64(1), object(6)\n",
            "memory usage: 5.3+ MB\n"
          ]
        }
      ],
      "source": [
        "avaliacoes.info()"
      ]
    },
    {
      "cell_type": "code",
      "execution_count": 148,
      "metadata": {
        "colab": {
          "base_uri": "https://localhost:8080/",
          "height": 300
        },
        "id": "xRSO-uPVUSNu",
        "outputId": "da7b4671-8236-4391-d615-1b80f847f476"
      },
      "outputs": [
        {
          "data": {
            "text/html": [
              "<div>\n",
              "<style scoped>\n",
              "    .dataframe tbody tr th:only-of-type {\n",
              "        vertical-align: middle;\n",
              "    }\n",
              "\n",
              "    .dataframe tbody tr th {\n",
              "        vertical-align: top;\n",
              "    }\n",
              "\n",
              "    .dataframe thead th {\n",
              "        text-align: right;\n",
              "    }\n",
              "</style>\n",
              "<table border=\"1\" class=\"dataframe\">\n",
              "  <thead>\n",
              "    <tr style=\"text-align: right;\">\n",
              "      <th></th>\n",
              "      <th>avaliacao_nota</th>\n",
              "    </tr>\n",
              "  </thead>\n",
              "  <tbody>\n",
              "    <tr>\n",
              "      <th>count</th>\n",
              "      <td>99224.000000</td>\n",
              "    </tr>\n",
              "    <tr>\n",
              "      <th>mean</th>\n",
              "      <td>4.086421</td>\n",
              "    </tr>\n",
              "    <tr>\n",
              "      <th>std</th>\n",
              "      <td>1.347579</td>\n",
              "    </tr>\n",
              "    <tr>\n",
              "      <th>min</th>\n",
              "      <td>1.000000</td>\n",
              "    </tr>\n",
              "    <tr>\n",
              "      <th>25%</th>\n",
              "      <td>4.000000</td>\n",
              "    </tr>\n",
              "    <tr>\n",
              "      <th>50%</th>\n",
              "      <td>5.000000</td>\n",
              "    </tr>\n",
              "    <tr>\n",
              "      <th>75%</th>\n",
              "      <td>5.000000</td>\n",
              "    </tr>\n",
              "    <tr>\n",
              "      <th>max</th>\n",
              "      <td>5.000000</td>\n",
              "    </tr>\n",
              "  </tbody>\n",
              "</table>\n",
              "</div>"
            ],
            "text/plain": [
              "       avaliacao_nota\n",
              "count    99224.000000\n",
              "mean         4.086421\n",
              "std          1.347579\n",
              "min          1.000000\n",
              "25%          4.000000\n",
              "50%          5.000000\n",
              "75%          5.000000\n",
              "max          5.000000"
            ]
          },
          "execution_count": 148,
          "metadata": {},
          "output_type": "execute_result"
        }
      ],
      "source": [
        "avaliacoes.describe()"
      ]
    },
    {
      "cell_type": "markdown",
      "metadata": {
        "id": "Q6_9dL0vY76Q"
      },
      "source": [
        "Valores únicos em cada coluna:"
      ]
    },
    {
      "cell_type": "code",
      "execution_count": 149,
      "metadata": {
        "colab": {
          "base_uri": "https://localhost:8080/"
        },
        "id": "OAUFDZZ3USRq",
        "outputId": "cb0ce755-b88f-47a3-cc9d-1542dbbe5f1b"
      },
      "outputs": [
        {
          "data": {
            "text/plain": [
              "avaliacao_id               98410\n",
              "pedido_id                  98673\n",
              "avaliacao_nota                 5\n",
              "avaliacao_titulo            4527\n",
              "avaliacao_comentario       36159\n",
              "avaliacao_data               636\n",
              "avaliacao_data_resposta    98248\n",
              "dtype: int64"
            ]
          },
          "execution_count": 149,
          "metadata": {},
          "output_type": "execute_result"
        }
      ],
      "source": [
        "avaliacoes.nunique()"
      ]
    },
    {
      "cell_type": "markdown",
      "metadata": {
        "id": "SMAodle2ZAvf"
      },
      "source": [
        "Valores duplicados:"
      ]
    },
    {
      "cell_type": "code",
      "execution_count": 150,
      "metadata": {
        "colab": {
          "base_uri": "https://localhost:8080/"
        },
        "id": "vdONBNRrUSJb",
        "outputId": "2ec88fcf-cedf-4778-d77c-7ff0821ee136"
      },
      "outputs": [
        {
          "data": {
            "text/plain": [
              "0"
            ]
          },
          "execution_count": 150,
          "metadata": {},
          "output_type": "execute_result"
        }
      ],
      "source": [
        "avaliacoes.duplicated().sum()"
      ]
    },
    {
      "cell_type": "markdown",
      "metadata": {
        "id": "Oe7PH_5aaR1n"
      },
      "source": [
        "Valores nulos em cada coluna:"
      ]
    },
    {
      "cell_type": "code",
      "execution_count": 151,
      "metadata": {
        "colab": {
          "base_uri": "https://localhost:8080/"
        },
        "id": "x1N5WPnrx0MR",
        "outputId": "9c2f1413-0fc2-4c40-f7e6-d547bc0a42b7"
      },
      "outputs": [
        {
          "name": "stdout",
          "output_type": "stream",
          "text": [
            "avaliacao_id                   0\n",
            "pedido_id                      0\n",
            "avaliacao_nota                 0\n",
            "avaliacao_titulo           87656\n",
            "avaliacao_comentario       58247\n",
            "avaliacao_data                 0\n",
            "avaliacao_data_resposta        0\n",
            "dtype: int64\n"
          ]
        }
      ],
      "source": [
        "print(avaliacoes.isnull().sum())"
      ]
    },
    {
      "cell_type": "markdown",
      "metadata": {
        "id": "TuOB9PcIWqzZ"
      },
      "source": [
        "## 8.3 - Transformar as colunas com data para o formato adequado"
      ]
    },
    {
      "cell_type": "code",
      "execution_count": 152,
      "metadata": {
        "id": "8IpZtlghWFaP"
      },
      "outputs": [],
      "source": [
        "colunas_data = ['avaliacao_data', 'avaliacao_data_resposta']\n",
        "\n",
        "for coluna in colunas_data:\n",
        "    avaliacoes[coluna] = pd.to_datetime(avaliacoes[coluna])"
      ]
    },
    {
      "cell_type": "markdown",
      "metadata": {},
      "source": [
        "## 8.4 - Tratamento das strings dos atributos qualitativos nominais."
      ]
    },
    {
      "cell_type": "markdown",
      "metadata": {},
      "source": [
        "### 8.4.1 - Coluna avaliacao_titulo"
      ]
    },
    {
      "cell_type": "code",
      "execution_count": 153,
      "metadata": {},
      "outputs": [],
      "source": [
        "avaliacoes['avaliacao_titulo'] = avaliacoes['avaliacao_titulo'].str.lower()"
      ]
    },
    {
      "cell_type": "markdown",
      "metadata": {},
      "source": [
        "### 8.4.2 - Coluna avaliacao_comentario"
      ]
    },
    {
      "cell_type": "code",
      "execution_count": 154,
      "metadata": {},
      "outputs": [],
      "source": [
        "avaliacoes['avaliacao_comentario'] = avaliacoes['avaliacao_comentario'].str.lower()"
      ]
    },
    {
      "cell_type": "markdown",
      "metadata": {},
      "source": [
        "## 8.5 - Lidando com valores ausentes"
      ]
    },
    {
      "cell_type": "markdown",
      "metadata": {
        "id": "1mV4M0w8VQf7"
      },
      "source": [
        "No caso dos dados nulos das avaliações será preenchida por \"sem titulo\" e \"sem comentarios\", não será preenchido com outros valores porque condiz com a realidade a qual o cliente não quis colocar nenhum comentário."
      ]
    },
    {
      "cell_type": "code",
      "execution_count": 155,
      "metadata": {},
      "outputs": [],
      "source": [
        "avaliacoes['avaliacao_titulo'].fillna('sem título', inplace=True)\n",
        "avaliacoes['avaliacao_comentario'].fillna('sem comentario', inplace=True)"
      ]
    },
    {
      "cell_type": "code",
      "execution_count": 156,
      "metadata": {},
      "outputs": [
        {
          "data": {
            "text/plain": [
              "avaliacao_id               0\n",
              "pedido_id                  0\n",
              "avaliacao_nota             0\n",
              "avaliacao_titulo           0\n",
              "avaliacao_comentario       0\n",
              "avaliacao_data             0\n",
              "avaliacao_data_resposta    0\n",
              "dtype: int64"
            ]
          },
          "execution_count": 156,
          "metadata": {},
          "output_type": "execute_result"
        }
      ],
      "source": [
        "avaliacoes.isnull().sum()"
      ]
    },
    {
      "cell_type": "markdown",
      "metadata": {
        "id": "08jXkPRVXDSx"
      },
      "source": [
        "## 8.6 - DataFrame avaliações após tratamento"
      ]
    },
    {
      "cell_type": "code",
      "execution_count": 157,
      "metadata": {
        "colab": {
          "base_uri": "https://localhost:8080/",
          "height": 261
        },
        "id": "d-5kfK9UXBKI",
        "outputId": "70731a3f-5d76-4baf-8297-20bea21fc054"
      },
      "outputs": [
        {
          "data": {
            "text/html": [
              "<div>\n",
              "<style scoped>\n",
              "    .dataframe tbody tr th:only-of-type {\n",
              "        vertical-align: middle;\n",
              "    }\n",
              "\n",
              "    .dataframe tbody tr th {\n",
              "        vertical-align: top;\n",
              "    }\n",
              "\n",
              "    .dataframe thead th {\n",
              "        text-align: right;\n",
              "    }\n",
              "</style>\n",
              "<table border=\"1\" class=\"dataframe\">\n",
              "  <thead>\n",
              "    <tr style=\"text-align: right;\">\n",
              "      <th></th>\n",
              "      <th>avaliacao_id</th>\n",
              "      <th>pedido_id</th>\n",
              "      <th>avaliacao_nota</th>\n",
              "      <th>avaliacao_titulo</th>\n",
              "      <th>avaliacao_comentario</th>\n",
              "      <th>avaliacao_data</th>\n",
              "      <th>avaliacao_data_resposta</th>\n",
              "    </tr>\n",
              "  </thead>\n",
              "  <tbody>\n",
              "    <tr>\n",
              "      <th>0</th>\n",
              "      <td>7bc2406110b926393aa56f80a40eba40</td>\n",
              "      <td>73fc7af87114b39712e6da79b0a377eb</td>\n",
              "      <td>4</td>\n",
              "      <td>sem título</td>\n",
              "      <td>sem comentario</td>\n",
              "      <td>2018-01-18</td>\n",
              "      <td>2018-01-18 21:46:59</td>\n",
              "    </tr>\n",
              "    <tr>\n",
              "      <th>1</th>\n",
              "      <td>80e641a11e56f04c1ad469d5645fdfde</td>\n",
              "      <td>a548910a1c6147796b98fdf73dbeba33</td>\n",
              "      <td>5</td>\n",
              "      <td>sem título</td>\n",
              "      <td>sem comentario</td>\n",
              "      <td>2018-03-10</td>\n",
              "      <td>2018-03-11 03:05:13</td>\n",
              "    </tr>\n",
              "    <tr>\n",
              "      <th>2</th>\n",
              "      <td>228ce5500dc1d8e020d8d1322874b6f0</td>\n",
              "      <td>f9e4b658b201a9f2ecdecbb34bed034b</td>\n",
              "      <td>5</td>\n",
              "      <td>sem título</td>\n",
              "      <td>sem comentario</td>\n",
              "      <td>2018-02-17</td>\n",
              "      <td>2018-02-18 14:36:24</td>\n",
              "    </tr>\n",
              "    <tr>\n",
              "      <th>3</th>\n",
              "      <td>e64fb393e7b32834bb789ff8bb30750e</td>\n",
              "      <td>658677c97b385a9be170737859d3511b</td>\n",
              "      <td>5</td>\n",
              "      <td>sem título</td>\n",
              "      <td>recebi bem antes do prazo estipulado.</td>\n",
              "      <td>2017-04-21</td>\n",
              "      <td>2017-04-21 22:02:06</td>\n",
              "    </tr>\n",
              "    <tr>\n",
              "      <th>4</th>\n",
              "      <td>f7c4243c7fe1938f181bec41a392bdeb</td>\n",
              "      <td>8e6bfb81e283fa7e4f11123a3fb894f1</td>\n",
              "      <td>5</td>\n",
              "      <td>sem título</td>\n",
              "      <td>parabéns lojas lannister adorei comprar pela i...</td>\n",
              "      <td>2018-03-01</td>\n",
              "      <td>2018-03-02 10:26:53</td>\n",
              "    </tr>\n",
              "  </tbody>\n",
              "</table>\n",
              "</div>"
            ],
            "text/plain": [
              "                       avaliacao_id                         pedido_id   \n",
              "0  7bc2406110b926393aa56f80a40eba40  73fc7af87114b39712e6da79b0a377eb  \\\n",
              "1  80e641a11e56f04c1ad469d5645fdfde  a548910a1c6147796b98fdf73dbeba33   \n",
              "2  228ce5500dc1d8e020d8d1322874b6f0  f9e4b658b201a9f2ecdecbb34bed034b   \n",
              "3  e64fb393e7b32834bb789ff8bb30750e  658677c97b385a9be170737859d3511b   \n",
              "4  f7c4243c7fe1938f181bec41a392bdeb  8e6bfb81e283fa7e4f11123a3fb894f1   \n",
              "\n",
              "   avaliacao_nota avaliacao_titulo   \n",
              "0               4       sem título  \\\n",
              "1               5       sem título   \n",
              "2               5       sem título   \n",
              "3               5       sem título   \n",
              "4               5       sem título   \n",
              "\n",
              "                                avaliacao_comentario avaliacao_data   \n",
              "0                                     sem comentario     2018-01-18  \\\n",
              "1                                     sem comentario     2018-03-10   \n",
              "2                                     sem comentario     2018-02-17   \n",
              "3              recebi bem antes do prazo estipulado.     2017-04-21   \n",
              "4  parabéns lojas lannister adorei comprar pela i...     2018-03-01   \n",
              "\n",
              "  avaliacao_data_resposta  \n",
              "0     2018-01-18 21:46:59  \n",
              "1     2018-03-11 03:05:13  \n",
              "2     2018-02-18 14:36:24  \n",
              "3     2017-04-21 22:02:06  \n",
              "4     2018-03-02 10:26:53  "
            ]
          },
          "execution_count": 157,
          "metadata": {},
          "output_type": "execute_result"
        }
      ],
      "source": [
        "avaliacoes.head()"
      ]
    },
    {
      "cell_type": "code",
      "execution_count": 158,
      "metadata": {
        "colab": {
          "base_uri": "https://localhost:8080/"
        },
        "id": "Ajmm4QZmXP4n",
        "outputId": "7569d2b8-2a61-4119-cb27-ed1efa5f1a68"
      },
      "outputs": [
        {
          "name": "stdout",
          "output_type": "stream",
          "text": [
            "<class 'pandas.core.frame.DataFrame'>\n",
            "RangeIndex: 99224 entries, 0 to 99223\n",
            "Data columns (total 7 columns):\n",
            " #   Column                   Non-Null Count  Dtype         \n",
            "---  ------                   --------------  -----         \n",
            " 0   avaliacao_id             99224 non-null  object        \n",
            " 1   pedido_id                99224 non-null  object        \n",
            " 2   avaliacao_nota           99224 non-null  int64         \n",
            " 3   avaliacao_titulo         99224 non-null  object        \n",
            " 4   avaliacao_comentario     99224 non-null  object        \n",
            " 5   avaliacao_data           99224 non-null  datetime64[ns]\n",
            " 6   avaliacao_data_resposta  99224 non-null  datetime64[ns]\n",
            "dtypes: datetime64[ns](2), int64(1), object(4)\n",
            "memory usage: 5.3+ MB\n"
          ]
        }
      ],
      "source": [
        "avaliacoes.info()"
      ]
    },
    {
      "cell_type": "code",
      "execution_count": 159,
      "metadata": {},
      "outputs": [
        {
          "data": {
            "text/plain": [
              "avaliacao_id               0\n",
              "pedido_id                  0\n",
              "avaliacao_nota             0\n",
              "avaliacao_titulo           0\n",
              "avaliacao_comentario       0\n",
              "avaliacao_data             0\n",
              "avaliacao_data_resposta    0\n",
              "dtype: int64"
            ]
          },
          "execution_count": 159,
          "metadata": {},
          "output_type": "execute_result"
        }
      ],
      "source": [
        "avaliacoes.isnull().sum()"
      ]
    },
    {
      "cell_type": "code",
      "execution_count": 160,
      "metadata": {},
      "outputs": [
        {
          "data": {
            "text/plain": [
              "0"
            ]
          },
          "execution_count": 160,
          "metadata": {},
          "output_type": "execute_result"
        }
      ],
      "source": [
        "avaliacoes.duplicated().sum()"
      ]
    },
    {
      "cell_type": "markdown",
      "metadata": {
        "id": "hsiqFU0XxNvL"
      },
      "source": [
        "# <font color=red>9 - Carregamento dos dados</font>"
      ]
    },
    {
      "cell_type": "markdown",
      "metadata": {},
      "source": [
        "Será carregado os DataFrames tratados **relatorio_vendas**, **pagamentos** e **avaliacoes** para serem usados nas próximas fases do projeto."
      ]
    },
    {
      "cell_type": "markdown",
      "metadata": {},
      "source": [
        "## 9.1 - DataFrame \"relatorio_vendas\""
      ]
    },
    {
      "cell_type": "code",
      "execution_count": 161,
      "metadata": {},
      "outputs": [
        {
          "data": {
            "text/plain": [
              "(110195, 37)"
            ]
          },
          "execution_count": 161,
          "metadata": {},
          "output_type": "execute_result"
        }
      ],
      "source": [
        "relatorio_vendas = itens_pedidos.merge(pedidos, on='pedido_id') \\\n",
        "                      .merge(clientes, on='cliente_id', how='left') \\\n",
        "                     .merge(produtos, on='produto_id', how='left') \\\n",
        "                     .merge(vendedores, on='vendedor_id', how='left')\n",
        "relatorio_vendas.shape"
      ]
    },
    {
      "cell_type": "code",
      "execution_count": 162,
      "metadata": {},
      "outputs": [
        {
          "data": {
            "text/html": [
              "<div>\n",
              "<style scoped>\n",
              "    .dataframe tbody tr th:only-of-type {\n",
              "        vertical-align: middle;\n",
              "    }\n",
              "\n",
              "    .dataframe tbody tr th {\n",
              "        vertical-align: top;\n",
              "    }\n",
              "\n",
              "    .dataframe thead th {\n",
              "        text-align: right;\n",
              "    }\n",
              "</style>\n",
              "<table border=\"1\" class=\"dataframe\">\n",
              "  <thead>\n",
              "    <tr style=\"text-align: right;\">\n",
              "      <th></th>\n",
              "      <th>pedido_id</th>\n",
              "      <th>pedido_item_id</th>\n",
              "      <th>produto_id</th>\n",
              "      <th>vendedor_id</th>\n",
              "      <th>data_limite_envio</th>\n",
              "      <th>preco</th>\n",
              "      <th>frete</th>\n",
              "      <th>cliente_id</th>\n",
              "      <th>data_compra</th>\n",
              "      <th>data_aprovacao_pedido</th>\n",
              "      <th>...</th>\n",
              "      <th>vendedor</th>\n",
              "      <th>vendedor_cep</th>\n",
              "      <th>vendedor_cidade</th>\n",
              "      <th>vendedor_cidade_ref</th>\n",
              "      <th>vendedor_estado</th>\n",
              "      <th>vendedor_estado_ref</th>\n",
              "      <th>vendedor_regiao</th>\n",
              "      <th>vendedor_regiao_ref</th>\n",
              "      <th>vendedor_lat</th>\n",
              "      <th>vendedor_lon</th>\n",
              "    </tr>\n",
              "  </thead>\n",
              "  <tbody>\n",
              "    <tr>\n",
              "      <th>0</th>\n",
              "      <td>3b61aab5de69abc1731138bd104a777f</td>\n",
              "      <td>1</td>\n",
              "      <td>6aa063e063f2ab982b471e58afe06d72</td>\n",
              "      <td>610f72e407cdd7caaa2f8167b0163fd8</td>\n",
              "      <td>2018-09-18 21:10:15</td>\n",
              "      <td>999.99</td>\n",
              "      <td>24.77</td>\n",
              "      <td>8e29c6e9c795eda30cf7f47244720132</td>\n",
              "      <td>2018-08-25 20:59:18</td>\n",
              "      <td>2018-08-25 21:10:15</td>\n",
              "      <td>...</td>\n",
              "      <td>sao paulo-SP-610f72</td>\n",
              "      <td>1201</td>\n",
              "      <td>sao paulo</td>\n",
              "      <td>3658</td>\n",
              "      <td>SP</td>\n",
              "      <td>26</td>\n",
              "      <td>sudeste</td>\n",
              "      <td>3</td>\n",
              "      <td>-23.534322</td>\n",
              "      <td>-46.652852</td>\n",
              "    </tr>\n",
              "    <tr>\n",
              "      <th>1</th>\n",
              "      <td>7cfdf7265c9572fc7b7cbd3b9cc438b7</td>\n",
              "      <td>2</td>\n",
              "      <td>17e18b0c88a853dd6de3e48a7cfa9d9a</td>\n",
              "      <td>cee48807215b30a12ca2ca10ffb5f250</td>\n",
              "      <td>2018-09-14 12:30:56</td>\n",
              "      <td>20.00</td>\n",
              "      <td>19.25</td>\n",
              "      <td>00791d8bb3acb245dc0b865656e18fff</td>\n",
              "      <td>2018-08-21 12:20:32</td>\n",
              "      <td>2018-08-21 12:30:56</td>\n",
              "      <td>...</td>\n",
              "      <td>guaruja-SP-cee488</td>\n",
              "      <td>11431</td>\n",
              "      <td>guaruja</td>\n",
              "      <td>1553</td>\n",
              "      <td>SP</td>\n",
              "      <td>26</td>\n",
              "      <td>sudeste</td>\n",
              "      <td>3</td>\n",
              "      <td>-23.996850</td>\n",
              "      <td>-46.268588</td>\n",
              "    </tr>\n",
              "    <tr>\n",
              "      <th>2</th>\n",
              "      <td>7cfdf7265c9572fc7b7cbd3b9cc438b7</td>\n",
              "      <td>1</td>\n",
              "      <td>bdef7736f61a507f68b31bd86ddaf69d</td>\n",
              "      <td>3db66a856d18a9cba7c9241fc5221c50</td>\n",
              "      <td>2018-08-27 12:30:56</td>\n",
              "      <td>69.90</td>\n",
              "      <td>19.25</td>\n",
              "      <td>00791d8bb3acb245dc0b865656e18fff</td>\n",
              "      <td>2018-08-21 12:20:32</td>\n",
              "      <td>2018-08-21 12:30:56</td>\n",
              "      <td>...</td>\n",
              "      <td>ponte nova-MG-3db66a</td>\n",
              "      <td>35430</td>\n",
              "      <td>ponte nova</td>\n",
              "      <td>2984</td>\n",
              "      <td>MG</td>\n",
              "      <td>11</td>\n",
              "      <td>sudeste</td>\n",
              "      <td>3</td>\n",
              "      <td>-20.406680</td>\n",
              "      <td>-42.894077</td>\n",
              "    </tr>\n",
              "    <tr>\n",
              "      <th>3</th>\n",
              "      <td>1afe384f199748cff7a42c9902065560</td>\n",
              "      <td>1</td>\n",
              "      <td>4c2a4020fcd651812100ebbeac1b2753</td>\n",
              "      <td>610f72e407cdd7caaa2f8167b0163fd8</td>\n",
              "      <td>2018-09-14 02:09:37</td>\n",
              "      <td>599.99</td>\n",
              "      <td>29.18</td>\n",
              "      <td>df646960391593c3f41cd448d84800c7</td>\n",
              "      <td>2018-08-21 01:45:43</td>\n",
              "      <td>2018-08-21 02:09:37</td>\n",
              "      <td>...</td>\n",
              "      <td>sao paulo-SP-610f72</td>\n",
              "      <td>1201</td>\n",
              "      <td>sao paulo</td>\n",
              "      <td>3658</td>\n",
              "      <td>SP</td>\n",
              "      <td>26</td>\n",
              "      <td>sudeste</td>\n",
              "      <td>3</td>\n",
              "      <td>-23.534322</td>\n",
              "      <td>-46.652852</td>\n",
              "    </tr>\n",
              "    <tr>\n",
              "      <th>4</th>\n",
              "      <td>59eaa904b3f0dbde2785ac1b27eccd18</td>\n",
              "      <td>1</td>\n",
              "      <td>61919b39651acb61ec24307ed8b9502d</td>\n",
              "      <td>f61c63d13f7cd800549d5acdd390ae72</td>\n",
              "      <td>2018-09-13 14:55:28</td>\n",
              "      <td>299.00</td>\n",
              "      <td>14.75</td>\n",
              "      <td>3e90b5882ce0e665b837de00a2a8625c</td>\n",
              "      <td>2018-08-20 10:19:46</td>\n",
              "      <td>2018-08-20 14:55:28</td>\n",
              "      <td>...</td>\n",
              "      <td>pilar do sul-SP-f61c63</td>\n",
              "      <td>18185</td>\n",
              "      <td>pilar do sul</td>\n",
              "      <td>2873</td>\n",
              "      <td>SP</td>\n",
              "      <td>26</td>\n",
              "      <td>sudeste</td>\n",
              "      <td>3</td>\n",
              "      <td>-23.802797</td>\n",
              "      <td>-47.725534</td>\n",
              "    </tr>\n",
              "  </tbody>\n",
              "</table>\n",
              "<p>5 rows × 37 columns</p>\n",
              "</div>"
            ],
            "text/plain": [
              "                          pedido_id  pedido_item_id   \n",
              "0  3b61aab5de69abc1731138bd104a777f               1  \\\n",
              "1  7cfdf7265c9572fc7b7cbd3b9cc438b7               2   \n",
              "2  7cfdf7265c9572fc7b7cbd3b9cc438b7               1   \n",
              "3  1afe384f199748cff7a42c9902065560               1   \n",
              "4  59eaa904b3f0dbde2785ac1b27eccd18               1   \n",
              "\n",
              "                         produto_id                       vendedor_id   \n",
              "0  6aa063e063f2ab982b471e58afe06d72  610f72e407cdd7caaa2f8167b0163fd8  \\\n",
              "1  17e18b0c88a853dd6de3e48a7cfa9d9a  cee48807215b30a12ca2ca10ffb5f250   \n",
              "2  bdef7736f61a507f68b31bd86ddaf69d  3db66a856d18a9cba7c9241fc5221c50   \n",
              "3  4c2a4020fcd651812100ebbeac1b2753  610f72e407cdd7caaa2f8167b0163fd8   \n",
              "4  61919b39651acb61ec24307ed8b9502d  f61c63d13f7cd800549d5acdd390ae72   \n",
              "\n",
              "    data_limite_envio   preco  frete                        cliente_id   \n",
              "0 2018-09-18 21:10:15  999.99  24.77  8e29c6e9c795eda30cf7f47244720132  \\\n",
              "1 2018-09-14 12:30:56   20.00  19.25  00791d8bb3acb245dc0b865656e18fff   \n",
              "2 2018-08-27 12:30:56   69.90  19.25  00791d8bb3acb245dc0b865656e18fff   \n",
              "3 2018-09-14 02:09:37  599.99  29.18  df646960391593c3f41cd448d84800c7   \n",
              "4 2018-09-13 14:55:28  299.00  14.75  3e90b5882ce0e665b837de00a2a8625c   \n",
              "\n",
              "          data_compra data_aprovacao_pedido  ...                vendedor   \n",
              "0 2018-08-25 20:59:18   2018-08-25 21:10:15  ...     sao paulo-SP-610f72  \\\n",
              "1 2018-08-21 12:20:32   2018-08-21 12:30:56  ...       guaruja-SP-cee488   \n",
              "2 2018-08-21 12:20:32   2018-08-21 12:30:56  ...    ponte nova-MG-3db66a   \n",
              "3 2018-08-21 01:45:43   2018-08-21 02:09:37  ...     sao paulo-SP-610f72   \n",
              "4 2018-08-20 10:19:46   2018-08-20 14:55:28  ...  pilar do sul-SP-f61c63   \n",
              "\n",
              "  vendedor_cep vendedor_cidade vendedor_cidade_ref vendedor_estado   \n",
              "0         1201       sao paulo                3658              SP  \\\n",
              "1        11431         guaruja                1553              SP   \n",
              "2        35430      ponte nova                2984              MG   \n",
              "3         1201       sao paulo                3658              SP   \n",
              "4        18185    pilar do sul                2873              SP   \n",
              "\n",
              "   vendedor_estado_ref vendedor_regiao  vendedor_regiao_ref vendedor_lat   \n",
              "0                   26         sudeste                    3   -23.534322  \\\n",
              "1                   26         sudeste                    3   -23.996850   \n",
              "2                   11         sudeste                    3   -20.406680   \n",
              "3                   26         sudeste                    3   -23.534322   \n",
              "4                   26         sudeste                    3   -23.802797   \n",
              "\n",
              "   vendedor_lon  \n",
              "0    -46.652852  \n",
              "1    -46.268588  \n",
              "2    -42.894077  \n",
              "3    -46.652852  \n",
              "4    -47.725534  \n",
              "\n",
              "[5 rows x 37 columns]"
            ]
          },
          "execution_count": 162,
          "metadata": {},
          "output_type": "execute_result"
        }
      ],
      "source": [
        "relatorio_vendas.head()"
      ]
    },
    {
      "cell_type": "code",
      "execution_count": 163,
      "metadata": {},
      "outputs": [
        {
          "name": "stdout",
          "output_type": "stream",
          "text": [
            "<class 'pandas.core.frame.DataFrame'>\n",
            "RangeIndex: 110195 entries, 0 to 110194\n",
            "Data columns (total 37 columns):\n",
            " #   Column                       Non-Null Count   Dtype         \n",
            "---  ------                       --------------   -----         \n",
            " 0   pedido_id                    110195 non-null  object        \n",
            " 1   pedido_item_id               110195 non-null  int64         \n",
            " 2   produto_id                   110195 non-null  object        \n",
            " 3   vendedor_id                  110195 non-null  object        \n",
            " 4   data_limite_envio            110195 non-null  datetime64[ns]\n",
            " 5   preco                        110195 non-null  float64       \n",
            " 6   frete                        110195 non-null  float64       \n",
            " 7   cliente_id                   110195 non-null  object        \n",
            " 8   data_compra                  110195 non-null  datetime64[ns]\n",
            " 9   data_aprovacao_pedido        110195 non-null  datetime64[ns]\n",
            " 10  data_entrega_transportadora  110195 non-null  datetime64[ns]\n",
            " 11  data_entrega_cliente         110195 non-null  datetime64[ns]\n",
            " 12  data_estimada_entrega        110195 non-null  datetime64[ns]\n",
            " 13  cliente_id_unico             110195 non-null  object        \n",
            " 14  cliente                      110195 non-null  object        \n",
            " 15  cliente_cep                  110195 non-null  int64         \n",
            " 16  cliente_cidade               110195 non-null  object        \n",
            " 17  cliente_cidade_ref           110195 non-null  int64         \n",
            " 18  cliente_estado               110195 non-null  object        \n",
            " 19  cliente_estado_ref           110195 non-null  int64         \n",
            " 20  cliente_regiao               110195 non-null  object        \n",
            " 21  cliente_regiao_ref           110195 non-null  int64         \n",
            " 22  cliente_lat                  110195 non-null  float64       \n",
            " 23  cliente_lon                  110195 non-null  float64       \n",
            " 24  produto_categoria            110195 non-null  object        \n",
            " 25  produto                      110195 non-null  object        \n",
            " 26  produto_categoria_ref        110195 non-null  int64         \n",
            " 27  vendedor                     110195 non-null  object        \n",
            " 28  vendedor_cep                 110195 non-null  int64         \n",
            " 29  vendedor_cidade              110195 non-null  object        \n",
            " 30  vendedor_cidade_ref          110195 non-null  int64         \n",
            " 31  vendedor_estado              110195 non-null  object        \n",
            " 32  vendedor_estado_ref          110195 non-null  int64         \n",
            " 33  vendedor_regiao              110195 non-null  object        \n",
            " 34  vendedor_regiao_ref          110195 non-null  int64         \n",
            " 35  vendedor_lat                 110195 non-null  float64       \n",
            " 36  vendedor_lon                 110195 non-null  float64       \n",
            "dtypes: datetime64[ns](6), float64(6), int64(10), object(15)\n",
            "memory usage: 31.1+ MB\n"
          ]
        }
      ],
      "source": [
        "relatorio_vendas.info()"
      ]
    },
    {
      "cell_type": "code",
      "execution_count": 164,
      "metadata": {
        "colab": {
          "base_uri": "https://localhost:8080/"
        },
        "id": "omyzwZbTxSfz",
        "outputId": "d53de29e-c1e5-4ea4-cdbb-f48dcd369481"
      },
      "outputs": [
        {
          "data": {
            "text/plain": [
              "pedido_id                      0\n",
              "pedido_item_id                 0\n",
              "produto_id                     0\n",
              "vendedor_id                    0\n",
              "data_limite_envio              0\n",
              "preco                          0\n",
              "frete                          0\n",
              "cliente_id                     0\n",
              "data_compra                    0\n",
              "data_aprovacao_pedido          0\n",
              "data_entrega_transportadora    0\n",
              "data_entrega_cliente           0\n",
              "data_estimada_entrega          0\n",
              "cliente_id_unico               0\n",
              "cliente                        0\n",
              "cliente_cep                    0\n",
              "cliente_cidade                 0\n",
              "cliente_cidade_ref             0\n",
              "cliente_estado                 0\n",
              "cliente_estado_ref             0\n",
              "cliente_regiao                 0\n",
              "cliente_regiao_ref             0\n",
              "cliente_lat                    0\n",
              "cliente_lon                    0\n",
              "produto_categoria              0\n",
              "produto                        0\n",
              "produto_categoria_ref          0\n",
              "vendedor                       0\n",
              "vendedor_cep                   0\n",
              "vendedor_cidade                0\n",
              "vendedor_cidade_ref            0\n",
              "vendedor_estado                0\n",
              "vendedor_estado_ref            0\n",
              "vendedor_regiao                0\n",
              "vendedor_regiao_ref            0\n",
              "vendedor_lat                   0\n",
              "vendedor_lon                   0\n",
              "dtype: int64"
            ]
          },
          "execution_count": 164,
          "metadata": {},
          "output_type": "execute_result"
        }
      ],
      "source": [
        "relatorio_vendas.isna().sum()"
      ]
    },
    {
      "cell_type": "code",
      "execution_count": 165,
      "metadata": {},
      "outputs": [
        {
          "data": {
            "text/plain": [
              "0"
            ]
          },
          "execution_count": 165,
          "metadata": {},
          "output_type": "execute_result"
        }
      ],
      "source": [
        "relatorio_vendas.duplicated().sum()"
      ]
    },
    {
      "cell_type": "code",
      "execution_count": 166,
      "metadata": {},
      "outputs": [
        {
          "name": "stdout",
          "output_type": "stream",
          "text": [
            "0            sao paulo-SP-610f72\n",
            "1              guaruja-SP-cee488\n",
            "2           ponte nova-MG-3db66a\n",
            "3            sao paulo-SP-610f72\n",
            "4         pilar do sul-SP-f61c63\n",
            "                   ...          \n",
            "110190       sao paulo-SP-624f4e\n",
            "110191         limeira-SP-b499c0\n",
            "110192        curitiba-PR-ecccfa\n",
            "110193        curitiba-PR-ecccfa\n",
            "110194        curitiba-PR-ecccfa\n",
            "Name: vendedor, Length: 110195, dtype: object\n"
          ]
        }
      ],
      "source": [
        "print(relatorio_vendas['vendedor'])"
      ]
    },
    {
      "cell_type": "code",
      "execution_count": 167,
      "metadata": {
        "colab": {
          "base_uri": "https://localhost:8080/",
          "height": 454
        },
        "id": "Qn8TXWEHxSbe",
        "outputId": "2216210b-09f7-4d4a-caa3-0ca55794138b"
      },
      "outputs": [
        {
          "data": {
            "text/html": [
              "<div>\n",
              "<style scoped>\n",
              "    .dataframe tbody tr th:only-of-type {\n",
              "        vertical-align: middle;\n",
              "    }\n",
              "\n",
              "    .dataframe tbody tr th {\n",
              "        vertical-align: top;\n",
              "    }\n",
              "\n",
              "    .dataframe thead th {\n",
              "        text-align: right;\n",
              "    }\n",
              "</style>\n",
              "<table border=\"1\" class=\"dataframe\">\n",
              "  <thead>\n",
              "    <tr style=\"text-align: right;\">\n",
              "      <th></th>\n",
              "      <th>pedido_item_id</th>\n",
              "      <th>data_limite_envio</th>\n",
              "      <th>preco</th>\n",
              "      <th>frete</th>\n",
              "      <th>data_compra</th>\n",
              "      <th>data_aprovacao_pedido</th>\n",
              "      <th>data_entrega_transportadora</th>\n",
              "      <th>data_entrega_cliente</th>\n",
              "      <th>data_estimada_entrega</th>\n",
              "      <th>cliente_cep</th>\n",
              "      <th>...</th>\n",
              "      <th>cliente_regiao_ref</th>\n",
              "      <th>cliente_lat</th>\n",
              "      <th>cliente_lon</th>\n",
              "      <th>produto_categoria_ref</th>\n",
              "      <th>vendedor_cep</th>\n",
              "      <th>vendedor_cidade_ref</th>\n",
              "      <th>vendedor_estado_ref</th>\n",
              "      <th>vendedor_regiao_ref</th>\n",
              "      <th>vendedor_lat</th>\n",
              "      <th>vendedor_lon</th>\n",
              "    </tr>\n",
              "  </thead>\n",
              "  <tbody>\n",
              "    <tr>\n",
              "      <th>count</th>\n",
              "      <td>110195.000000</td>\n",
              "      <td>110195</td>\n",
              "      <td>110195.000000</td>\n",
              "      <td>110195.000000</td>\n",
              "      <td>110195</td>\n",
              "      <td>110195</td>\n",
              "      <td>110195</td>\n",
              "      <td>110195</td>\n",
              "      <td>110195</td>\n",
              "      <td>110195.000000</td>\n",
              "      <td>...</td>\n",
              "      <td>110195.000000</td>\n",
              "      <td>110195.000000</td>\n",
              "      <td>110195.000000</td>\n",
              "      <td>110195.000000</td>\n",
              "      <td>110195.000000</td>\n",
              "      <td>110195.000000</td>\n",
              "      <td>110195.000000</td>\n",
              "      <td>110195.000000</td>\n",
              "      <td>110195.000000</td>\n",
              "      <td>110195.000000</td>\n",
              "    </tr>\n",
              "    <tr>\n",
              "      <th>mean</th>\n",
              "      <td>1.198176</td>\n",
              "      <td>2018-01-08 16:57:21.284486400</td>\n",
              "      <td>119.980926</td>\n",
              "      <td>19.947845</td>\n",
              "      <td>2018-01-02 02:55:41.905676544</td>\n",
              "      <td>2018-01-02 13:26:46.409300992</td>\n",
              "      <td>2018-01-05 09:44:10.694287360</td>\n",
              "      <td>2018-01-14 14:15:37.399237632</td>\n",
              "      <td>2018-01-25 22:10:45.219837440</td>\n",
              "      <td>35155.711974</td>\n",
              "      <td>...</td>\n",
              "      <td>2.766305</td>\n",
              "      <td>-21.235021</td>\n",
              "      <td>-46.218453</td>\n",
              "      <td>11.187958</td>\n",
              "      <td>24467.581133</td>\n",
              "      <td>2546.508372</td>\n",
              "      <td>23.226526</td>\n",
              "      <td>3.059222</td>\n",
              "      <td>-22.796009</td>\n",
              "      <td>-47.195904</td>\n",
              "    </tr>\n",
              "    <tr>\n",
              "      <th>min</th>\n",
              "      <td>1.000000</td>\n",
              "      <td>2016-09-19 23:11:33</td>\n",
              "      <td>0.850000</td>\n",
              "      <td>0.000000</td>\n",
              "      <td>2016-09-15 12:16:38</td>\n",
              "      <td>2016-09-15 12:16:38</td>\n",
              "      <td>2016-10-08 10:34:01</td>\n",
              "      <td>2016-10-11 13:46:32</td>\n",
              "      <td>2016-10-04 00:00:00</td>\n",
              "      <td>1003.000000</td>\n",
              "      <td>...</td>\n",
              "      <td>0.000000</td>\n",
              "      <td>-33.691550</td>\n",
              "      <td>-72.664409</td>\n",
              "      <td>0.000000</td>\n",
              "      <td>1001.000000</td>\n",
              "      <td>1.000000</td>\n",
              "      <td>3.000000</td>\n",
              "      <td>0.000000</td>\n",
              "      <td>-32.095725</td>\n",
              "      <td>-63.895935</td>\n",
              "    </tr>\n",
              "    <tr>\n",
              "      <th>25%</th>\n",
              "      <td>1.000000</td>\n",
              "      <td>2017-09-21 14:55:25</td>\n",
              "      <td>39.900000</td>\n",
              "      <td>13.080000</td>\n",
              "      <td>2017-09-15 07:30:12.500000</td>\n",
              "      <td>2017-09-15 14:07:40</td>\n",
              "      <td>2017-09-18 22:27:28</td>\n",
              "      <td>2017-09-26 20:18:53.500000</td>\n",
              "      <td>2017-10-06 00:00:00</td>\n",
              "      <td>11310.000000</td>\n",
              "      <td>...</td>\n",
              "      <td>3.000000</td>\n",
              "      <td>-23.591955</td>\n",
              "      <td>-48.124243</td>\n",
              "      <td>6.000000</td>\n",
              "      <td>6429.000000</td>\n",
              "      <td>1627.000000</td>\n",
              "      <td>23.000000</td>\n",
              "      <td>3.000000</td>\n",
              "      <td>-23.607263</td>\n",
              "      <td>-48.838906</td>\n",
              "    </tr>\n",
              "    <tr>\n",
              "      <th>50%</th>\n",
              "      <td>1.000000</td>\n",
              "      <td>2018-01-26 20:15:52</td>\n",
              "      <td>74.900000</td>\n",
              "      <td>16.260000</td>\n",
              "      <td>2018-01-21 10:13:10</td>\n",
              "      <td>2018-01-22 13:56:45</td>\n",
              "      <td>2018-01-24 18:52:54</td>\n",
              "      <td>2018-02-02 21:08:40</td>\n",
              "      <td>2018-02-16 00:00:00</td>\n",
              "      <td>24344.000000</td>\n",
              "      <td>...</td>\n",
              "      <td>3.000000</td>\n",
              "      <td>-22.927658</td>\n",
              "      <td>-46.635650</td>\n",
              "      <td>10.000000</td>\n",
              "      <td>13568.000000</td>\n",
              "      <td>3004.000000</td>\n",
              "      <td>26.000000</td>\n",
              "      <td>3.000000</td>\n",
              "      <td>-23.424571</td>\n",
              "      <td>-46.743793</td>\n",
              "    </tr>\n",
              "    <tr>\n",
              "      <th>75%</th>\n",
              "      <td>1.000000</td>\n",
              "      <td>2018-05-10 20:23:07.500000</td>\n",
              "      <td>134.185000</td>\n",
              "      <td>21.150000</td>\n",
              "      <td>2018-05-05 16:04:51.500000</td>\n",
              "      <td>2018-05-05 23:01:51</td>\n",
              "      <td>2018-05-08 14:20:30</td>\n",
              "      <td>2018-05-15 20:29:08.500000</td>\n",
              "      <td>2018-05-28 00:00:00</td>\n",
              "      <td>59066.000000</td>\n",
              "      <td>...</td>\n",
              "      <td>3.000000</td>\n",
              "      <td>-20.148600</td>\n",
              "      <td>-43.679006</td>\n",
              "      <td>18.000000</td>\n",
              "      <td>28035.000000</td>\n",
              "      <td>3658.000000</td>\n",
              "      <td>26.000000</td>\n",
              "      <td>3.000000</td>\n",
              "      <td>-21.754867</td>\n",
              "      <td>-46.521174</td>\n",
              "    </tr>\n",
              "    <tr>\n",
              "      <th>max</th>\n",
              "      <td>21.000000</td>\n",
              "      <td>2018-09-18 21:10:15</td>\n",
              "      <td>6735.000000</td>\n",
              "      <td>409.680000</td>\n",
              "      <td>2018-08-29 15:00:37</td>\n",
              "      <td>2018-08-29 15:10:26</td>\n",
              "      <td>2018-09-11 19:48:28</td>\n",
              "      <td>2018-10-17 13:22:46</td>\n",
              "      <td>2018-10-25 00:00:00</td>\n",
              "      <td>99980.000000</td>\n",
              "      <td>...</td>\n",
              "      <td>4.000000</td>\n",
              "      <td>42.184003</td>\n",
              "      <td>-4.947823</td>\n",
              "      <td>24.000000</td>\n",
              "      <td>99730.000000</td>\n",
              "      <td>4188.000000</td>\n",
              "      <td>26.000000</td>\n",
              "      <td>4.000000</td>\n",
              "      <td>-2.505689</td>\n",
              "      <td>-15.797048</td>\n",
              "    </tr>\n",
              "    <tr>\n",
              "      <th>std</th>\n",
              "      <td>0.706678</td>\n",
              "      <td>NaN</td>\n",
              "      <td>182.301081</td>\n",
              "      <td>15.697283</td>\n",
              "      <td>NaN</td>\n",
              "      <td>NaN</td>\n",
              "      <td>NaN</td>\n",
              "      <td>NaN</td>\n",
              "      <td>NaN</td>\n",
              "      <td>29901.297289</td>\n",
              "      <td>...</td>\n",
              "      <td>1.001604</td>\n",
              "      <td>5.565160</td>\n",
              "      <td>4.039806</td>\n",
              "      <td>6.602915</td>\n",
              "      <td>27624.823254</td>\n",
              "      <td>1159.165283</td>\n",
              "      <td>5.202549</td>\n",
              "      <td>0.565665</td>\n",
              "      <td>2.705707</td>\n",
              "      <td>2.564820</td>\n",
              "    </tr>\n",
              "  </tbody>\n",
              "</table>\n",
              "<p>8 rows × 22 columns</p>\n",
              "</div>"
            ],
            "text/plain": [
              "       pedido_item_id              data_limite_envio          preco   \n",
              "count   110195.000000                         110195  110195.000000  \\\n",
              "mean         1.198176  2018-01-08 16:57:21.284486400     119.980926   \n",
              "min          1.000000            2016-09-19 23:11:33       0.850000   \n",
              "25%          1.000000            2017-09-21 14:55:25      39.900000   \n",
              "50%          1.000000            2018-01-26 20:15:52      74.900000   \n",
              "75%          1.000000     2018-05-10 20:23:07.500000     134.185000   \n",
              "max         21.000000            2018-09-18 21:10:15    6735.000000   \n",
              "std          0.706678                            NaN     182.301081   \n",
              "\n",
              "               frete                    data_compra   \n",
              "count  110195.000000                         110195  \\\n",
              "mean       19.947845  2018-01-02 02:55:41.905676544   \n",
              "min         0.000000            2016-09-15 12:16:38   \n",
              "25%        13.080000     2017-09-15 07:30:12.500000   \n",
              "50%        16.260000            2018-01-21 10:13:10   \n",
              "75%        21.150000     2018-05-05 16:04:51.500000   \n",
              "max       409.680000            2018-08-29 15:00:37   \n",
              "std        15.697283                            NaN   \n",
              "\n",
              "               data_aprovacao_pedido    data_entrega_transportadora   \n",
              "count                         110195                         110195  \\\n",
              "mean   2018-01-02 13:26:46.409300992  2018-01-05 09:44:10.694287360   \n",
              "min              2016-09-15 12:16:38            2016-10-08 10:34:01   \n",
              "25%              2017-09-15 14:07:40            2017-09-18 22:27:28   \n",
              "50%              2018-01-22 13:56:45            2018-01-24 18:52:54   \n",
              "75%              2018-05-05 23:01:51            2018-05-08 14:20:30   \n",
              "max              2018-08-29 15:10:26            2018-09-11 19:48:28   \n",
              "std                              NaN                            NaN   \n",
              "\n",
              "                data_entrega_cliente          data_estimada_entrega   \n",
              "count                         110195                         110195  \\\n",
              "mean   2018-01-14 14:15:37.399237632  2018-01-25 22:10:45.219837440   \n",
              "min              2016-10-11 13:46:32            2016-10-04 00:00:00   \n",
              "25%       2017-09-26 20:18:53.500000            2017-10-06 00:00:00   \n",
              "50%              2018-02-02 21:08:40            2018-02-16 00:00:00   \n",
              "75%       2018-05-15 20:29:08.500000            2018-05-28 00:00:00   \n",
              "max              2018-10-17 13:22:46            2018-10-25 00:00:00   \n",
              "std                              NaN                            NaN   \n",
              "\n",
              "         cliente_cep  ...  cliente_regiao_ref    cliente_lat    cliente_lon   \n",
              "count  110195.000000  ...       110195.000000  110195.000000  110195.000000  \\\n",
              "mean    35155.711974  ...            2.766305     -21.235021     -46.218453   \n",
              "min      1003.000000  ...            0.000000     -33.691550     -72.664409   \n",
              "25%     11310.000000  ...            3.000000     -23.591955     -48.124243   \n",
              "50%     24344.000000  ...            3.000000     -22.927658     -46.635650   \n",
              "75%     59066.000000  ...            3.000000     -20.148600     -43.679006   \n",
              "max     99980.000000  ...            4.000000      42.184003      -4.947823   \n",
              "std     29901.297289  ...            1.001604       5.565160       4.039806   \n",
              "\n",
              "       produto_categoria_ref   vendedor_cep  vendedor_cidade_ref   \n",
              "count          110195.000000  110195.000000        110195.000000  \\\n",
              "mean               11.187958   24467.581133          2546.508372   \n",
              "min                 0.000000    1001.000000             1.000000   \n",
              "25%                 6.000000    6429.000000          1627.000000   \n",
              "50%                10.000000   13568.000000          3004.000000   \n",
              "75%                18.000000   28035.000000          3658.000000   \n",
              "max                24.000000   99730.000000          4188.000000   \n",
              "std                 6.602915   27624.823254          1159.165283   \n",
              "\n",
              "       vendedor_estado_ref  vendedor_regiao_ref   vendedor_lat   vendedor_lon  \n",
              "count        110195.000000        110195.000000  110195.000000  110195.000000  \n",
              "mean             23.226526             3.059222     -22.796009     -47.195904  \n",
              "min               3.000000             0.000000     -32.095725     -63.895935  \n",
              "25%              23.000000             3.000000     -23.607263     -48.838906  \n",
              "50%              26.000000             3.000000     -23.424571     -46.743793  \n",
              "75%              26.000000             3.000000     -21.754867     -46.521174  \n",
              "max              26.000000             4.000000      -2.505689     -15.797048  \n",
              "std               5.202549             0.565665       2.705707       2.564820  \n",
              "\n",
              "[8 rows x 22 columns]"
            ]
          },
          "execution_count": 167,
          "metadata": {},
          "output_type": "execute_result"
        }
      ],
      "source": [
        "relatorio_vendas.describe()"
      ]
    },
    {
      "cell_type": "markdown",
      "metadata": {},
      "source": [
        "### 9.1.1 - Remover os lançamentos dos meses de 2020 por incosistência dos dados"
      ]
    },
    {
      "cell_type": "code",
      "execution_count": 168,
      "metadata": {},
      "outputs": [
        {
          "data": {
            "text/html": [
              "<style type=\"text/css\">\n",
              "#T_52dd5 thead tr th:nth-child(1) {\n",
              "  position: sticky;\n",
              "  background-color: inherit;\n",
              "  left: 0px;\n",
              "  z-index: 3 !important;\n",
              "}\n",
              "#T_52dd5 tbody tr th:nth-child(1) {\n",
              "  position: sticky;\n",
              "  background-color: inherit;\n",
              "  left: 0px;\n",
              "  z-index: 1;\n",
              "}\n",
              "#T_52dd5 .col_heading {\n",
              "  font-weight: normal;\n",
              "  font-family: Arial;\n",
              "}\n",
              "#T_52dd5 td {\n",
              "  text-align: left;\n",
              "}\n",
              "#T_52dd5 th {\n",
              "  text-align: left;\n",
              "}\n",
              "#T_52dd5 .index_name {\n",
              "  font-weight: bold;\n",
              "  font-family: Arial;\n",
              "  text-align: right;\n",
              "}\n",
              "</style>\n",
              "<table id=\"T_52dd5\">\n",
              "  <thead>\n",
              "    <tr>\n",
              "      <th class=\"index_name level0\" >meses</th>\n",
              "      <th id=\"T_52dd5_level0_col0\" class=\"col_heading level0 col0\" >Sep / 2016</th>\n",
              "      <th id=\"T_52dd5_level0_col1\" class=\"col_heading level0 col1\" >Oct / 2016</th>\n",
              "      <th id=\"T_52dd5_level0_col2\" class=\"col_heading level0 col2\" >Dec / 2016</th>\n",
              "      <th id=\"T_52dd5_level0_col3\" class=\"col_heading level0 col3\" >Jan / 2017</th>\n",
              "      <th id=\"T_52dd5_level0_col4\" class=\"col_heading level0 col4\" >Feb / 2017</th>\n",
              "      <th id=\"T_52dd5_level0_col5\" class=\"col_heading level0 col5\" >Mar / 2017</th>\n",
              "      <th id=\"T_52dd5_level0_col6\" class=\"col_heading level0 col6\" >Apr / 2017</th>\n",
              "      <th id=\"T_52dd5_level0_col7\" class=\"col_heading level0 col7\" >May / 2017</th>\n",
              "      <th id=\"T_52dd5_level0_col8\" class=\"col_heading level0 col8\" >Jun / 2017</th>\n",
              "      <th id=\"T_52dd5_level0_col9\" class=\"col_heading level0 col9\" >Jul / 2017</th>\n",
              "      <th id=\"T_52dd5_level0_col10\" class=\"col_heading level0 col10\" >Aug / 2017</th>\n",
              "      <th id=\"T_52dd5_level0_col11\" class=\"col_heading level0 col11\" >Sep / 2017</th>\n",
              "      <th id=\"T_52dd5_level0_col12\" class=\"col_heading level0 col12\" >Oct / 2017</th>\n",
              "      <th id=\"T_52dd5_level0_col13\" class=\"col_heading level0 col13\" >Nov / 2017</th>\n",
              "      <th id=\"T_52dd5_level0_col14\" class=\"col_heading level0 col14\" >Dec / 2017</th>\n",
              "      <th id=\"T_52dd5_level0_col15\" class=\"col_heading level0 col15\" >Jan / 2018</th>\n",
              "      <th id=\"T_52dd5_level0_col16\" class=\"col_heading level0 col16\" >Feb / 2018</th>\n",
              "      <th id=\"T_52dd5_level0_col17\" class=\"col_heading level0 col17\" >Mar / 2018</th>\n",
              "      <th id=\"T_52dd5_level0_col18\" class=\"col_heading level0 col18\" >Apr / 2018</th>\n",
              "      <th id=\"T_52dd5_level0_col19\" class=\"col_heading level0 col19\" >May / 2018</th>\n",
              "      <th id=\"T_52dd5_level0_col20\" class=\"col_heading level0 col20\" >Jun / 2018</th>\n",
              "      <th id=\"T_52dd5_level0_col21\" class=\"col_heading level0 col21\" >Jul / 2018</th>\n",
              "      <th id=\"T_52dd5_level0_col22\" class=\"col_heading level0 col22\" >Aug / 2018</th>\n",
              "    </tr>\n",
              "    <tr>\n",
              "      <th class=\"index_name level0\" >vendedor_regiao</th>\n",
              "      <th class=\"blank col0\" >&nbsp;</th>\n",
              "      <th class=\"blank col1\" >&nbsp;</th>\n",
              "      <th class=\"blank col2\" >&nbsp;</th>\n",
              "      <th class=\"blank col3\" >&nbsp;</th>\n",
              "      <th class=\"blank col4\" >&nbsp;</th>\n",
              "      <th class=\"blank col5\" >&nbsp;</th>\n",
              "      <th class=\"blank col6\" >&nbsp;</th>\n",
              "      <th class=\"blank col7\" >&nbsp;</th>\n",
              "      <th class=\"blank col8\" >&nbsp;</th>\n",
              "      <th class=\"blank col9\" >&nbsp;</th>\n",
              "      <th class=\"blank col10\" >&nbsp;</th>\n",
              "      <th class=\"blank col11\" >&nbsp;</th>\n",
              "      <th class=\"blank col12\" >&nbsp;</th>\n",
              "      <th class=\"blank col13\" >&nbsp;</th>\n",
              "      <th class=\"blank col14\" >&nbsp;</th>\n",
              "      <th class=\"blank col15\" >&nbsp;</th>\n",
              "      <th class=\"blank col16\" >&nbsp;</th>\n",
              "      <th class=\"blank col17\" >&nbsp;</th>\n",
              "      <th class=\"blank col18\" >&nbsp;</th>\n",
              "      <th class=\"blank col19\" >&nbsp;</th>\n",
              "      <th class=\"blank col20\" >&nbsp;</th>\n",
              "      <th class=\"blank col21\" >&nbsp;</th>\n",
              "      <th class=\"blank col22\" >&nbsp;</th>\n",
              "    </tr>\n",
              "  </thead>\n",
              "  <tbody>\n",
              "    <tr>\n",
              "      <th id=\"T_52dd5_level0_row0\" class=\"row_heading level0 row0\" >sul</th>\n",
              "      <td id=\"T_52dd5_row0_col0\" class=\"data row0 col0\" >3</td>\n",
              "      <td id=\"T_52dd5_row0_col1\" class=\"data row0 col1\" >58</td>\n",
              "      <td id=\"T_52dd5_row0_col2\" class=\"data row0 col2\" >1</td>\n",
              "      <td id=\"T_52dd5_row0_col3\" class=\"data row0 col3\" >223</td>\n",
              "      <td id=\"T_52dd5_row0_col4\" class=\"data row0 col4\" >264</td>\n",
              "      <td id=\"T_52dd5_row0_col5\" class=\"data row0 col5\" >474</td>\n",
              "      <td id=\"T_52dd5_row0_col6\" class=\"data row0 col6\" >415</td>\n",
              "      <td id=\"T_52dd5_row0_col7\" class=\"data row0 col7\" >513</td>\n",
              "      <td id=\"T_52dd5_row0_col8\" class=\"data row0 col8\" >442</td>\n",
              "      <td id=\"T_52dd5_row0_col9\" class=\"data row0 col9\" >573</td>\n",
              "      <td id=\"T_52dd5_row0_col10\" class=\"data row0 col10\" >610</td>\n",
              "      <td id=\"T_52dd5_row0_col11\" class=\"data row0 col11\" >547</td>\n",
              "      <td id=\"T_52dd5_row0_col12\" class=\"data row0 col12\" >606</td>\n",
              "      <td id=\"T_52dd5_row0_col13\" class=\"data row0 col13\" >1049</td>\n",
              "      <td id=\"T_52dd5_row0_col14\" class=\"data row0 col14\" >777</td>\n",
              "      <td id=\"T_52dd5_row0_col15\" class=\"data row0 col15\" >1067</td>\n",
              "      <td id=\"T_52dd5_row0_col16\" class=\"data row0 col16\" >1298</td>\n",
              "      <td id=\"T_52dd5_row0_col17\" class=\"data row0 col17\" >1039</td>\n",
              "      <td id=\"T_52dd5_row0_col18\" class=\"data row0 col18\" >967</td>\n",
              "      <td id=\"T_52dd5_row0_col19\" class=\"data row0 col19\" >845</td>\n",
              "      <td id=\"T_52dd5_row0_col20\" class=\"data row0 col20\" >922</td>\n",
              "      <td id=\"T_52dd5_row0_col21\" class=\"data row0 col21\" >1029</td>\n",
              "      <td id=\"T_52dd5_row0_col22\" class=\"data row0 col22\" >934</td>\n",
              "    </tr>\n",
              "    <tr>\n",
              "      <th id=\"T_52dd5_level0_row1\" class=\"row_heading level0 row1\" >sudeste</th>\n",
              "      <td id=\"T_52dd5_row1_col0\" class=\"data row1 col0\" >0</td>\n",
              "      <td id=\"T_52dd5_row1_col1\" class=\"data row1 col1\" >249</td>\n",
              "      <td id=\"T_52dd5_row1_col2\" class=\"data row1 col2\" >0</td>\n",
              "      <td id=\"T_52dd5_row1_col3\" class=\"data row1 col3\" >665</td>\n",
              "      <td id=\"T_52dd5_row1_col4\" class=\"data row1 col4\" >1543</td>\n",
              "      <td id=\"T_52dd5_row1_col5\" class=\"data row1 col5\" >2356</td>\n",
              "      <td id=\"T_52dd5_row1_col6\" class=\"data row1 col6\" >2094</td>\n",
              "      <td id=\"T_52dd5_row1_col7\" class=\"data row1 col7\" >3415</td>\n",
              "      <td id=\"T_52dd5_row1_col8\" class=\"data row1 col8\" >2979</td>\n",
              "      <td id=\"T_52dd5_row1_col9\" class=\"data row1 col9\" >3772</td>\n",
              "      <td id=\"T_52dd5_row1_col10\" class=\"data row1 col10\" >4070</td>\n",
              "      <td id=\"T_52dd5_row1_col11\" class=\"data row1 col11\" >3989</td>\n",
              "      <td id=\"T_52dd5_row1_col12\" class=\"data row1 col12\" >4408</td>\n",
              "      <td id=\"T_52dd5_row1_col13\" class=\"data row1 col13\" >7216</td>\n",
              "      <td id=\"T_52dd5_row1_col14\" class=\"data row1 col14\" >5255</td>\n",
              "      <td id=\"T_52dd5_row1_col15\" class=\"data row1 col15\" >6738</td>\n",
              "      <td id=\"T_52dd5_row1_col16\" class=\"data row1 col16\" >6001</td>\n",
              "      <td id=\"T_52dd5_row1_col17\" class=\"data row1 col17\" >6747</td>\n",
              "      <td id=\"T_52dd5_row1_col18\" class=\"data row1 col18\" >6666</td>\n",
              "      <td id=\"T_52dd5_row1_col19\" class=\"data row1 col19\" >6697</td>\n",
              "      <td id=\"T_52dd5_row1_col20\" class=\"data row1 col20\" >5846</td>\n",
              "      <td id=\"T_52dd5_row1_col21\" class=\"data row1 col21\" >5645</td>\n",
              "      <td id=\"T_52dd5_row1_col22\" class=\"data row1 col22\" >5903</td>\n",
              "    </tr>\n",
              "    <tr>\n",
              "      <th id=\"T_52dd5_level0_row2\" class=\"row_heading level0 row2\" >centro-oeste</th>\n",
              "      <td id=\"T_52dd5_row2_col0\" class=\"data row2 col0\" >0</td>\n",
              "      <td id=\"T_52dd5_row2_col1\" class=\"data row2 col1\" >5</td>\n",
              "      <td id=\"T_52dd5_row2_col2\" class=\"data row2 col2\" >0</td>\n",
              "      <td id=\"T_52dd5_row2_col3\" class=\"data row2 col3\" >16</td>\n",
              "      <td id=\"T_52dd5_row2_col4\" class=\"data row2 col4\" >8</td>\n",
              "      <td id=\"T_52dd5_row2_col5\" class=\"data row2 col5\" >37</td>\n",
              "      <td id=\"T_52dd5_row2_col6\" class=\"data row2 col6\" >45</td>\n",
              "      <td id=\"T_52dd5_row2_col7\" class=\"data row2 col7\" >54</td>\n",
              "      <td id=\"T_52dd5_row2_col8\" class=\"data row2 col8\" >45</td>\n",
              "      <td id=\"T_52dd5_row2_col9\" class=\"data row2 col9\" >53</td>\n",
              "      <td id=\"T_52dd5_row2_col10\" class=\"data row2 col10\" >65</td>\n",
              "      <td id=\"T_52dd5_row2_col11\" class=\"data row2 col11\" >96</td>\n",
              "      <td id=\"T_52dd5_row2_col12\" class=\"data row2 col12\" >120</td>\n",
              "      <td id=\"T_52dd5_row2_col13\" class=\"data row2 col13\" >118</td>\n",
              "      <td id=\"T_52dd5_row2_col14\" class=\"data row2 col14\" >85</td>\n",
              "      <td id=\"T_52dd5_row2_col15\" class=\"data row2 col15\" >138</td>\n",
              "      <td id=\"T_52dd5_row2_col16\" class=\"data row2 col16\" >104</td>\n",
              "      <td id=\"T_52dd5_row2_col17\" class=\"data row2 col17\" >103</td>\n",
              "      <td id=\"T_52dd5_row2_col18\" class=\"data row2 col18\" >90</td>\n",
              "      <td id=\"T_52dd5_row2_col19\" class=\"data row2 col19\" >100</td>\n",
              "      <td id=\"T_52dd5_row2_col20\" class=\"data row2 col20\" >89</td>\n",
              "      <td id=\"T_52dd5_row2_col21\" class=\"data row2 col21\" >107</td>\n",
              "      <td id=\"T_52dd5_row2_col22\" class=\"data row2 col22\" >107</td>\n",
              "    </tr>\n",
              "    <tr>\n",
              "      <th id=\"T_52dd5_level0_row3\" class=\"row_heading level0 row3\" >nordeste</th>\n",
              "      <td id=\"T_52dd5_row3_col0\" class=\"data row3 col0\" >0</td>\n",
              "      <td id=\"T_52dd5_row3_col1\" class=\"data row3 col1\" >1</td>\n",
              "      <td id=\"T_52dd5_row3_col2\" class=\"data row3 col2\" >0</td>\n",
              "      <td id=\"T_52dd5_row3_col3\" class=\"data row3 col3\" >9</td>\n",
              "      <td id=\"T_52dd5_row3_col4\" class=\"data row3 col4\" >42</td>\n",
              "      <td id=\"T_52dd5_row3_col5\" class=\"data row3 col5\" >28</td>\n",
              "      <td id=\"T_52dd5_row3_col6\" class=\"data row3 col6\" >14</td>\n",
              "      <td id=\"T_52dd5_row3_col7\" class=\"data row3 col7\" >18</td>\n",
              "      <td id=\"T_52dd5_row3_col8\" class=\"data row3 col8\" >23</td>\n",
              "      <td id=\"T_52dd5_row3_col9\" class=\"data row3 col9\" >16</td>\n",
              "      <td id=\"T_52dd5_row3_col10\" class=\"data row3 col10\" >50</td>\n",
              "      <td id=\"T_52dd5_row3_col11\" class=\"data row3 col11\" >103</td>\n",
              "      <td id=\"T_52dd5_row3_col12\" class=\"data row3 col12\" >80</td>\n",
              "      <td id=\"T_52dd5_row3_col13\" class=\"data row3 col13\" >86</td>\n",
              "      <td id=\"T_52dd5_row3_col14\" class=\"data row3 col14\" >68</td>\n",
              "      <td id=\"T_52dd5_row3_col15\" class=\"data row3 col15\" >91</td>\n",
              "      <td id=\"T_52dd5_row3_col16\" class=\"data row3 col16\" >114</td>\n",
              "      <td id=\"T_52dd5_row3_col17\" class=\"data row3 col17\" >127</td>\n",
              "      <td id=\"T_52dd5_row3_col18\" class=\"data row3 col18\" >104</td>\n",
              "      <td id=\"T_52dd5_row3_col19\" class=\"data row3 col19\" >168</td>\n",
              "      <td id=\"T_52dd5_row3_col20\" class=\"data row3 col20\" >153</td>\n",
              "      <td id=\"T_52dd5_row3_col21\" class=\"data row3 col21\" >182</td>\n",
              "      <td id=\"T_52dd5_row3_col22\" class=\"data row3 col22\" >198</td>\n",
              "    </tr>\n",
              "    <tr>\n",
              "      <th id=\"T_52dd5_level0_row4\" class=\"row_heading level0 row4\" >norte</th>\n",
              "      <td id=\"T_52dd5_row4_col0\" class=\"data row4 col0\" >0</td>\n",
              "      <td id=\"T_52dd5_row4_col1\" class=\"data row4 col1\" >0</td>\n",
              "      <td id=\"T_52dd5_row4_col2\" class=\"data row4 col2\" >0</td>\n",
              "      <td id=\"T_52dd5_row4_col3\" class=\"data row4 col3\" >0</td>\n",
              "      <td id=\"T_52dd5_row4_col4\" class=\"data row4 col4\" >1</td>\n",
              "      <td id=\"T_52dd5_row4_col5\" class=\"data row4 col5\" >2</td>\n",
              "      <td id=\"T_52dd5_row4_col6\" class=\"data row4 col6\" >1</td>\n",
              "      <td id=\"T_52dd5_row4_col7\" class=\"data row4 col7\" >2</td>\n",
              "      <td id=\"T_52dd5_row4_col8\" class=\"data row4 col8\" >0</td>\n",
              "      <td id=\"T_52dd5_row4_col9\" class=\"data row4 col9\" >2</td>\n",
              "      <td id=\"T_52dd5_row4_col10\" class=\"data row4 col10\" >2</td>\n",
              "      <td id=\"T_52dd5_row4_col11\" class=\"data row4 col11\" >2</td>\n",
              "      <td id=\"T_52dd5_row4_col12\" class=\"data row4 col12\" >0</td>\n",
              "      <td id=\"T_52dd5_row4_col13\" class=\"data row4 col13\" >6</td>\n",
              "      <td id=\"T_52dd5_row4_col14\" class=\"data row4 col14\" >2</td>\n",
              "      <td id=\"T_52dd5_row4_col15\" class=\"data row4 col15\" >3</td>\n",
              "      <td id=\"T_52dd5_row4_col16\" class=\"data row4 col16\" >1</td>\n",
              "      <td id=\"T_52dd5_row4_col17\" class=\"data row4 col17\" >1</td>\n",
              "      <td id=\"T_52dd5_row4_col18\" class=\"data row4 col18\" >0</td>\n",
              "      <td id=\"T_52dd5_row4_col19\" class=\"data row4 col19\" >0</td>\n",
              "      <td id=\"T_52dd5_row4_col20\" class=\"data row4 col20\" >0</td>\n",
              "      <td id=\"T_52dd5_row4_col21\" class=\"data row4 col21\" >0</td>\n",
              "      <td id=\"T_52dd5_row4_col22\" class=\"data row4 col22\" >0</td>\n",
              "    </tr>\n",
              "  </tbody>\n",
              "</table>\n"
            ],
            "text/plain": [
              "<pandas.io.formats.style.Styler at 0x126156470>"
            ]
          },
          "execution_count": 168,
          "metadata": {},
          "output_type": "execute_result"
        }
      ],
      "source": [
        "tendencia_regioes_vendedores = relatorio_vendas.copy()\n",
        "tendencia_regioes_vendedores['quantidade'] = 1\n",
        "\n",
        "# Classificar o DataFrame pela data de compra\n",
        "tendencia_regioes_vendedores = tendencia_regioes_vendedores.sort_values('data_compra')\n",
        "\n",
        "# Criar uma nova coluna 'meses' com o formato 'Abreviação do Mês / Ano'\n",
        "tendencia_regioes_vendedores['meses'] = tendencia_regioes_vendedores['data_compra'].dt.strftime('%b / %Y')\n",
        "\n",
        "# Redefinir o índice para facilitar a manipulação\n",
        "tendencia_regioes_vendedores = tendencia_regioes_vendedores.reset_index(drop=True)\n",
        "\n",
        "# Criar uma tabela dinâmica para as regiões\n",
        "vendas_regioes_vendedores = tendencia_regioes_vendedores.pivot_table(index='vendedor_regiao', columns='meses', values='quantidade',\n",
        "                                                                    aggfunc='sum', fill_value=0, sort=False)\n",
        "\n",
        "# Estilizar a tabela formatando os valores como números inteiros\n",
        "estilo_regioes_vendedores = vendas_regioes_vendedores.style.format(\"{:.0f}\")\n",
        "estilo_regioes_vendedores.set_sticky(axis='index')\n",
        "\n",
        "# Estilos para colunas, células e índices\n",
        "colunas = {\n",
        "    'selector': '.col_heading',\n",
        "    'props': 'font-weight: normal; font-family: Arial'\n",
        "}\n",
        "tabelas = {\n",
        "    'selector': 'td,th',\n",
        "    'props': 'text-align: left;'\n",
        "}\n",
        "index = {\n",
        "    'selector': '.index_name',\n",
        "    'props': 'font-weight: bold; font-family: Arial; text-align: right;'\n",
        "}\n",
        "\n",
        "# Aplicar os estilos à tabela\n",
        "estilo_regioes_vendedores.set_table_styles([colunas, tabelas, index], overwrite=False)\n",
        "\n",
        "# Exibir a tabela estilizada\n",
        "estilo_regioes_vendedores"
      ]
    },
    {
      "cell_type": "code",
      "execution_count": 169,
      "metadata": {},
      "outputs": [],
      "source": [
        "relatorio_vendas = relatorio_vendas[relatorio_vendas['data_compra'] >= '2017-01-01']"
      ]
    },
    {
      "cell_type": "markdown",
      "metadata": {},
      "source": [
        "Certificar que todas as colunas de datas estão em um formato padronizado"
      ]
    },
    {
      "cell_type": "code",
      "execution_count": 170,
      "metadata": {
        "colab": {
          "base_uri": "https://localhost:8080/"
        },
        "id": "rpJX1Qy07oV7",
        "outputId": "e643b2ae-0090-4599-bafb-7f26f8951ad3"
      },
      "outputs": [
        {
          "name": "stdout",
          "output_type": "stream",
          "text": [
            "Todas as datas estão no formato especificado.\n"
          ]
        }
      ],
      "source": [
        "# Especifique o formato desejado\n",
        "formato_desejado = '%Y-%m-%d %H:%M:%S'\n",
        "\n",
        "# Crie uma lista para armazenar datas fora do formato\n",
        "datas_fora_do_formato = []\n",
        "\n",
        "colunas_de_data = ['data_limite_envio', 'data_compra', 'data_aprovacao_pedido', 'data_entrega_transportadora', 'data_entrega_cliente', 'data_estimada_entrega']\n",
        "\n",
        "\n",
        "# Itere pelas colunas de data\n",
        "for coluna in colunas_de_data:\n",
        "    for idx, data in enumerate(relatorio_vendas[coluna]):\n",
        "        try:\n",
        "            # Tente converter a data para o formato desejado\n",
        "            pd.to_datetime(data, format=formato_desejado)\n",
        "        except ValueError:\n",
        "            # Se houver uma exceção, a data está fora do formato\n",
        "            datas_fora_do_formato.append((coluna, idx, data))\n",
        "\n",
        "# Verifique se há datas fora do formato\n",
        "if not datas_fora_do_formato:\n",
        "    print(\"Todas as datas estão no formato especificado.\")\n",
        "else:\n",
        "    # Exiba as datas fora do formato\n",
        "    for coluna, idx, data in datas_fora_do_formato:\n",
        "        print(f\"Coluna: {coluna}, Índice {idx}: Data fora do formato - {data}\")"
      ]
    },
    {
      "cell_type": "code",
      "execution_count": 171,
      "metadata": {
        "id": "UKm3UJXb93zZ"
      },
      "outputs": [],
      "source": [
        "relatorio_vendas.to_csv('../data/relatorio_vendas.csv', index=False)"
      ]
    },
    {
      "cell_type": "markdown",
      "metadata": {},
      "source": [
        "## 9.2 - DataFrame \"Pagamentos\" "
      ]
    },
    {
      "cell_type": "code",
      "execution_count": 172,
      "metadata": {},
      "outputs": [],
      "source": [
        "pagamentos.to_csv('../data/pagamentos.csv', index=False)"
      ]
    },
    {
      "cell_type": "markdown",
      "metadata": {},
      "source": [
        "## 9.3 - DataFrame \"Avaliacoes\""
      ]
    },
    {
      "cell_type": "code",
      "execution_count": 173,
      "metadata": {},
      "outputs": [],
      "source": [
        "avaliacoes.to_csv('../data/avaliacoes.csv', index=False)"
      ]
    }
  ],
  "metadata": {
    "colab": {
      "authorship_tag": "ABX9TyPOK79+Cck7u0EFkPfJydT1",
      "include_colab_link": true,
      "provenance": [],
      "toc_visible": true
    },
    "kernelspec": {
      "display_name": "Python 3",
      "name": "python3"
    },
    "language_info": {
      "codemirror_mode": {
        "name": "ipython",
        "version": 3
      },
      "file_extension": ".py",
      "mimetype": "text/x-python",
      "name": "python",
      "nbconvert_exporter": "python",
      "pygments_lexer": "ipython3",
      "version": "3.10.6"
    }
  },
  "nbformat": 4,
  "nbformat_minor": 0
}
