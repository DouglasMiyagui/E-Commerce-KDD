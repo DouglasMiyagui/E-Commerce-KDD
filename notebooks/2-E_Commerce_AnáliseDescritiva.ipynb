{
  "cells": [
    {
      "cell_type": "markdown",
      "metadata": {
        "id": "ADy5wJxQo3k6"
      },
      "source": [
        "<center>\n",
        "  <font color=red size=10>2 - Análise Descritiva</font>\n",
        "</center>"
      ]
    },
    {
      "cell_type": "markdown",
      "metadata": {
        "id": "FdYOpJLf09Zd"
      },
      "source": [
        "\n",
        " <font size=5>Nesta fase será apresentada estatísticas resumidas, gráficos informativos e insights iniciais sobre os principais atributos do conjunto de dados. Essa etapa permite obter uma compreensão geral da natureza dos dados, identificar tendências preliminares e iniciar o processo de geração de hipóteses para análises posteriores.</font>\n"
      ]
    },
    {
      "cell_type": "markdown",
      "metadata": {
        "id": "WH_qWxoMo3bC"
      },
      "source": [
        "# <font color=red>1 - Provisionamento</font>"
      ]
    },
    {
      "cell_type": "markdown",
      "metadata": {
        "id": "9FaE9oFio3SJ"
      },
      "source": [
        "## 1.1 - Instalar e importar dependências\n"
      ]
    },
    {
      "cell_type": "code",
      "execution_count": 1,
      "metadata": {
        "colab": {
          "base_uri": "https://localhost:8080/"
        },
        "id": "sNAnurTmpzrd",
        "outputId": "319363b7-d4a6-4807-c55e-36bf9840c705"
      },
      "outputs": [
        {
          "name": "stdout",
          "output_type": "stream",
          "text": [
            "Requirement already satisfied: pandas==2.0.1 in /Users/adelaide/E-Commerce/E-Commerce-KDD/venv/lib/python3.10/site-packages (2.0.1)\n",
            "Requirement already satisfied: pytz>=2020.1 in /Users/adelaide/E-Commerce/E-Commerce-KDD/venv/lib/python3.10/site-packages (from pandas==2.0.1) (2023.3.post1)\n",
            "Requirement already satisfied: tzdata>=2022.1 in /Users/adelaide/E-Commerce/E-Commerce-KDD/venv/lib/python3.10/site-packages (from pandas==2.0.1) (2023.3)\n",
            "Requirement already satisfied: numpy>=1.21.0 in /Users/adelaide/E-Commerce/E-Commerce-KDD/venv/lib/python3.10/site-packages (from pandas==2.0.1) (1.24.3)\n",
            "Requirement already satisfied: python-dateutil>=2.8.2 in /Users/adelaide/E-Commerce/E-Commerce-KDD/venv/lib/python3.10/site-packages (from pandas==2.0.1) (2.8.2)\n",
            "Requirement already satisfied: six>=1.5 in /Users/adelaide/E-Commerce/E-Commerce-KDD/venv/lib/python3.10/site-packages (from python-dateutil>=2.8.2->pandas==2.0.1) (1.16.0)\n",
            "\n",
            "\u001b[1m[\u001b[0m\u001b[34;49mnotice\u001b[0m\u001b[1;39;49m]\u001b[0m\u001b[39;49m A new release of pip available: \u001b[0m\u001b[31;49m22.2.1\u001b[0m\u001b[39;49m -> \u001b[0m\u001b[32;49m23.2.1\u001b[0m\n",
            "\u001b[1m[\u001b[0m\u001b[34;49mnotice\u001b[0m\u001b[1;39;49m]\u001b[0m\u001b[39;49m To update, run: \u001b[0m\u001b[32;49mpip install --upgrade pip\u001b[0m\n",
            "Requirement already satisfied: matplotlib==3.7.1 in /Users/adelaide/E-Commerce/E-Commerce-KDD/venv/lib/python3.10/site-packages (3.7.1)\n",
            "Requirement already satisfied: contourpy>=1.0.1 in /Users/adelaide/E-Commerce/E-Commerce-KDD/venv/lib/python3.10/site-packages (from matplotlib==3.7.1) (1.1.1)\n",
            "Requirement already satisfied: python-dateutil>=2.7 in /Users/adelaide/E-Commerce/E-Commerce-KDD/venv/lib/python3.10/site-packages (from matplotlib==3.7.1) (2.8.2)\n",
            "Requirement already satisfied: cycler>=0.10 in /Users/adelaide/E-Commerce/E-Commerce-KDD/venv/lib/python3.10/site-packages (from matplotlib==3.7.1) (0.11.0)\n",
            "Requirement already satisfied: pyparsing>=2.3.1 in /Users/adelaide/E-Commerce/E-Commerce-KDD/venv/lib/python3.10/site-packages (from matplotlib==3.7.1) (3.1.1)\n",
            "Requirement already satisfied: fonttools>=4.22.0 in /Users/adelaide/E-Commerce/E-Commerce-KDD/venv/lib/python3.10/site-packages (from matplotlib==3.7.1) (4.42.1)\n",
            "Requirement already satisfied: packaging>=20.0 in /Users/adelaide/E-Commerce/E-Commerce-KDD/venv/lib/python3.10/site-packages (from matplotlib==3.7.1) (23.1)\n",
            "Requirement already satisfied: pillow>=6.2.0 in /Users/adelaide/E-Commerce/E-Commerce-KDD/venv/lib/python3.10/site-packages (from matplotlib==3.7.1) (10.0.1)\n",
            "Requirement already satisfied: kiwisolver>=1.0.1 in /Users/adelaide/E-Commerce/E-Commerce-KDD/venv/lib/python3.10/site-packages (from matplotlib==3.7.1) (1.4.5)\n",
            "Requirement already satisfied: numpy>=1.20 in /Users/adelaide/E-Commerce/E-Commerce-KDD/venv/lib/python3.10/site-packages (from matplotlib==3.7.1) (1.24.3)\n",
            "Requirement already satisfied: six>=1.5 in /Users/adelaide/E-Commerce/E-Commerce-KDD/venv/lib/python3.10/site-packages (from python-dateutil>=2.7->matplotlib==3.7.1) (1.16.0)\n",
            "\n",
            "\u001b[1m[\u001b[0m\u001b[34;49mnotice\u001b[0m\u001b[1;39;49m]\u001b[0m\u001b[39;49m A new release of pip available: \u001b[0m\u001b[31;49m22.2.1\u001b[0m\u001b[39;49m -> \u001b[0m\u001b[32;49m23.2.1\u001b[0m\n",
            "\u001b[1m[\u001b[0m\u001b[34;49mnotice\u001b[0m\u001b[1;39;49m]\u001b[0m\u001b[39;49m To update, run: \u001b[0m\u001b[32;49mpip install --upgrade pip\u001b[0m\n",
            "Requirement already satisfied: numpy==1.24.3 in /Users/adelaide/E-Commerce/E-Commerce-KDD/venv/lib/python3.10/site-packages (1.24.3)\n",
            "\n",
            "\u001b[1m[\u001b[0m\u001b[34;49mnotice\u001b[0m\u001b[1;39;49m]\u001b[0m\u001b[39;49m A new release of pip available: \u001b[0m\u001b[31;49m22.2.1\u001b[0m\u001b[39;49m -> \u001b[0m\u001b[32;49m23.2.1\u001b[0m\n",
            "\u001b[1m[\u001b[0m\u001b[34;49mnotice\u001b[0m\u001b[1;39;49m]\u001b[0m\u001b[39;49m To update, run: \u001b[0m\u001b[32;49mpip install --upgrade pip\u001b[0m\n",
            "Requirement already satisfied: scikit-learn==1.3.1 in /Users/adelaide/E-Commerce/E-Commerce-KDD/venv/lib/python3.10/site-packages (1.3.1)\n",
            "Requirement already satisfied: joblib>=1.1.1 in /Users/adelaide/E-Commerce/E-Commerce-KDD/venv/lib/python3.10/site-packages (from scikit-learn==1.3.1) (1.3.2)\n",
            "Requirement already satisfied: numpy<2.0,>=1.17.3 in /Users/adelaide/E-Commerce/E-Commerce-KDD/venv/lib/python3.10/site-packages (from scikit-learn==1.3.1) (1.24.3)\n",
            "Requirement already satisfied: threadpoolctl>=2.0.0 in /Users/adelaide/E-Commerce/E-Commerce-KDD/venv/lib/python3.10/site-packages (from scikit-learn==1.3.1) (3.2.0)\n",
            "Requirement already satisfied: scipy>=1.5.0 in /Users/adelaide/E-Commerce/E-Commerce-KDD/venv/lib/python3.10/site-packages (from scikit-learn==1.3.1) (1.11.2)\n",
            "\n",
            "\u001b[1m[\u001b[0m\u001b[34;49mnotice\u001b[0m\u001b[1;39;49m]\u001b[0m\u001b[39;49m A new release of pip available: \u001b[0m\u001b[31;49m22.2.1\u001b[0m\u001b[39;49m -> \u001b[0m\u001b[32;49m23.2.1\u001b[0m\n",
            "\u001b[1m[\u001b[0m\u001b[34;49mnotice\u001b[0m\u001b[1;39;49m]\u001b[0m\u001b[39;49m To update, run: \u001b[0m\u001b[32;49mpip install --upgrade pip\u001b[0m\n",
            "Requirement already satisfied: seaborn==0.12.2 in /Users/adelaide/E-Commerce/E-Commerce-KDD/venv/lib/python3.10/site-packages (0.12.2)\n",
            "Requirement already satisfied: matplotlib!=3.6.1,>=3.1 in /Users/adelaide/E-Commerce/E-Commerce-KDD/venv/lib/python3.10/site-packages (from seaborn==0.12.2) (3.7.1)\n",
            "Requirement already satisfied: numpy!=1.24.0,>=1.17 in /Users/adelaide/E-Commerce/E-Commerce-KDD/venv/lib/python3.10/site-packages (from seaborn==0.12.2) (1.24.3)\n",
            "Requirement already satisfied: pandas>=0.25 in /Users/adelaide/E-Commerce/E-Commerce-KDD/venv/lib/python3.10/site-packages (from seaborn==0.12.2) (2.0.1)\n",
            "Requirement already satisfied: python-dateutil>=2.7 in /Users/adelaide/E-Commerce/E-Commerce-KDD/venv/lib/python3.10/site-packages (from matplotlib!=3.6.1,>=3.1->seaborn==0.12.2) (2.8.2)\n",
            "Requirement already satisfied: pyparsing>=2.3.1 in /Users/adelaide/E-Commerce/E-Commerce-KDD/venv/lib/python3.10/site-packages (from matplotlib!=3.6.1,>=3.1->seaborn==0.12.2) (3.1.1)\n",
            "Requirement already satisfied: packaging>=20.0 in /Users/adelaide/E-Commerce/E-Commerce-KDD/venv/lib/python3.10/site-packages (from matplotlib!=3.6.1,>=3.1->seaborn==0.12.2) (23.1)\n",
            "Requirement already satisfied: cycler>=0.10 in /Users/adelaide/E-Commerce/E-Commerce-KDD/venv/lib/python3.10/site-packages (from matplotlib!=3.6.1,>=3.1->seaborn==0.12.2) (0.11.0)\n",
            "Requirement already satisfied: pillow>=6.2.0 in /Users/adelaide/E-Commerce/E-Commerce-KDD/venv/lib/python3.10/site-packages (from matplotlib!=3.6.1,>=3.1->seaborn==0.12.2) (10.0.1)\n",
            "Requirement already satisfied: kiwisolver>=1.0.1 in /Users/adelaide/E-Commerce/E-Commerce-KDD/venv/lib/python3.10/site-packages (from matplotlib!=3.6.1,>=3.1->seaborn==0.12.2) (1.4.5)\n",
            "Requirement already satisfied: fonttools>=4.22.0 in /Users/adelaide/E-Commerce/E-Commerce-KDD/venv/lib/python3.10/site-packages (from matplotlib!=3.6.1,>=3.1->seaborn==0.12.2) (4.42.1)\n",
            "Requirement already satisfied: contourpy>=1.0.1 in /Users/adelaide/E-Commerce/E-Commerce-KDD/venv/lib/python3.10/site-packages (from matplotlib!=3.6.1,>=3.1->seaborn==0.12.2) (1.1.1)\n",
            "Requirement already satisfied: pytz>=2020.1 in /Users/adelaide/E-Commerce/E-Commerce-KDD/venv/lib/python3.10/site-packages (from pandas>=0.25->seaborn==0.12.2) (2023.3.post1)\n",
            "Requirement already satisfied: tzdata>=2022.1 in /Users/adelaide/E-Commerce/E-Commerce-KDD/venv/lib/python3.10/site-packages (from pandas>=0.25->seaborn==0.12.2) (2023.3)\n",
            "Requirement already satisfied: six>=1.5 in /Users/adelaide/E-Commerce/E-Commerce-KDD/venv/lib/python3.10/site-packages (from python-dateutil>=2.7->matplotlib!=3.6.1,>=3.1->seaborn==0.12.2) (1.16.0)\n",
            "\n",
            "\u001b[1m[\u001b[0m\u001b[34;49mnotice\u001b[0m\u001b[1;39;49m]\u001b[0m\u001b[39;49m A new release of pip available: \u001b[0m\u001b[31;49m22.2.1\u001b[0m\u001b[39;49m -> \u001b[0m\u001b[32;49m23.2.1\u001b[0m\n",
            "\u001b[1m[\u001b[0m\u001b[34;49mnotice\u001b[0m\u001b[1;39;49m]\u001b[0m\u001b[39;49m To update, run: \u001b[0m\u001b[32;49mpip install --upgrade pip\u001b[0m\n"
          ]
        }
      ],
      "source": [
        "!pip install pandas==2.0.1\n",
        "!pip install matplotlib==3.7.1\n",
        "!pip install numpy==1.24.3\n",
        "!pip install scikit-learn==1.3.1\n",
        "!pip install seaborn==0.12.2"
      ]
    },
    {
      "cell_type": "code",
      "execution_count": 3,
      "metadata": {
        "id": "zjAmo-aUqUu9"
      },
      "outputs": [],
      "source": [
        "import pandas as pd\n",
        "import numpy as np\n",
        "import matplotlib.pyplot as plt\n",
        "import seaborn as sns\n",
        "import sys"
      ]
    },
    {
      "cell_type": "code",
      "execution_count": 4,
      "metadata": {
        "colab": {
          "base_uri": "https://localhost:8080/"
        },
        "id": "Omyg39VFqZPy",
        "outputId": "ddec496e-4d40-4cd8-8b21-d0e7a9a2b23e"
      },
      "outputs": [
        {
          "name": "stdout",
          "output_type": "stream",
          "text": [
            "Versão do python -> 3.10.6 (v3.10.6:9c7b4bd164, Aug  1 2022, 17:13:48) [Clang 13.0.0 (clang-1300.0.29.30)]\n",
            "Versão do pandas -> 2.0.1\n",
            "Versão do numpy -> 1.24.3\n",
            "Versão do matplotlib -> 3.7.1\n",
            "Versão do seaborn -> 0.12.2\n"
          ]
        }
      ],
      "source": [
        "print('Versão do python -> %s' % sys.version)\n",
        "print('Versão do pandas -> %s' % pd.__version__)\n",
        "print('Versão do numpy -> %s' % np.__version__)\n",
        "print('Versão do matplotlib -> %s' % plt.matplotlib.__version__)\n",
        "print('Versão do seaborn -> %s' % sns.__version__)"
      ]
    },
    {
      "cell_type": "markdown",
      "metadata": {
        "id": "N08FWfCPo3Ex"
      },
      "source": [
        "## 1.2 - Carregamento do arquivo"
      ]
    },
    {
      "cell_type": "code",
      "execution_count": 5,
      "metadata": {
        "id": "hCk0SKtwrxm7"
      },
      "outputs": [],
      "source": [
        "dados = pd.read_csv('../data/relatorio_vendas.csv')"
      ]
    },
    {
      "cell_type": "markdown",
      "metadata": {},
      "source": [
        "## 1.3 - Transformar as colunas com datas para o formato datetime"
      ]
    },
    {
      "cell_type": "code",
      "execution_count": 6,
      "metadata": {
        "id": "C2lzn16HG5Go"
      },
      "outputs": [],
      "source": [
        "colunas_data = ['data_limite_envio', 'data_compra', 'data_aprovacao_pedido', 'data_entrega_transportadora', 'data_entrega_cliente', 'data_estimada_entrega', 'avaliacao_data', 'avaliacao_data_resposta']\n",
        "for coluna in colunas_data:\n",
        "    dados[coluna] = pd.to_datetime(dados[coluna], format='ISO8601')\n"
      ]
    },
    {
      "cell_type": "markdown",
      "metadata": {
        "id": "s1KQj9MPsO0N"
      },
      "source": [
        "# <font color=red>2 - Conhecendo os dados</font>"
      ]
    },
    {
      "cell_type": "markdown",
      "metadata": {
        "id": "8sjyG9DkscZV"
      },
      "source": [
        "## 2.1 - Dataset do projeto"
      ]
    },
    {
      "cell_type": "markdown",
      "metadata": {
        "id": "XvAP15x2strx"
      },
      "source": [
        "<font color=red size=6> Brazilian E-Commerce Public Dataset by Olist</font>\n",
        "\n",
        "O <b>Conjunto de Dados Públicos de E-Commerce Brasileiro da Olist</b> é um conjunto de dados públicos de e-commerce brasileiro com pedidos feitos na loja Olist. O conjunto de dados contém informações de 100 mil pedidos feitos de 2016 a 2018 em diversos marketplaces no Brasil. Suas características permitem visualizar um pedido de várias perspectivas: pelo preço, pagamento e desempenho de frete até a localização do cliente, atributos do produto e, finalmente, avaliações escritas pelos clientes.\n",
        "\n",
        "Estes são dados comerciais reais, foram anonimizados, e as referências às empresas e parceiros no texto das avaliações foram substituídas pelos nomes das grandes casas de Game of Thrones."
      ]
    },
    {
      "cell_type": "markdown",
      "metadata": {
        "id": "anWtmSFzzTbb"
      },
      "source": [
        "<font size=4>Fonte dos Dados</font>\n",
        "\n",
        "https://www.kaggle.com/datasets/olistbr/brazilian-ecommerce?select=olist_order_items_dataset.csv"
      ]
    },
    {
      "cell_type": "markdown",
      "metadata": {
        "id": "JDKo_VzEADpP"
      },
      "source": [
        "## 2.2 - Tipos dos dados"
      ]
    },
    {
      "cell_type": "markdown",
      "metadata": {
        "id": "hSyNd0inGm78"
      },
      "source": [
        "**Qualitativos Nominais:**\n",
        "\n",
        "- **pedido_id:** Identificador único para cada pedido.\n",
        "- **avaliacao_id:** Identificador único para cada avaliação.\n",
        "- **produto_id:** Identificador único para cada produto.\n",
        "- **vendedor_id:** Identificador único para cada vendedor.\n",
        "- **cliente_id:** Identificador único para cada cliente.\n",
        "- **cliente_id_unico:** Identificador único do cliente.\n",
        "- **pagamento_forma:** Forma de pagamento utilizada pelo cliente.\n",
        "- **pagamento_forma_ref:** Referência da forma de pagamento.\n",
        "- **produto_categoria:** Categoria do produto.\n",
        "- **produto_categoria_ref:** Referência da categoria do produto.\n",
        "- **produto:** Nome do produto.\n",
        "- **cliente_cep:** CEP (Código de Endereçamento Postal) do cliente.\n",
        "- **cliente_cidade:** Cidade do cliente.\n",
        "- **cliente_cidade_ref:** Referência da cidade do cliente.\n",
        "- **cliente_estado:** Estado do cliente.\n",
        "- **cliente_estado_ref:** Referência do estado do cliente.\n",
        "- **cliente_regiao:** Região do cliente.\n",
        "- **cliente_regiao_ref:** Referência da região do cliente.\n",
        "- **vendedor_cep:** CEP do vendedor.\n",
        "- **vendedor_cidade:** Cidade do vendedor.\n",
        "- **vendedor_cidade_ref:** Referência da cidade do vendedor.\n",
        "- **vendedor_estado:** Estado do vendedor.\n",
        "- **vendedor_estado_ref:** Referência do estado do vendedor.\n",
        "- **vendedor_regiao:** Região do vendedor.\n",
        "- **vendedor_regiao_ref:** Referência da região do vendedor.\n",
        "\n",
        "**Qualitativos Ordinais:**\n",
        "\n",
        "- **pagamento_sequencia:** Sequência de pagamento.\n",
        "- **avaliacao_pontuacao:** Pontuação atribuída à avaliação (pode ser de 1 a 5, por exemplo).\n",
        "\n",
        "**Quantitativos Contínuos:**\n",
        "\n",
        "- **preco:** Preço do produto.\n",
        "- **frete:** Valor do frete.\n",
        "- **cliente_lat:** Latitude do cliente.\n",
        "- **cliente_lon:** Longitude do cliente.\n",
        "- **vendedor_lat:** Latitude do vendedor.\n",
        "- **vendedor_lon:** Longitude do vendedor.\n",
        "- **data_limite_envio:** Data limite para o envio do pedido.\n",
        "- **data_compra:** Data da compra.\n",
        "- **data_aprovacao_pedido:** Data de aprovação do pedido.\n",
        "- **data_entrega_transportadora:** Data de entrega à transportadora.\n",
        "- **data_entrega_cliente:** Data de entrega ao cliente.\n",
        "- **data_estimada_entrega:** Data estimada de entrega.\n",
        "- **avaliacao_data:** Data da avaliação.\n",
        "- **avaliacao_data_resposta:** Data de resposta à avaliação.\n",
        "\n",
        "**Quantitativos Discretos:**\n",
        "\n",
        "- **quantidade:** Quantidade de produtos no pedido.\n",
        "- **pagamento_parcelas:** Número de parcelas do pagamento."
      ]
    },
    {
      "cell_type": "code",
      "execution_count": null,
      "metadata": {
        "colab": {
          "base_uri": "https://localhost:8080/"
        },
        "id": "Xn4yN3kqr_Nb",
        "outputId": "46f8a942-5c4f-41c0-aa37-75b3ba465eee"
      },
      "outputs": [
        {
          "name": "stdout",
          "output_type": "stream",
          "text": [
            "<class 'pandas.core.frame.DataFrame'>\n",
            "RangeIndex: 114855 entries, 0 to 114854\n",
            "Data columns (total 46 columns):\n",
            " #   Column                       Non-Null Count   Dtype         \n",
            "---  ------                       --------------   -----         \n",
            " 0   pedido_id                    114855 non-null  object        \n",
            " 1   quantidade                   114855 non-null  int64         \n",
            " 2   produto_id                   114855 non-null  object        \n",
            " 3   vendedor_id                  114855 non-null  object        \n",
            " 4   data_limite_envio            114855 non-null  datetime64[ns]\n",
            " 5   preco                        114855 non-null  float64       \n",
            " 6   frete                        114855 non-null  float64       \n",
            " 7   cliente_id                   114855 non-null  object        \n",
            " 8   data_compra                  114855 non-null  datetime64[ns]\n",
            " 9   data_aprovacao_pedido        114855 non-null  datetime64[ns]\n",
            " 10  data_entrega_transportadora  114855 non-null  datetime64[ns]\n",
            " 11  data_entrega_cliente         114855 non-null  datetime64[ns]\n",
            " 12  data_estimada_entrega        114855 non-null  datetime64[ns]\n",
            " 13  pagamento_sequencia          114855 non-null  int64         \n",
            " 14  pagamento_forma              114855 non-null  object        \n",
            " 15  pagamento_parcelas           114855 non-null  int64         \n",
            " 16  pagamento_valor              114855 non-null  float64       \n",
            " 17  pagamento_forma_ref          114855 non-null  int64         \n",
            " 18  avaliacao_id                 114855 non-null  object        \n",
            " 19  avaliacao_pontuacao          114855 non-null  int64         \n",
            " 20  avaliacao_titulo             13584 non-null   object        \n",
            " 21  avaliacao_comentario         48091 non-null   object        \n",
            " 22  avaliacao_data               114855 non-null  datetime64[ns]\n",
            " 23  avaliacao_data_resposta      114855 non-null  datetime64[ns]\n",
            " 24  produto_categoria            114855 non-null  object        \n",
            " 25  produto                      114855 non-null  object        \n",
            " 26  produto_categoria_ref        114855 non-null  int64         \n",
            " 27  cliente_id_unico             114855 non-null  object        \n",
            " 28  cliente_cep                  114855 non-null  int64         \n",
            " 29  cliente_cidade               114855 non-null  object        \n",
            " 30  cliente_cidade_ref           114855 non-null  int64         \n",
            " 31  cliente_estado               114855 non-null  object        \n",
            " 32  cliente_estado_ref           114855 non-null  int64         \n",
            " 33  cliente_regiao               114855 non-null  object        \n",
            " 34  cliente_regiao_ref           114855 non-null  int64         \n",
            " 35  cliente_lat                  114855 non-null  float64       \n",
            " 36  cliente_lon                  114855 non-null  float64       \n",
            " 37  vendedor_cep                 114855 non-null  int64         \n",
            " 38  vendedor_cidade              114855 non-null  object        \n",
            " 39  vendedor_cidade_ref          114855 non-null  int64         \n",
            " 40  vendedor_estado              114855 non-null  object        \n",
            " 41  vendedor_estado_ref          114855 non-null  int64         \n",
            " 42  vendedor_regiao              114855 non-null  object        \n",
            " 43  vendedor_regiao_ref          114855 non-null  int64         \n",
            " 44  vendedor_lat                 114855 non-null  float64       \n",
            " 45  vendedor_lon                 114855 non-null  float64       \n",
            "dtypes: datetime64[ns](8), float64(7), int64(14), object(17)\n",
            "memory usage: 40.3+ MB\n"
          ]
        }
      ],
      "source": [
        "dados.info()"
      ]
    },
    {
      "cell_type": "code",
      "execution_count": null,
      "metadata": {
        "id": "bO4Bp5BNBP2Z"
      },
      "outputs": [],
      "source": []
    }
  ],
  "metadata": {
    "colab": {
      "provenance": []
    },
    "kernelspec": {
      "display_name": "Python 3",
      "name": "python3"
    },
    "language_info": {
      "codemirror_mode": {
        "name": "ipython",
        "version": 3
      },
      "file_extension": ".py",
      "mimetype": "text/x-python",
      "name": "python",
      "nbconvert_exporter": "python",
      "pygments_lexer": "ipython3",
      "version": "3.10.6"
    }
  },
  "nbformat": 4,
  "nbformat_minor": 0
}
