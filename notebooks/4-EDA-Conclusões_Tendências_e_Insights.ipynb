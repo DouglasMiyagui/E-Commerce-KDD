{
 "cells": [
  {
   "cell_type": "markdown",
   "metadata": {},
   "source": [
    "<center>\n",
    "  <font color=red size=10>4 - EDA - Conclusões, Tendências e Insights</font>\n",
    "</center>"
   ]
  },
  {
   "cell_type": "markdown",
   "metadata": {},
   "source": [
    "No quarto notebook, será consolidada todas as informações e insights coletados durante as etapas anteriores de análise, será apresentado gráficos, tabelas e conclusões que ajudarão a contar a história dos dados de forma clara e eficaz. Este é um ponto crítico para comunicar de maneira persuasiva as descobertas e insights que foram extraídos. Serão listados os modelos específicos a serem implementados na próxima fase, alinhando-os cuidadosamente com os objetivos do projeto e as nuances dos dados, preparando o terreno para a fase de modelagem."
   ]
  },
  {
   "cell_type": "markdown",
   "metadata": {},
   "source": [
    "# <font color=red>1 - Provisionamento</font>"
   ]
  },
  {
   "cell_type": "markdown",
   "metadata": {},
   "source": [
    "## 1.1 - Instalar e importar dependências"
   ]
  },
  {
   "cell_type": "markdown",
   "metadata": {},
   "source": [
    "As instalações das bibliotecas estão comentadas pois estão sendo instaladas em um ambiente virtual onde são executados os notebooks."
   ]
  },
  {
   "cell_type": "code",
   "execution_count": null,
   "metadata": {},
   "outputs": [],
   "source": [
    "# !pip install pandas==2.0.1\n",
    "# !pip install matplotlib==3.7.1\n",
    "# !pip install numpy==1.24.3\n",
    "# !pip install scikit-learn==1.3.1\n",
    "# !pip install seaborn==0.12.2\n",
    "# !pip install folium==0.14.0"
   ]
  },
  {
   "cell_type": "code",
   "execution_count": 1,
   "metadata": {},
   "outputs": [],
   "source": [
    "import pandas as pd\n",
    "import numpy as np\n",
    "import matplotlib.pyplot as plt\n",
    "import matplotlib.colors as mcolors\n",
    "import seaborn as sns\n",
    "import sys\n",
    "import folium\n",
    "from folium import Marker\n",
    "from folium.plugins import MarkerCluster\n",
    "import random\n",
    "import time\n",
    "from matplotlib.cm import ScalarMappable"
   ]
  },
  {
   "cell_type": "code",
   "execution_count": 2,
   "metadata": {},
   "outputs": [
    {
     "name": "stdout",
     "output_type": "stream",
     "text": [
      "Versão do python -> 3.10.6 (v3.10.6:9c7b4bd164, Aug  1 2022, 17:13:48) [Clang 13.0.0 (clang-1300.0.29.30)]\n",
      "Versão do pandas -> 2.0.1\n",
      "Versão do numpy -> 1.24.3\n",
      "Versão do matplotlib -> 3.7.1\n",
      "Versão do seaborn -> 0.12.2\n",
      "Versão do folium -> 0.14.0\n"
     ]
    }
   ],
   "source": [
    "print('Versão do python -> %s' % sys.version)\n",
    "print('Versão do pandas -> %s' % pd.__version__)\n",
    "print('Versão do numpy -> %s' % np.__version__)\n",
    "print('Versão do matplotlib -> %s' % plt.matplotlib.__version__)\n",
    "print('Versão do seaborn -> %s' % sns.__version__)\n",
    "print('Versão do folium -> %s' % folium.__version__)"
   ]
  },
  {
   "cell_type": "markdown",
   "metadata": {},
   "source": [
    "## 1.2 - Carregamento dos arquivos"
   ]
  },
  {
   "cell_type": "code",
   "execution_count": 3,
   "metadata": {},
   "outputs": [],
   "source": [
    "pagamentos = pd.read_csv('../data/pagamentos.csv')\n",
    "avaliacoes = pd.read_csv('../data/avaliacoes.csv')\n",
    "relatorio_vendas = pd.read_csv('../data/relatorio_vendas.csv')"
   ]
  },
  {
   "cell_type": "markdown",
   "metadata": {},
   "source": [
    "## 1.3 - Transformar as colunas com datas para o formato datetime"
   ]
  },
  {
   "cell_type": "code",
   "execution_count": 4,
   "metadata": {},
   "outputs": [],
   "source": [
    "colunas_data = ['data_limite_envio', 'data_compra', 'data_aprovacao_pedido', 'data_entrega_transportadora', 'data_entrega_cliente', 'data_estimada_entrega']\n",
    "for coluna in colunas_data:\n",
    "    relatorio_vendas[coluna] = pd.to_datetime(relatorio_vendas[coluna], format='ISO8601')"
   ]
  },
  {
   "cell_type": "code",
   "execution_count": 5,
   "metadata": {},
   "outputs": [],
   "source": [
    "avaliacoes['avaliacao_data'] = pd.to_datetime(avaliacoes['avaliacao_data'], format='ISO8601')\n",
    "avaliacoes['avaliacao_data_resposta'] = pd.to_datetime(avaliacoes['avaliacao_data_resposta'], format='ISO8601')"
   ]
  },
  {
   "cell_type": "markdown",
   "metadata": {},
   "source": [
    "# <font color=red>2 - Avaliações</font>"
   ]
  },
  {
   "cell_type": "markdown",
   "metadata": {},
   "source": [
    "# <font color=red>3 - Pagamentos</font>"
   ]
  },
  {
   "cell_type": "markdown",
   "metadata": {},
   "source": [
    "# <font color=red>4 - Clientes</font>"
   ]
  },
  {
   "cell_type": "markdown",
   "metadata": {},
   "source": [
    "# <font color=red>5 - Vendedores</font>"
   ]
  },
  {
   "cell_type": "markdown",
   "metadata": {},
   "source": [
    "# <font color=red>6 - Produtos</font>"
   ]
  },
  {
   "cell_type": "markdown",
   "metadata": {},
   "source": [
    "# <font color=red>7 - Análises Temporais</font>"
   ]
  },
  {
   "cell_type": "markdown",
   "metadata": {},
   "source": [
    "# <font color=red>8 - Modelos de Machine Learning</font>"
   ]
  },
  {
   "cell_type": "markdown",
   "metadata": {},
   "source": [
    "## 8.1 - Modelo de Processamento de Linguagem Natural (NLP)"
   ]
  },
  {
   "cell_type": "markdown",
   "metadata": {},
   "source": [
    "### 8.1.1 - Análise de Sentimentos nas Avaliações"
   ]
  },
  {
   "cell_type": "markdown",
   "metadata": {},
   "source": [
    "Considere a criação de um modelo para analisar o sentimento nas avaliações dos clientes. Isso pode ser útil para identificar tendências gerais de satisfação do cliente ao longo do tempo."
   ]
  },
  {
   "cell_type": "markdown",
   "metadata": {},
   "source": [
    "Modelos como Naive Bayes, SVM ou Redes Neurais podem ser utilizados."
   ]
  },
  {
   "cell_type": "markdown",
   "metadata": {},
   "source": [
    "## 8.2 - Modelo de Regressão"
   ]
  },
  {
   "cell_type": "markdown",
   "metadata": {},
   "source": [
    "### 5.2.1 - Previsão de Vendas"
   ]
  },
  {
   "cell_type": "markdown",
   "metadata": {},
   "source": [
    "construir um modelo de regressão para prever as vendas com base em variáveis como preço do produto, método de pagamento, região do cliente, etc. Isso pode ajudar a entender quais fatores têm maior impacto nas vendas."
   ]
  },
  {
   "cell_type": "markdown",
   "metadata": {},
   "source": [
    "Utilize modelos de regressão, como Regressão Linear, Regressão de Ridge, Lasso, ou até mesmo modelos mais avançados como Regressão não linear.\n",
    "Considere a previsão de vendas totais, bem como segmentações específicas (por categoria de produto, região, etc.)."
   ]
  },
  {
   "cell_type": "markdown",
   "metadata": {},
   "source": [
    "Regressão: Regressão Linear para Preço do Produto\n",
    "Variável Alvo: preco (Preço do produto, variável contínua).\n",
    "Features: Pode usar várias features como produto_categoria, frete, pagamento_forma, etc.\n",
    "Objetivo: Prever o preço do produto com base em suas características."
   ]
  },
  {
   "cell_type": "code",
   "execution_count": null,
   "metadata": {},
   "outputs": [],
   "source": [
    "from sklearn.linear_model import LinearRegression\n",
    "from sklearn.metrics import mean_squared_error\n",
    "import numpy as np\n",
    "\n",
    "# Seleção de features e target\n",
    "features = ['produto_categoria', 'frete', 'pagamento_forma']\n",
    "target = 'preco'\n",
    "\n",
    "# Tratamento de variáveis categóricas\n",
    "# ...\n",
    "\n",
    "# Divisão dos dados em conjunto de treinamento e teste\n",
    "X_train, X_test, y_train, y_test = train_test_split(df[features], df[target], test_size=0.2, random_state=42)\n",
    "\n",
    "# Inicialização do modelo\n",
    "regressor = LinearRegression()\n",
    "\n",
    "# Treinamento do modelo\n",
    "regressor.fit(X_train, y_train)\n",
    "\n",
    "# Previsões\n",
    "predictions = regressor.predict(X_test)\n",
    "\n",
    "# Avaliação do desempenho\n",
    "mse = mean_squared_error(y_test, predictions)\n",
    "rmse = np.sqrt(mse)\n",
    "print(f'RMSE: {rmse}')"
   ]
  },
  {
   "cell_type": "markdown",
   "metadata": {},
   "source": [
    "## 8.3 - Modelo de Classificação"
   ]
  },
  {
   "cell_type": "markdown",
   "metadata": {},
   "source": [
    "### 5.3.1 - Tempo de Entrega Antecipado ou Atrasado"
   ]
  },
  {
   "cell_type": "markdown",
   "metadata": {},
   "source": [
    "Crie um modelo para prever se um pedido será entregue antes ou após a data estimada de entrega. Isso pode ajudar a identificar padrões nos prazos de entrega."
   ]
  },
  {
   "cell_type": "markdown",
   "metadata": {},
   "source": [
    "### 5.3.2 - "
   ]
  },
  {
   "cell_type": "markdown",
   "metadata": {},
   "source": [
    "Modelos como Naive Bayes, SVM ou Redes Neurais podem ser utilizados."
   ]
  },
  {
   "cell_type": "markdown",
   "metadata": {},
   "source": [
    "Se as avaliações dos clientes incluem informações suficientes, você pode construir um modelo de análise de sentimento usando técnicas de processamento de linguagem natural (NLP)."
   ]
  },
  {
   "cell_type": "markdown",
   "metadata": {},
   "source": [
    "### 5.3.3 - Classificação de Clientes"
   ]
  },
  {
   "cell_type": "markdown",
   "metadata": {},
   "source": [
    "Crie um modelo para classificar os clientes com base em seu comportamento de compra. Modelos de classificação, como Random Forest, Support Vector Machines (SVM) ou Redes Neurais, podem ser úteis."
   ]
  },
  {
   "cell_type": "markdown",
   "metadata": {},
   "source": [
    "Classificação: Random Forest para Avaliação de Clientes\n",
    "Variável Alvo: avaliacao_nota (Avaliação dada pelos clientes, variável ordinal).\n",
    "Features: Pode usar várias features como pagamento_forma, produto_categoria, frete, preco, etc.\n",
    "Objetivo: Prever a nota de avaliação dada pelos clientes com base em várias características do pedido."
   ]
  },
  {
   "cell_type": "code",
   "execution_count": null,
   "metadata": {},
   "outputs": [],
   "source": [
    "from sklearn.ensemble import RandomForestClassifier\n",
    "from sklearn.model_selection import train_test_split\n",
    "from sklearn.metrics import accuracy_score\n",
    "\n",
    "# Seleção de features e target\n",
    "features = ['pagamento_forma', 'produto_categoria', 'frete', 'preco']\n",
    "target = 'avaliacao_nota'\n",
    "\n",
    "# Tratamento de variáveis categóricas\n",
    "# ...\n",
    "\n",
    "# Divisão dos dados em conjunto de treinamento e teste\n",
    "X_train, X_test, y_train, y_test = train_test_split(df[features], df[target], test_size=0.2, random_state=42)\n",
    "\n",
    "# Inicialização do modelo\n",
    "clf = RandomForestClassifier(n_estimators=100, random_state=42)\n",
    "\n",
    "# Treinamento do modelo\n",
    "clf.fit(X_train, y_train)\n",
    "\n",
    "# Previsões\n",
    "predictions = clf.predict(X_test)\n",
    "\n",
    "# Avaliação do desempenho\n",
    "accuracy = accuracy_score(y_test, predictions)\n",
    "print(f'Acurácia: {accuracy}')\n"
   ]
  },
  {
   "cell_type": "markdown",
   "metadata": {},
   "source": [
    "## 8.4 - Algoritmo de Clusterização"
   ]
  },
  {
   "cell_type": "markdown",
   "metadata": {},
   "source": [
    "### 5.4.1 - Segmentação de Clientes"
   ]
  },
  {
   "cell_type": "markdown",
   "metadata": {},
   "source": [
    "Use técnicas de clusterização para segmentar os clientes com base em seu comportamento de compra, preferências de produtos, etc. Isso pode ajudar a personalizar estratégias de marketing."
   ]
  },
  {
   "cell_type": "markdown",
   "metadata": {},
   "source": [
    "Agrupe clientes, produtos ou pedidos semelhantes usando algoritmos de clustering, como K-Means ou DBSCAN. Isso pode ajudar a identificar padrões ocultos nos dados."
   ]
  },
  {
   "cell_type": "markdown",
   "metadata": {},
   "source": [
    "Clustering: K-Means para Agrupamento de Produtos\n",
    "Features: preco e frete.\n",
    "Objetivo: Agrupar produtos semelhantes com base em preço e frete."
   ]
  },
  {
   "cell_type": "code",
   "execution_count": null,
   "metadata": {},
   "outputs": [],
   "source": [
    "from sklearn.cluster import KMeans\n",
    "import matplotlib.pyplot as plt\n",
    "\n",
    "# Seleção de features\n",
    "features = ['preco', 'frete']\n",
    "\n",
    "# Tratamento de variáveis categóricas\n",
    "# ...\n",
    "\n",
    "# Normalização dos dados\n",
    "# ...\n",
    "\n",
    "# Inicialização do modelo\n",
    "kmeans = KMeans(n_clusters=3, random_state=42)\n",
    "\n",
    "# Treinamento do modelo\n",
    "kmeans.fit(df[features])\n",
    "\n",
    "# Adição de rótulos de clusters aos dados\n",
    "df['cluster'] = kmeans.labels_\n",
    "\n",
    "# Visualização dos clusters\n",
    "plt.scatter(df['preco'], df['frete'], c=df['cluster'], cmap='viridis')\n",
    "plt.xlabel('Preço')\n",
    "plt.ylabel('Frete')\n",
    "plt.title('Agrupamento de Produtos')\n",
    "plt.show()"
   ]
  },
  {
   "cell_type": "markdown",
   "metadata": {},
   "source": [
    "## 8.5 - Modelo de Anomalia"
   ]
  },
  {
   "cell_type": "markdown",
   "metadata": {},
   "source": [
    "Identifique padrões anômalos nos dados que podem indicar fraudes ou comportamentos incomuns."
   ]
  },
  {
   "cell_type": "markdown",
   "metadata": {},
   "source": [
    "Implemente modelos para detectar anomalias em transações, como detecção de fraude. Algoritmos de Isolation Forest, One-Class SVM ou métodos baseados em autoencoder podem ser úteis."
   ]
  },
  {
   "cell_type": "markdown",
   "metadata": {},
   "source": [
    "## 8.6 - Modelo de Recomendação"
   ]
  },
  {
   "cell_type": "markdown",
   "metadata": {},
   "source": [
    "Desenvolva um sistema de recomendação para sugerir produtos com base no histórico de compras do cliente.\n",
    "Se você possui dados suficientes sobre as preferências dos clientes, pode explorar modelos de recomendação, como Sistemas de Recomendação baseados em conteúdo, Filtragem Colaborativa ou Modelos Híbridos."
   ]
  },
  {
   "cell_type": "markdown",
   "metadata": {},
   "source": [
    "## 8.7 - Modelo de Séries Temporais"
   ]
  },
  {
   "cell_type": "markdown",
   "metadata": {},
   "source": [
    "Se você tem dados temporais, como vendas diárias, pode explorar modelos de séries temporais, como SARIMA, LSTM (Redes Neurais Recorrentes), ou modelos mais simples, dependendo da sazonalidade dos dados."
   ]
  },
  {
   "cell_type": "markdown",
   "metadata": {},
   "source": [
    "# Previsões:"
   ]
  },
  {
   "cell_type": "markdown",
   "metadata": {},
   "source": [
    "Use métodos estatísticos ou machine learning para prever vendas futuras, demanda de produtos ou comportamentos de compra dos clientes."
   ]
  },
  {
   "cell_type": "markdown",
   "metadata": {},
   "source": [
    "\n",
    "5.14 Modelos de Machine Learning para Análises Preditivas\n",
    "Esta seção introduzirá os modelos de aprendizado de máquina que serão explorados na próxima fase do projeto, com o intuito de realizar previsões com base nos insights adquiridos.\n",
    "\n",
    "5.14.1 Modelos de Séries Temporais\n",
    "ARIMA/SARIMA: Modelos ideais para previsão de vendas e demanda de produtos, assumindo uma tendência e sazonalidade estável.\n",
    "Prophet: Uma ferramenta poderosa para lidar com séries temporais que têm múltiplas sazonalidades e feriados.\n",
    "Holt-Winters: Adequado para séries com tendências e sazonalidades bem definidas.\n",
    "5.14.2 Modelos de Aprendizado de Máquina\n",
    "Random Forest: Um modelo robusto para capturar relações não-lineares e interações entre variáveis.\n",
    "Gradient Boosting Machines (GBM): Eficaz para obter previsões de alto desempenho, com a capacidade de lidar com dados não-lineares complexos.\n",
    "Redes Neurais Recorrentes (RNN): Especialmente Long Short-Term Memory (LSTM), são excelentes para prever dados sequenciais como séries temporais.\n",
    "5.14.3 Modelos de Deep Learning\n",
    "CNN-LSTM: Combinação de redes convolucionais e LSTM para capturar padrões temporais em dados de séries de tempo.\n",
    "Transformer Models: Utilização de atenção para modelar dependências de longo alcance em dados temporais.\n",
    "5.14.4 Avaliação e Otimização de Modelos\n",
    "Cross-Validation: Técnica para avaliar a generalização dos modelos preditivos.\n",
    "Hyperparameter Tuning: Otimização dos parâmetros dos modelos para maximizar a performance.\n",
    "Feature Engineering: Melhorar o desempenho do modelo criando novos recursos a partir dos dados existentes.\n",
    "5.14.5 Implementação Prática\n",
    "Pipeline de Dados: Preparação dos dados para alimentar os modelos de forma eficiente.\n",
    "Model Deployment: Estratégias para colocar os modelos em produção.\n",
    "Model Monitoring: Monitoramento e manutenção do desempenho do modelo ao longo do tempo.\n",
    "Quanto aos modelos que você poderia fazer com base nas análises acima, aqui estão algumas sugestões:\n",
    "\n",
    "Modelos de Séries Temporais:\n",
    "\n",
    "ARIMA ou SARIMA para previsão de demanda baseada em tendências e sazonalidade.\n",
    "Prophet para prever vendas, capturando efeitos de feriados e eventos especiais.\n",
    "Modelos Supervisionados:\n",
    "\n",
    "Random Forest ou GBM para prever a satisfação do cliente (avaliação nota) com base em variáveis como tempo de entrega, preço e valor do frete.\n",
    "Regressão Logística para classificar a probabilidade de recompra com base na recorrência de compras e avaliações dos clientes.\n",
    "Redes Neurais:\n",
    "\n",
    "LSTM para capturar padrões complexos em séries temporais de vendas ou para prever a demanda futura de produtos.\n",
    "CNNs para reconhecimento de padrões em séries temporais com alta dimensionalidade.\n",
    "Modelos Híbridos:\n",
    "\n",
    "Modelos que combinam técnicas estatísticas clássicas com métodos de aprendizado de máquina para melhorar a precisão das previsões.\n",
    "Lembre-se de que a seleção de um modelo específico deve ser baseada na natureza dos dados, na complexidade do problema e na disponibilidade de recursos computacionais. É comum começar com modelos mais simples e aumentar a complexidade conforme necessário."
   ]
  },
  {
   "cell_type": "markdown",
   "metadata": {},
   "source": []
  }
 ],
 "metadata": {
  "kernelspec": {
   "display_name": "venv",
   "language": "python",
   "name": "python3"
  },
  "language_info": {
   "codemirror_mode": {
    "name": "ipython",
    "version": 3
   },
   "file_extension": ".py",
   "mimetype": "text/x-python",
   "name": "python",
   "nbconvert_exporter": "python",
   "pygments_lexer": "ipython3",
   "version": "3.10.6"
  },
  "orig_nbformat": 4
 },
 "nbformat": 4,
 "nbformat_minor": 2
}
